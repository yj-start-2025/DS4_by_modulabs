{
  "cells": [
    {
      "cell_type": "markdown",
      "id": "30b34ff6",
      "metadata": {
        "id": "30b34ff6"
      },
      "source": [
        "## DL05 - 텍스트데이터 다루기\n",
        "- 노드13 : 텍스트의 다양한 변신\n",
        "- 노드14 : 텍스트 데이터 다루기"
      ]
    },
    {
      "cell_type": "markdown",
      "id": "2d92f888",
      "metadata": {
        "id": "2d92f888"
      },
      "source": [
        "### 노드13 : 텍스트의 다양한 변신"
      ]
    },
    {
      "cell_type": "markdown",
      "id": "6d3cde71",
      "metadata": {
        "id": "6d3cde71"
      },
      "source": [
        "#### 노드13-01 : 텍스트 데이터 문자열 저장(1) - 인코딩과 디코딩\n",
        "- 인코딩(encoding) : 문자열을 바이트로 변환\n",
        "  - python에서 인코딩 규약은 내부적으로 유니코드(UTF-8)임을 의미\n",
        "  - 파이썬 2에서는 인코딩한 후에도 아스키(ascii) → 유니코드(unicode) 변환 등의 작업을 거쳐야 했으나   \n",
        "    파이썬 3부터는 문자열이 무조건 유니코드로 인코딩\n",
        "- 디코딩(decoding) : 바이트를 문자열로 변환"
      ]
    },
    {
      "cell_type": "code",
      "execution_count": null,
      "id": "761db0cf",
      "metadata": {
        "id": "761db0cf"
      },
      "outputs": [],
      "source": [
        "print(ord('a'))\n",
        "print(ord('A'))\n",
        "print(chr(97))\n",
        "print(ord('가'))\n",
        "print(chr(0xAC00))\n",
        "#- 0xAC00은 44032의 16진수 표현입니다."
      ]
    },
    {
      "cell_type": "markdown",
      "id": "47284e6d",
      "metadata": {
        "id": "47284e6d"
      },
      "source": [
        "#### 노드13-02 : 텍스트 데이터 문자열 저장(2) - 문자열 다루기"
      ]
    },
    {
      "cell_type": "markdown",
      "id": "53cefaff",
      "metadata": {
        "id": "53cefaff"
      },
      "source": [
        "##### escape문자"
      ]
    },
    {
      "cell_type": "code",
      "execution_count": null,
      "id": "a42ae0a6",
      "metadata": {
        "id": "a42ae0a6"
      },
      "outputs": [],
      "source": [
        "# s = 'I don't like Python!'\n",
        "print('\\' \\'가 I don을 감싼 형태여서\\n 그대로 입력하면 오류가 생김.')"
      ]
    },
    {
      "cell_type": "code",
      "execution_count": null,
      "id": "b74d1d85",
      "metadata": {
        "id": "b74d1d85"
      },
      "outputs": [],
      "source": [
        "#- 줄 바꿈\n",
        "print(\"사회적\\n거리두기\")\n",
        "print('--------------------------')\n",
        "\n",
        "#- 탭(tab)\n",
        "print(\"사회적\\t거리두기\")\n",
        "print('--------------------------')\n",
        "\n",
        "#- 작은따옴표 포함\n",
        "print('오늘부터 \\'사회적 거리두기\\'')"
      ]
    },
    {
      "cell_type": "markdown",
      "id": "cb4d0556",
      "metadata": {
        "id": "cb4d0556"
      },
      "source": [
        "##### 원시 문자"
      ]
    },
    {
      "cell_type": "code",
      "execution_count": null,
      "id": "df9756a6",
      "metadata": {
        "id": "df9756a6"
      },
      "outputs": [],
      "source": [
        "#- 예제 코드2\n",
        "print('Please don\\'t touch it')\n",
        "print(r'Please don\\'t touch it')"
      ]
    },
    {
      "cell_type": "markdown",
      "id": "3a9e19f8",
      "metadata": {
        "id": "3a9e19f8"
      },
      "source": [
        "##### starts with, ends with"
      ]
    },
    {
      "cell_type": "code",
      "execution_count": null,
      "id": "b9cc5c66",
      "metadata": {
        "id": "b9cc5c66"
      },
      "outputs": [],
      "source": [
        "EmployeeID = ['OB94382', 'OW34723', 'OB32308', 'OB83461',\n",
        "                                  'OB74830', 'OW37402', 'OW11235', 'OB82345']\n",
        "Production_Employee = [P for P in EmployeeID if P.startswith('OB')]   # 'OB'로 시작하는 직원 ID를 다 찾아봅니다\n",
        "Production_Employee"
      ]
    },
    {
      "cell_type": "code",
      "execution_count": null,
      "id": "9893cb7f",
      "metadata": {
        "id": "9893cb7f"
      },
      "outputs": [],
      "source": [
        "import os\n",
        "image_dir_path = os.getenv(\"HOME\") + \"/data/pictures\"\n",
        "# 각자의 사진이 보관된 디렉토리를 골라 주세요.\n",
        "# 클라우드의 경우에는 사진이 이미 있으므로 코드를 실행시켜주세요.(LMS환경)\n",
        "photo = os.listdir(image_dir_path )\n",
        "png = [png for png in photo if png.endswith('.png')]\n",
        "print(png)"
      ]
    },
    {
      "cell_type": "markdown",
      "id": "f3b8f6b1",
      "metadata": {
        "id": "f3b8f6b1"
      },
      "source": [
        "##### 공백 문자 처리 : trimming\n",
        "- 스페이스(space) : 한 칸 띄어쓰기\n",
        "- 탭(tab) \\t : 네 칸 띄어쓰기\n",
        "- 줄 바꿈(new line) : 줄 바꿈\n",
        "- 라인 피드 (line feed, 개행) \\n : 줄 바꿈을 엄밀히 말하면 라인 피드라고 지칭\n",
        "- 캐리지 리턴 (carriage return, 복귀) \\r"
      ]
    },
    {
      "cell_type": "code",
      "execution_count": null,
      "id": "771ee009",
      "metadata": {
        "id": "771ee009"
      },
      "outputs": [],
      "source": [
        "print(\"사회적 거리두기\")\n",
        "print('--------------------------')\n",
        "print(\"사회적\\t거리두기\")\n",
        "print('--------------------------')\n",
        "print(\"사회적\\n거리두기\")\n",
        "print('--------------------------')\n",
        "print(\"사회적\\r거리두기\")"
      ]
    },
    {
      "cell_type": "markdown",
      "id": "d200b897",
      "metadata": {
        "id": "d200b897"
      },
      "source": [
        "###### 공백문자제거 strip()\n",
        "- python에서는 strip()으로 공백을 제거한다\n",
        "- strip()은 양쪽 공백 제거\n",
        "- lstrip()은 왼쪽 공백 제거\n",
        "- rstrip()은 오른쪽 공백 제거"
      ]
    },
    {
      "cell_type": "code",
      "execution_count": null,
      "id": "bdd634b4",
      "metadata": {
        "id": "bdd634b4"
      },
      "outputs": [],
      "source": [
        "txt = \"      Strip white spaces.      \"\n",
        "print('[{}]'.format(txt))\n",
        "print('--------------------------')\n",
        "\n",
        "#- 양쪽 공백 제거 : strip()\n",
        "print('[{}]'.format(txt.strip()))\n",
        "print('--------------------------')\n",
        "\n",
        "#- 왼쪽 공백 제거 : lstrip()\n",
        "print('[{}]'.format(txt.lstrip()))\n",
        "print('--------------------------')\n",
        "\n",
        "#- 오른쪽 공백 제거 : rstrip()\n",
        "print('[{}]'.format(txt.rstrip()))"
      ]
    },
    {
      "cell_type": "markdown",
      "id": "96c269bd",
      "metadata": {
        "id": "96c269bd"
      },
      "source": [
        "##### 대소문자 관련\n",
        "- upper() : 모든 문자를 대문자로 변환\n",
        "- lower() : 모든 문자를 소문자로 변환\n",
        "- capitalize() : 첫 글자만 대문자로 변환"
      ]
    },
    {
      "cell_type": "code",
      "execution_count": null,
      "id": "a7b96ade",
      "metadata": {
        "id": "a7b96ade"
      },
      "outputs": [],
      "source": [
        "#- 모든 문자를 대문자로 변환 : upper()\n",
        "txt = \"I fell into AIFFEL\"\n",
        "txt.upper()"
      ]
    },
    {
      "cell_type": "code",
      "execution_count": null,
      "id": "c55e266d",
      "metadata": {
        "id": "c55e266d"
      },
      "outputs": [],
      "source": [
        "#- 모든 문자를 소문자로 변환 : lower()\n",
        "txt.lower()"
      ]
    },
    {
      "cell_type": "code",
      "execution_count": null,
      "id": "3c72861a",
      "metadata": {
        "id": "3c72861a"
      },
      "outputs": [],
      "source": [
        "#- 첫 글자만 대문자로 변환 : capitalize()\n",
        "txt.capitalize()"
      ]
    },
    {
      "cell_type": "markdown",
      "id": "4e979906",
      "metadata": {
        "id": "4e979906"
      },
      "source": [
        "##### isX 메서드\n",
        "- isupper() : 문자열이 모두 대문자면 True\n",
        "- islower() : 문자열이 모두 소문자면 True\n",
        "- istitle() : 첫 글자만 대문자면 True\n",
        "- isalpha() : 문자열이 모두 알파벳 True\n",
        "- isalnum() : 문자열이 알파벳/숫자면 True\n",
        "- isdecimal() : 문자열이 모두 숫자면 True"
      ]
    },
    {
      "cell_type": "code",
      "execution_count": null,
      "id": "1c00b8bc",
      "metadata": {
        "id": "1c00b8bc"
      },
      "outputs": [],
      "source": [
        "print(\"aiffel\".isupper())\n",
        "print(\"aiffel\".islower())\n",
        "print(\"PYTHON\".istitle())\n",
        "print(\"python101\".isalpha())\n",
        "print(\"python101\".isalnum())\n",
        "print(\"101\".isdecimal())"
      ]
    },
    {
      "cell_type": "markdown",
      "id": "f18b53ac",
      "metadata": {
        "id": "f18b53ac"
      },
      "source": [
        "##### join과 split\n",
        "- join은 tuple, list, string등 반복 가능한(iterable) 객체를 받음\n",
        "- join()은 각각의 원소를 모아 하나로 합침\n",
        "- split()은 리스트 형태로 개별 원소들 반환"
      ]
    },
    {
      "cell_type": "code",
      "execution_count": null,
      "id": "6d9cd69c",
      "metadata": {
        "id": "6d9cd69c"
      },
      "outputs": [],
      "source": [
        "#- join()\n",
        "stages = ['fundamentals', 'exploration', 'goingdeeper']\n",
        "\",\".join(stages)"
      ]
    },
    {
      "cell_type": "code",
      "execution_count": null,
      "id": "f976e248",
      "metadata": {
        "id": "f976e248"
      },
      "outputs": [],
      "source": [
        "# 큰따옴표 안에 다양한 구분자(빈칸, 언더바, 온점 등)를 넣어 보세요.\n",
        "print(\" \".join(stages))\n",
        "print(\"_\".join(stages))\n",
        "print(\".\".join(stages))"
      ]
    },
    {
      "cell_type": "code",
      "execution_count": null,
      "id": "8b0cbbb0",
      "metadata": {
        "id": "8b0cbbb0"
      },
      "outputs": [],
      "source": [
        "#- split()\n",
        "'fundamentals,exploration,goingdeeper'.split(',')"
      ]
    },
    {
      "cell_type": "markdown",
      "id": "f031dcd4",
      "metadata": {
        "id": "f031dcd4"
      },
      "source": [
        "##### replace()"
      ]
    },
    {
      "cell_type": "code",
      "execution_count": null,
      "id": "43205146",
      "metadata": {
        "id": "43205146"
      },
      "outputs": [],
      "source": [
        "sent = 'I can do it!'\n",
        "sent.replace('I', 'You')"
      ]
    },
    {
      "cell_type": "markdown",
      "id": "7f712e6f",
      "metadata": {
        "id": "7f712e6f"
      },
      "source": [
        "##### 불변(immutable)의 문자열\n",
        "- 가변 객체(mutable object)\n",
        "  - list, set, dict\n",
        "- 불변 객체(immutable object)\n",
        "  - int, float, complex, bool, string, tuple, frozen set"
      ]
    },
    {
      "cell_type": "code",
      "execution_count": null,
      "id": "d0db4c0e",
      "metadata": {
        "id": "d0db4c0e"
      },
      "outputs": [],
      "source": [
        "sent = 'I fell into AIFFEL'\n",
        "print(sent)\n",
        "print(id(sent))\n",
        "sent.upper()\n",
        "print(sent)\n",
        "print(id(sent))"
      ]
    },
    {
      "cell_type": "code",
      "execution_count": null,
      "id": "1afe8ba9",
      "metadata": {
        "id": "1afe8ba9"
      },
      "outputs": [],
      "source": [
        "# 아래의 id(sent)는 변수 sent에 sent.upper()라는 새로운 객체를 대입해\n",
        "# 객체의 값을 변경했기 때문에 위의 id(sent)와 값이 다르다.\n",
        "sent = 'I fell into AIFFEL'\n",
        "print(sent)\n",
        "print(id(sent))\n",
        "sent = sent.upper()\n",
        "print(sent)\n",
        "print(id(sent))"
      ]
    },
    {
      "cell_type": "markdown",
      "id": "5c5b732b",
      "metadata": {
        "id": "5c5b732b"
      },
      "source": [
        "#### 노드13-03 : 텍스트 데이터 문자열 저장(3) - 정규 표현식"
      ]
    },
    {
      "cell_type": "markdown",
      "id": "8a60cce1",
      "metadata": {
        "id": "8a60cce1"
      },
      "source": [
        "##### 문자열 vs 정규 표현식"
      ]
    },
    {
      "cell_type": "code",
      "execution_count": null,
      "id": "24958c9f",
      "metadata": {
        "id": "24958c9f"
      },
      "outputs": [],
      "source": [
        "sent = 'I can do it!'\n",
        "rep = sent.replace(\"I\", \"You\")\n",
        "rep"
      ]
    },
    {
      "cell_type": "code",
      "execution_count": null,
      "id": "b2b64223",
      "metadata": {
        "id": "b2b64223"
      },
      "outputs": [],
      "source": [
        "import re\n",
        "sent = 'I can do it!'\n",
        "pattern = re.sub(\"I\", \"You\", sent)\n",
        "pattern"
      ]
    },
    {
      "cell_type": "markdown",
      "id": "096e5c39",
      "metadata": {
        "id": "096e5c39"
      },
      "source": [
        "##### 정규표현식 시작하기\n",
        "- import re : 파이선 표준라이브러리\n",
        "- 정규표현식 처리 두 단계\n",
        "  - stage01 : '찾고자 하는 패턴 정의'\n",
        "    - compile()\n",
        "  - stage02 : '정의된 패턴과 매칭'되는 문자열 처리\n",
        "    - search() : 일치하는 패턴 있으면, MatchObject 반환\n",
        "    - match() : search와 비슷하지만, 처음부터 일치해야 함\n",
        "    - findall() : 일치하는 모든 패턴 찾기 (리스트 형태 반환)\n",
        "    - split() : 패턴으로 나누기\n",
        "    - sub() : 일치하는 패턴으로 대체\n",
        "    - group() : 실제 결과에 해당하는 문자열을 반환"
      ]
    },
    {
      "cell_type": "code",
      "execution_count": null,
      "id": "1c36b37d",
      "metadata": {
        "id": "1c36b37d"
      },
      "outputs": [],
      "source": [
        "#1단계 :  \"the\"라는 패턴을 컴파일한 후 패턴 객체를 리턴합니다.\n",
        "pattern = re.compile(\"the\")\n",
        "\n",
        "# 2단계 : 컴파일된 패턴 객체를 활용하여 다른 텍스트에서 검색을 수행합니다.\n",
        "pattern.findall('of the people, for the people, by the people')"
      ]
    },
    {
      "cell_type": "code",
      "execution_count": null,
      "id": "72eb772a",
      "metadata": {
        "id": "72eb772a"
      },
      "outputs": [],
      "source": [
        "# 명시적으로 표현 안해도 사용 가능\n",
        "re.findall('the', 'of the people, for the people, by the people')"
      ]
    },
    {
      "cell_type": "code",
      "execution_count": null,
      "id": "c3f2d414",
      "metadata": {
        "id": "c3f2d414"
      },
      "outputs": [],
      "source": [
        "src = \"My name is...\"\n",
        "regex = re.match(\"My\", src)\n",
        "print(regex)\n",
        "if regex:\n",
        "    print(regex.group())\n",
        "else:\n",
        "    print(\"No!\")"
      ]
    },
    {
      "cell_type": "markdown",
      "id": "1cb2d646",
      "metadata": {
        "id": "1cb2d646"
      },
      "source": [
        "##### 정규표현식 패턴, 특수문자\n",
        "- []: 문자\n",
        "- - : 범위\n",
        "- . : 하나의 문자\n",
        "- ? : 0회 또는 1회 반복\n",
        "- * : 0회 이상 반복\n",
        "- + : 1회 이상 반복\n",
        "- \\d : 숫자, [0-9]와 동일\n",
        "- \\D : 비숫자, [^0-9]와 동일\n",
        "- \\w : 알파벳 문자 + 숫자 + _ , [a-ZA-Z0-9_]와 동일\n",
        "- \\W : 비 알파벳 문자 + 비숫자, [^a-zA-Z0-9_]와 동일\n",
        "- \\s : 공백 문자, [ \\t\\n\\r\\f\\v]와 동일\n",
        "- \\S : 비 공백 문자, [^ \\t\\n\\r\\f\\v]와 동일\n",
        "- \\b : 단어 경계\n",
        "- \\B : 비 단어 경계\n",
        "- \\t : 가로 tab\n",
        "- \\v : 세로 tab\n",
        "- \\f : 폼 피드\n",
        "- \\n : 라인 피드(개행문자)\n",
        "- \\r : 캐리지 리턴(원시 문자열)"
      ]
    },
    {
      "cell_type": "code",
      "execution_count": null,
      "id": "552b23f2",
      "metadata": {
        "id": "552b23f2"
      },
      "outputs": [],
      "source": [
        "#- 연도(숫자)\n",
        "# \"[1-2]\\d\\d\\d\" : 첫자리 1~2인 네 자리 숫자\n",
        "text = \"\"\"\n",
        "The first season of America Premiere League  was played in 1993.\n",
        "The second season was played in 1995 in South Africa.\n",
        "Last season was played in 2019 and won by Chennai Super Kings (CSK).\n",
        "CSK won the title in 2000 and 2002 as well.\n",
        "Mumbai Indians (MI) has also won the title 3 times in 2013, 2015 and 2017.\n",
        "\"\"\"\n",
        "pattern = re.compile(\"[1-2]\\d\\d\\d\")\n",
        "pattern.findall(text)"
      ]
    },
    {
      "cell_type": "code",
      "execution_count": null,
      "id": "365ae727",
      "metadata": {
        "id": "365ae727"
      },
      "outputs": [],
      "source": [
        "#- 전화번호(숫자, 기호)\n",
        "phonenumber = re.compile(r'\\d\\d\\d-\\d\\d\\d-\\d\\d\\d\\d')\n",
        "phone = phonenumber.search('This is my phone number 010-111-1111')\n",
        "if phone:\n",
        "  print(phone.group())\n",
        "print('------')\n",
        "phone = phonenumber.match ('This is my phone number 010-111-1111')\n",
        "if phone:\n",
        "  print(phone.group())"
      ]
    },
    {
      "cell_type": "code",
      "execution_count": null,
      "id": "1778bdf2",
      "metadata": {
        "id": "1778bdf2"
      },
      "outputs": [],
      "source": [
        "#- 전화번호(숫자, 기호)\n",
        "phonenumber = re.compile(r'\\d{3}-\\d{3}-\\d{4}')\n",
        "phone = phonenumber.search('This is my phone number 010-111-1111')\n",
        "if phone:\n",
        "  print(phone.group())\n",
        "print('------')\n",
        "phone = phonenumber.match ('This is my phone number 010-111-1111')\n",
        "if phone:\n",
        "  print(phone.group())"
      ]
    },
    {
      "cell_type": "code",
      "execution_count": null,
      "id": "ba735473",
      "metadata": {
        "id": "ba735473"
      },
      "outputs": [],
      "source": [
        "#- 전화번호(숫자, 기호)\n",
        "phonenumber = re.compile(r'(\\d{3}-){2}\\d{4}')\n",
        "phone = phonenumber.search('This is my phone number 010-111-1111')\n",
        "if phone:\n",
        "  print(phone.group())\n",
        "print('------')\n",
        "phone = phonenumber.match ('This is my phone number 010-111-1111')\n",
        "if phone:\n",
        "  print(phone.group())"
      ]
    },
    {
      "cell_type": "code",
      "execution_count": null,
      "id": "67846c06",
      "metadata": {
        "id": "67846c06"
      },
      "outputs": [],
      "source": [
        "#- 이메일(알파벳, 숫자, 기호)\n",
        "text = \"My e-mail adress is doingharu@aiffel.com, and tomorrow@aiffel.com\"\n",
        "pattern = re.compile(\"[0-9a-zA-Z]+@[0-9a-z]+\\.[0-9a-z]+\")\n",
        "pattern.findall(text)"
      ]
    },
    {
      "cell_type": "markdown",
      "id": "e417600d",
      "metadata": {
        "id": "e417600d"
      },
      "source": [
        "##### 정규표현식 구현순서\n",
        "- import re로 정규표현식 모듈 가져오기\n",
        "- re.compile() 통해 정규표현식 객체 만들기\n",
        "- 검색할 문자열을 Regex 객체의 search() , findall() 메소드로 전달"
      ]
    },
    {
      "cell_type": "markdown",
      "id": "8f85bdbb",
      "metadata": {
        "id": "8f85bdbb"
      },
      "source": [
        "#### 13-04 파일과 디렉터리(1) 파일\n",
        "- 현재 까지 텍스트 데이터는 변수에 저장되었으나, '메모리'에 저장된 데이터는 전원이 꺼지면 날아감\n",
        "- 보조기억장치에 데이터를 저장 -> 이것을 '파일'이라 지칭"
      ]
    },
    {
      "cell_type": "markdown",
      "id": "767c93c7",
      "metadata": {
        "id": "767c93c7"
      },
      "source": [
        "##### file write"
      ]
    },
    {
      "cell_type": "code",
      "execution_count": null,
      "id": "a3eb10a6",
      "metadata": {
        "id": "a3eb10a6"
      },
      "outputs": [],
      "source": [
        "f = open(\"hello.txt\",\"w\")\n",
        "#- open(파일명, 파일모드)\n",
        "#- 파일을 열고 파일 객체를 반환합니다.\n",
        "for i in range(10):\n",
        "    f.write(\"안녕\")\n",
        "    #- write() 메서드로 '안녕'을 10번 씁니다.\n",
        "f.close()\n",
        "#- 작업이 끝나면 close() 메서드로 닫아줍니다. *필수!\n",
        "\n",
        "print(\"완료!\")"
      ]
    },
    {
      "cell_type": "markdown",
      "id": "fe60280e",
      "metadata": {
        "id": "fe60280e"
      },
      "source": [
        "##### file read"
      ]
    },
    {
      "cell_type": "code",
      "execution_count": null,
      "id": "944df452",
      "metadata": {
        "id": "944df452"
      },
      "outputs": [],
      "source": [
        "with open(\"hello.txt\", \"r\") as f:\n",
        "  print(f.read())"
      ]
    },
    {
      "cell_type": "markdown",
      "id": "73e1ab6e",
      "metadata": {
        "id": "73e1ab6e"
      },
      "source": [
        "######  with 구문을 사용해서 파일을 열어서 파일 객체를 f로 받아서 f.read()를 통해 내용\n",
        "- with를 통해 open된 객체는 with 문이 종료될 때 자동으로 close 되는 것이 보장"
      ]
    },
    {
      "cell_type": "markdown",
      "id": "80a9a4a5",
      "metadata": {
        "id": "80a9a4a5"
      },
      "source": [
        "##### file 관련 메서드\n",
        "- f.read() : 파일 읽기\n",
        "- f.readline() : 파일 한 줄씩 읽기\n",
        "- f.readlines() : 파일 안의 모든 줄을 읽어 그 값을 리스트로 반환한다.\n",
        "- f.write(str) : 파일에 쓴다. 문자열 타입을 인자로 받는다.\n",
        "- f.writelines(str) : 파일에 인자를 한 줄씩 쓴다.\n",
        "- f.close() : 파일을 닫는다.\n",
        "- f.seek(offset) : 해당 파일의 위치(offset)를 찾아 파일의 커서를 옮긴다. 파일의 처음 위치는 0이다.\n",
        "- f.tell(): 현재 커서의 위치를 반환"
      ]
    },
    {
      "cell_type": "code",
      "execution_count": null,
      "id": "c96b0bd7",
      "metadata": {
        "id": "c96b0bd7"
      },
      "outputs": [],
      "source": [
        "quotes = [\"\\n안녕하세요.\\n\", \"반갑습니다.\\n\", \"오랜만입니다.\\n\"]\n",
        "\n",
        "with open(\"hello.txt\", \"a\") as f:              # 위에서 만든 파일에 이어서 씁니다.\n",
        "    f.writelines(quotes)"
      ]
    },
    {
      "cell_type": "code",
      "execution_count": null,
      "id": "b9849311",
      "metadata": {
        "id": "b9849311",
        "outputId": "1a090d9b-a2c9-4632-bd14-e0a15cff630a"
      },
      "outputs": [
        {
          "name": "stdout",
          "output_type": "stream",
          "text": [
            "위치 : 115\n",
            "['안녕안녕안녕안녕안녕안녕안녕안녕안녕안녕\\n', '안녕하세요.\\n', '반갑습니다.\\n', '오랜만입니다.\\n']\n",
            "----------------------------------------------------\n",
            "위치 : 10\n"
          ]
        }
      ],
      "source": [
        "with open('hello.txt', 'r') as f:\n",
        "    hello = f.readlines()\n",
        "    print(f'위치 : {f.tell()}')\n",
        "    print(hello)\n",
        "    print(\"----------------------------------------------------\")\n",
        "    f.seek(10)\n",
        "    print(f'위치 : {f.tell()}')"
      ]
    },
    {
      "cell_type": "markdown",
      "id": "a5b84cb0",
      "metadata": {
        "id": "a5b84cb0"
      },
      "source": [
        "#### 13-05 파일과 디렉터리(2) 디렉터리\n",
        "- 경로의 최상위 폴더를 루트 디렉터리(root directory)\n",
        "  - Window 운영 체제 : C:\\\n",
        "  - Linux 계열 운영 체제 : /\n",
        "- 현재 LMS 교육환경에서의 운영체제, ubuntu기반 리눅스 운영체제"
      ]
    },
    {
      "cell_type": "markdown",
      "id": "01b0211b",
      "metadata": {
        "id": "01b0211b"
      },
      "source": [
        "#### 13-06 파일과 디렉터리(3) 모듈, 패키지\n",
        "- LMS로 하다가 autosave 문제로 colab으로 옮김"
      ]
    },
    {
      "cell_type": "code",
      "execution_count": null,
      "id": "4c3c5e1c",
      "metadata": {
        "colab": {
          "base_uri": "https://localhost:8080/",
          "height": 35
        },
        "id": "4c3c5e1c",
        "outputId": "dbd09478-7d96-4f83-fa11-6f5e0bb0f593"
      },
      "outputs": [
        {
          "output_type": "execute_result",
          "data": {
            "text/plain": [
              "'/usr/bin/python3'"
            ],
            "application/vnd.google.colaboratory.intrinsic+json": {
              "type": "string"
            }
          },
          "metadata": {},
          "execution_count": 1
        }
      ],
      "source": [
        "#- 현재 실행되고 있는 파이썬 실행 파일의 디렉터리를 반환합니다.\n",
        "import sys\n",
        "sys.executable"
      ]
    },
    {
      "cell_type": "code",
      "source": [
        "#- 임포트할 때 불러 오는 모듈들이 위치한 경로입니다.\n",
        "sys.path"
      ],
      "metadata": {
        "colab": {
          "base_uri": "https://localhost:8080/"
        },
        "id": "2yMoBH2Ggo40",
        "outputId": "c7af098d-b698-4b0d-9c42-49dacca20e5c"
      },
      "id": "2yMoBH2Ggo40",
      "execution_count": null,
      "outputs": [
        {
          "output_type": "execute_result",
          "data": {
            "text/plain": [
              "['/content',\n",
              " '/env/python',\n",
              " '/usr/lib/python311.zip',\n",
              " '/usr/lib/python3.11',\n",
              " '/usr/lib/python3.11/lib-dynload',\n",
              " '',\n",
              " '/usr/local/lib/python3.11/dist-packages',\n",
              " '/usr/lib/python3/dist-packages',\n",
              " '/usr/local/lib/python3.11/dist-packages/IPython/extensions',\n",
              " '/usr/local/lib/python3.11/dist-packages/setuptools/_vendor',\n",
              " '/root/.ipython']"
            ]
          },
          "metadata": {},
          "execution_count": 2
        }
      ]
    },
    {
      "cell_type": "markdown",
      "source": [
        "##### python 모듈, 패키지 개념\n",
        "- 모듈(module) : 파이썬으로 만든 코드가 들어간 파일\n",
        "- 패키지(package) : 기능적으로 동일하거나 동일한 결과를 만드는 모듈들의 집합 또는 폴더. 종종 라이브러리라고도 불림\n",
        "- 라이브러리(library) : 모듈과 패키지의 집합. 패키지보다 포괄적인 개념이나 패키지와 혼용되어 사용되기도 함.\n",
        "- PIP(Package Installer for Python) : 패키지 관리자로 파이썬을 설치하면 기본으로 설치됨"
      ],
      "metadata": {
        "id": "c7jpWquug0ha"
      },
      "id": "c7jpWquug0ha"
    },
    {
      "cell_type": "markdown",
      "source": [
        "##### 디렉토리 관련 명령어 요약\n",
        "- sys.path : 현재 폴더와 파이썬 모듈들이 저장되는 위치를 리스트 형태로 반환\n",
        "- sys.path.append() : 자신이 만든 모듈의 경로를 append 함수를 이용해서 추가\n",
        "- os.chdir() : 디렉터리 위치 변경\n",
        "- os.getcwd() : 현재 자신의 디렉터리 위치를 반환\n",
        "- os.mkdir() : 디렉터리 생성\n",
        "- os.rmdir() : 디렉터리 삭제 (단, 디렉터리가 비어 있을 경우)\n",
        "- glob.glob() : 해당 경로 안의 디렉터리나 파일들을 리스트 형태로 반환\n",
        "- os.path.join() : 경로(path)를 병합하여 새 경로 생성\n",
        "- os.listdir() : 디렉터리 안의 파일 및 서브 디렉터리를 리스트 형태로 반환\n",
        "- os.path.exists() : 파일 혹은 디렉터리의 경로 존재 여부 확인\n",
        "- os.path.isfile() : 파일 경로의 존재 여부 확인\n",
        "- os.path.isdir() : 디렉터리 경로의 존재 여부 확인\n",
        "- os.path.getsize() : 파일의 크기 확인"
      ],
      "metadata": {
        "id": "YqrOLm2jhLdy"
      },
      "id": "YqrOLm2jhLdy"
    },
    {
      "cell_type": "markdown",
      "source": [
        "#### 13-07 여러 파일 포맷(1) CSV"
      ],
      "metadata": {
        "id": "JhJ0JehPhi55"
      },
      "id": "JhJ0JehPhi55"
    },
    {
      "cell_type": "code",
      "source": [
        "billboardchart = {\n",
        "  \t\t\t\t 1 : [\"Tho Box\",\"Roddy Ricch\",\"2019-12-19\"],\n",
        "                 2 : [\"Don't Start Now\", \"Dua Lipa\", \"2019-11-01\"],\n",
        "                 3 : [\"Life Is Good\", \"Future Featuring Drake\", \"2020-02-10\"],\n",
        "                 4 : [\"Blinding\", \"The Weeknd\", \"2019-11-29\"],\n",
        "                 5 : [\"Circles\", \"Post Malone\",\"2019-08-30\"]}\n",
        "\n",
        "with open(\"billboardchart.csv\",\"w\") as f:\n",
        "    for i in billboardchart.values():\n",
        "        data = \",\".join(i)\n",
        "        f.write(data+\"\\n\")\n",
        "\n",
        "print(\"슝~\")"
      ],
      "metadata": {
        "colab": {
          "base_uri": "https://localhost:8080/"
        },
        "id": "7OIiM42TgtlD",
        "outputId": "b50d8281-cfeb-4733-bf0b-953b004ade64"
      },
      "id": "7OIiM42TgtlD",
      "execution_count": null,
      "outputs": [
        {
          "output_type": "stream",
          "name": "stdout",
          "text": [
            "슝~\n"
          ]
        }
      ]
    },
    {
      "cell_type": "code",
      "source": [
        "import csv\n",
        "\n",
        "header = [\"title\", \"singer\", \"released date\"]\n",
        "\n",
        "with open(\"billboardchart.csv\",\"r\") as inputfile:\n",
        "    with open(\"billboardchart_out.csv\",\"w\", newline='\\n') as outputfile:\n",
        "        fi = csv.reader(inputfile, delimiter=',')\n",
        "        fo = csv.writer(outputfile, delimiter=',')\n",
        "        fo.writerow(header)\n",
        "        for row in fi:\n",
        "            fo.writerow(row)\n",
        "\n",
        "print(\"슝~\")"
      ],
      "metadata": {
        "colab": {
          "base_uri": "https://localhost:8080/"
        },
        "id": "Gf6B-hSBhoH3",
        "outputId": "2cdcaa9b-431c-420c-b760-cba9fa44c3d5"
      },
      "id": "Gf6B-hSBhoH3",
      "execution_count": null,
      "outputs": [
        {
          "output_type": "stream",
          "name": "stdout",
          "text": [
            "슝~\n"
          ]
        }
      ]
    },
    {
      "cell_type": "code",
      "source": [
        "#- 1. 데이터를 준비합니다.\n",
        "fields = [\"title\", \"singer\", \"released date\"]\n",
        "rows = [ [\"Tho Box\",\"Roddy Ricch\",\"2019-12-19\"],\n",
        "               [\"Don't Start Now\", \"Dua Lipa\", \"2019-11-01\"],\n",
        "               [\"Life Is Good\", \"Future Featuring Drake\", \"2020-02-10\"],\n",
        "               [\"Blinding\", \"The Weeknd\", \"2019-11-29\"],\n",
        "               [\"Circles\", \"Post Malone\",\"2019-08-30\"]]\n",
        "\n",
        "print(\"슝~\")"
      ],
      "metadata": {
        "colab": {
          "base_uri": "https://localhost:8080/"
        },
        "id": "5B7WaAeNhpt7",
        "outputId": "83f3c2f2-e6a2-4645-ae76-1ba3e9d06416"
      },
      "id": "5B7WaAeNhpt7",
      "execution_count": null,
      "outputs": [
        {
          "output_type": "stream",
          "name": "stdout",
          "text": [
            "슝~\n"
          ]
        }
      ]
    },
    {
      "cell_type": "code",
      "source": [
        "#- 2. 판다스를 이용해 데이터를 csv 파일로 저장합니다.\n",
        "import pandas as pd\n",
        "\n",
        "df=pd.DataFrame(rows, columns=fields)\n",
        "df.to_csv('pandas.csv',index=False)\n",
        "\n",
        "print(\"슝~\")"
      ],
      "metadata": {
        "colab": {
          "base_uri": "https://localhost:8080/"
        },
        "id": "YvYixeMdhstj",
        "outputId": "834eb6c7-c92a-4568-8264-460a152edb50"
      },
      "id": "YvYixeMdhstj",
      "execution_count": null,
      "outputs": [
        {
          "output_type": "stream",
          "name": "stdout",
          "text": [
            "슝~\n"
          ]
        }
      ]
    },
    {
      "cell_type": "code",
      "source": [
        "#- 3. 동일한 내용을 csv.writer를 이용해 수행해 봅니다.\n",
        "import csv\n",
        "\n",
        "filename = \"test.csv\"\n",
        "with open(filename, 'w+', newline='\\n') as csv_file:\n",
        "    csv_writer = csv.writer(csv_file)\n",
        "    csv_writer.writerow(fields)\n",
        "    csv_writer.writerows(rows)\n",
        "\n",
        "print(\"완료\")\n",
        "\n",
        "#- test.csv 파일을 직접 열어서 눈으로 살펴 보세요. -#"
      ],
      "metadata": {
        "colab": {
          "base_uri": "https://localhost:8080/"
        },
        "id": "MZVEnWZwhuX0",
        "outputId": "bdce7dc0-7aa7-4398-e111-4bbcbdcf310f"
      },
      "id": "MZVEnWZwhuX0",
      "execution_count": null,
      "outputs": [
        {
          "output_type": "stream",
          "name": "stdout",
          "text": [
            "완료\n"
          ]
        }
      ]
    },
    {
      "cell_type": "code",
      "source": [
        "df = pd.read_csv('pandas.csv')\n",
        "df.head()"
      ],
      "metadata": {
        "colab": {
          "base_uri": "https://localhost:8080/",
          "height": 206
        },
        "id": "G6OYQmEohwac",
        "outputId": "64a8834a-6e93-4e05-e913-1e034a04b255"
      },
      "id": "G6OYQmEohwac",
      "execution_count": null,
      "outputs": [
        {
          "output_type": "execute_result",
          "data": {
            "text/plain": [
              "             title                  singer released date\n",
              "0          Tho Box             Roddy Ricch    2019-12-19\n",
              "1  Don't Start Now                Dua Lipa    2019-11-01\n",
              "2     Life Is Good  Future Featuring Drake    2020-02-10\n",
              "3         Blinding              The Weeknd    2019-11-29\n",
              "4          Circles             Post Malone    2019-08-30"
            ],
            "text/html": [
              "\n",
              "  <div id=\"df-e7a7cdb9-1c25-4586-9ffd-dfd7a844cdad\" class=\"colab-df-container\">\n",
              "    <div>\n",
              "<style scoped>\n",
              "    .dataframe tbody tr th:only-of-type {\n",
              "        vertical-align: middle;\n",
              "    }\n",
              "\n",
              "    .dataframe tbody tr th {\n",
              "        vertical-align: top;\n",
              "    }\n",
              "\n",
              "    .dataframe thead th {\n",
              "        text-align: right;\n",
              "    }\n",
              "</style>\n",
              "<table border=\"1\" class=\"dataframe\">\n",
              "  <thead>\n",
              "    <tr style=\"text-align: right;\">\n",
              "      <th></th>\n",
              "      <th>title</th>\n",
              "      <th>singer</th>\n",
              "      <th>released date</th>\n",
              "    </tr>\n",
              "  </thead>\n",
              "  <tbody>\n",
              "    <tr>\n",
              "      <th>0</th>\n",
              "      <td>Tho Box</td>\n",
              "      <td>Roddy Ricch</td>\n",
              "      <td>2019-12-19</td>\n",
              "    </tr>\n",
              "    <tr>\n",
              "      <th>1</th>\n",
              "      <td>Don't Start Now</td>\n",
              "      <td>Dua Lipa</td>\n",
              "      <td>2019-11-01</td>\n",
              "    </tr>\n",
              "    <tr>\n",
              "      <th>2</th>\n",
              "      <td>Life Is Good</td>\n",
              "      <td>Future Featuring Drake</td>\n",
              "      <td>2020-02-10</td>\n",
              "    </tr>\n",
              "    <tr>\n",
              "      <th>3</th>\n",
              "      <td>Blinding</td>\n",
              "      <td>The Weeknd</td>\n",
              "      <td>2019-11-29</td>\n",
              "    </tr>\n",
              "    <tr>\n",
              "      <th>4</th>\n",
              "      <td>Circles</td>\n",
              "      <td>Post Malone</td>\n",
              "      <td>2019-08-30</td>\n",
              "    </tr>\n",
              "  </tbody>\n",
              "</table>\n",
              "</div>\n",
              "    <div class=\"colab-df-buttons\">\n",
              "\n",
              "  <div class=\"colab-df-container\">\n",
              "    <button class=\"colab-df-convert\" onclick=\"convertToInteractive('df-e7a7cdb9-1c25-4586-9ffd-dfd7a844cdad')\"\n",
              "            title=\"Convert this dataframe to an interactive table.\"\n",
              "            style=\"display:none;\">\n",
              "\n",
              "  <svg xmlns=\"http://www.w3.org/2000/svg\" height=\"24px\" viewBox=\"0 -960 960 960\">\n",
              "    <path d=\"M120-120v-720h720v720H120Zm60-500h600v-160H180v160Zm220 220h160v-160H400v160Zm0 220h160v-160H400v160ZM180-400h160v-160H180v160Zm440 0h160v-160H620v160ZM180-180h160v-160H180v160Zm440 0h160v-160H620v160Z\"/>\n",
              "  </svg>\n",
              "    </button>\n",
              "\n",
              "  <style>\n",
              "    .colab-df-container {\n",
              "      display:flex;\n",
              "      gap: 12px;\n",
              "    }\n",
              "\n",
              "    .colab-df-convert {\n",
              "      background-color: #E8F0FE;\n",
              "      border: none;\n",
              "      border-radius: 50%;\n",
              "      cursor: pointer;\n",
              "      display: none;\n",
              "      fill: #1967D2;\n",
              "      height: 32px;\n",
              "      padding: 0 0 0 0;\n",
              "      width: 32px;\n",
              "    }\n",
              "\n",
              "    .colab-df-convert:hover {\n",
              "      background-color: #E2EBFA;\n",
              "      box-shadow: 0px 1px 2px rgba(60, 64, 67, 0.3), 0px 1px 3px 1px rgba(60, 64, 67, 0.15);\n",
              "      fill: #174EA6;\n",
              "    }\n",
              "\n",
              "    .colab-df-buttons div {\n",
              "      margin-bottom: 4px;\n",
              "    }\n",
              "\n",
              "    [theme=dark] .colab-df-convert {\n",
              "      background-color: #3B4455;\n",
              "      fill: #D2E3FC;\n",
              "    }\n",
              "\n",
              "    [theme=dark] .colab-df-convert:hover {\n",
              "      background-color: #434B5C;\n",
              "      box-shadow: 0px 1px 3px 1px rgba(0, 0, 0, 0.15);\n",
              "      filter: drop-shadow(0px 1px 2px rgba(0, 0, 0, 0.3));\n",
              "      fill: #FFFFFF;\n",
              "    }\n",
              "  </style>\n",
              "\n",
              "    <script>\n",
              "      const buttonEl =\n",
              "        document.querySelector('#df-e7a7cdb9-1c25-4586-9ffd-dfd7a844cdad button.colab-df-convert');\n",
              "      buttonEl.style.display =\n",
              "        google.colab.kernel.accessAllowed ? 'block' : 'none';\n",
              "\n",
              "      async function convertToInteractive(key) {\n",
              "        const element = document.querySelector('#df-e7a7cdb9-1c25-4586-9ffd-dfd7a844cdad');\n",
              "        const dataTable =\n",
              "          await google.colab.kernel.invokeFunction('convertToInteractive',\n",
              "                                                    [key], {});\n",
              "        if (!dataTable) return;\n",
              "\n",
              "        const docLinkHtml = 'Like what you see? Visit the ' +\n",
              "          '<a target=\"_blank\" href=https://colab.research.google.com/notebooks/data_table.ipynb>data table notebook</a>'\n",
              "          + ' to learn more about interactive tables.';\n",
              "        element.innerHTML = '';\n",
              "        dataTable['output_type'] = 'display_data';\n",
              "        await google.colab.output.renderOutput(dataTable, element);\n",
              "        const docLink = document.createElement('div');\n",
              "        docLink.innerHTML = docLinkHtml;\n",
              "        element.appendChild(docLink);\n",
              "      }\n",
              "    </script>\n",
              "  </div>\n",
              "\n",
              "\n",
              "    <div id=\"df-c4277be9-e7ba-417c-b0d8-02a550e45c06\">\n",
              "      <button class=\"colab-df-quickchart\" onclick=\"quickchart('df-c4277be9-e7ba-417c-b0d8-02a550e45c06')\"\n",
              "                title=\"Suggest charts\"\n",
              "                style=\"display:none;\">\n",
              "\n",
              "<svg xmlns=\"http://www.w3.org/2000/svg\" height=\"24px\"viewBox=\"0 0 24 24\"\n",
              "     width=\"24px\">\n",
              "    <g>\n",
              "        <path d=\"M19 3H5c-1.1 0-2 .9-2 2v14c0 1.1.9 2 2 2h14c1.1 0 2-.9 2-2V5c0-1.1-.9-2-2-2zM9 17H7v-7h2v7zm4 0h-2V7h2v10zm4 0h-2v-4h2v4z\"/>\n",
              "    </g>\n",
              "</svg>\n",
              "      </button>\n",
              "\n",
              "<style>\n",
              "  .colab-df-quickchart {\n",
              "      --bg-color: #E8F0FE;\n",
              "      --fill-color: #1967D2;\n",
              "      --hover-bg-color: #E2EBFA;\n",
              "      --hover-fill-color: #174EA6;\n",
              "      --disabled-fill-color: #AAA;\n",
              "      --disabled-bg-color: #DDD;\n",
              "  }\n",
              "\n",
              "  [theme=dark] .colab-df-quickchart {\n",
              "      --bg-color: #3B4455;\n",
              "      --fill-color: #D2E3FC;\n",
              "      --hover-bg-color: #434B5C;\n",
              "      --hover-fill-color: #FFFFFF;\n",
              "      --disabled-bg-color: #3B4455;\n",
              "      --disabled-fill-color: #666;\n",
              "  }\n",
              "\n",
              "  .colab-df-quickchart {\n",
              "    background-color: var(--bg-color);\n",
              "    border: none;\n",
              "    border-radius: 50%;\n",
              "    cursor: pointer;\n",
              "    display: none;\n",
              "    fill: var(--fill-color);\n",
              "    height: 32px;\n",
              "    padding: 0;\n",
              "    width: 32px;\n",
              "  }\n",
              "\n",
              "  .colab-df-quickchart:hover {\n",
              "    background-color: var(--hover-bg-color);\n",
              "    box-shadow: 0 1px 2px rgba(60, 64, 67, 0.3), 0 1px 3px 1px rgba(60, 64, 67, 0.15);\n",
              "    fill: var(--button-hover-fill-color);\n",
              "  }\n",
              "\n",
              "  .colab-df-quickchart-complete:disabled,\n",
              "  .colab-df-quickchart-complete:disabled:hover {\n",
              "    background-color: var(--disabled-bg-color);\n",
              "    fill: var(--disabled-fill-color);\n",
              "    box-shadow: none;\n",
              "  }\n",
              "\n",
              "  .colab-df-spinner {\n",
              "    border: 2px solid var(--fill-color);\n",
              "    border-color: transparent;\n",
              "    border-bottom-color: var(--fill-color);\n",
              "    animation:\n",
              "      spin 1s steps(1) infinite;\n",
              "  }\n",
              "\n",
              "  @keyframes spin {\n",
              "    0% {\n",
              "      border-color: transparent;\n",
              "      border-bottom-color: var(--fill-color);\n",
              "      border-left-color: var(--fill-color);\n",
              "    }\n",
              "    20% {\n",
              "      border-color: transparent;\n",
              "      border-left-color: var(--fill-color);\n",
              "      border-top-color: var(--fill-color);\n",
              "    }\n",
              "    30% {\n",
              "      border-color: transparent;\n",
              "      border-left-color: var(--fill-color);\n",
              "      border-top-color: var(--fill-color);\n",
              "      border-right-color: var(--fill-color);\n",
              "    }\n",
              "    40% {\n",
              "      border-color: transparent;\n",
              "      border-right-color: var(--fill-color);\n",
              "      border-top-color: var(--fill-color);\n",
              "    }\n",
              "    60% {\n",
              "      border-color: transparent;\n",
              "      border-right-color: var(--fill-color);\n",
              "    }\n",
              "    80% {\n",
              "      border-color: transparent;\n",
              "      border-right-color: var(--fill-color);\n",
              "      border-bottom-color: var(--fill-color);\n",
              "    }\n",
              "    90% {\n",
              "      border-color: transparent;\n",
              "      border-bottom-color: var(--fill-color);\n",
              "    }\n",
              "  }\n",
              "</style>\n",
              "\n",
              "      <script>\n",
              "        async function quickchart(key) {\n",
              "          const quickchartButtonEl =\n",
              "            document.querySelector('#' + key + ' button');\n",
              "          quickchartButtonEl.disabled = true;  // To prevent multiple clicks.\n",
              "          quickchartButtonEl.classList.add('colab-df-spinner');\n",
              "          try {\n",
              "            const charts = await google.colab.kernel.invokeFunction(\n",
              "                'suggestCharts', [key], {});\n",
              "          } catch (error) {\n",
              "            console.error('Error during call to suggestCharts:', error);\n",
              "          }\n",
              "          quickchartButtonEl.classList.remove('colab-df-spinner');\n",
              "          quickchartButtonEl.classList.add('colab-df-quickchart-complete');\n",
              "        }\n",
              "        (() => {\n",
              "          let quickchartButtonEl =\n",
              "            document.querySelector('#df-c4277be9-e7ba-417c-b0d8-02a550e45c06 button');\n",
              "          quickchartButtonEl.style.display =\n",
              "            google.colab.kernel.accessAllowed ? 'block' : 'none';\n",
              "        })();\n",
              "      </script>\n",
              "    </div>\n",
              "\n",
              "    </div>\n",
              "  </div>\n"
            ],
            "application/vnd.google.colaboratory.intrinsic+json": {
              "type": "dataframe",
              "variable_name": "df",
              "summary": "{\n  \"name\": \"df\",\n  \"rows\": 5,\n  \"fields\": [\n    {\n      \"column\": \"title\",\n      \"properties\": {\n        \"dtype\": \"string\",\n        \"num_unique_values\": 5,\n        \"samples\": [\n          \"Don't Start Now\",\n          \"Circles\",\n          \"Life Is Good\"\n        ],\n        \"semantic_type\": \"\",\n        \"description\": \"\"\n      }\n    },\n    {\n      \"column\": \"singer\",\n      \"properties\": {\n        \"dtype\": \"string\",\n        \"num_unique_values\": 5,\n        \"samples\": [\n          \"Dua Lipa\",\n          \"Post Malone\",\n          \"Future Featuring Drake\"\n        ],\n        \"semantic_type\": \"\",\n        \"description\": \"\"\n      }\n    },\n    {\n      \"column\": \"released date\",\n      \"properties\": {\n        \"dtype\": \"object\",\n        \"num_unique_values\": 5,\n        \"samples\": [\n          \"2019-11-01\",\n          \"2019-08-30\",\n          \"2020-02-10\"\n        ],\n        \"semantic_type\": \"\",\n        \"description\": \"\"\n      }\n    }\n  ]\n}"
            }
          },
          "metadata": {},
          "execution_count": 8
        }
      ]
    },
    {
      "cell_type": "markdown",
      "source": [
        "#### 13-08 여러 파일 포맷(2) XML\n",
        "- XML은 Extensible Markup Language의 약자로, 다목적 마크업 언어\n",
        "- API에서 데이터를 요청하고 저장할 때 XML이나 JSON 형식을 이용해 데이터를 교환"
      ],
      "metadata": {
        "id": "5l2KG9yXh1GM"
      },
      "id": "5l2KG9yXh1GM"
    },
    {
      "cell_type": "markdown",
      "source": [
        "##### XML 파일 만들기\n",
        "- ElementTree\n",
        "  - Element() : 태그 생성\n",
        "  - SubElement() : 자식 태그 생성\n",
        "  - tag : 태그 이름\n",
        "  - text : 텍스트 내용 생성\n",
        "  - attrib : 속성 생성\n",
        "- dump()\n",
        "  - 생성된 XML 요소 구조를 시스템(sys.stdout)에 사용합니다. 출력 형식은 일반 XML 파일로 기록\n",
        "- write() : XML 파일로 저장\n",
        "- 리스트(list)와 유사한 메서드를 제공\n",
        "  - append(), insert(), remove(), pop()\n"
      ],
      "metadata": {
        "id": "sLxMXpbHiHKs"
      },
      "id": "sLxMXpbHiHKs"
    },
    {
      "cell_type": "code",
      "source": [
        "import xml.etree.ElementTree as ET\n",
        "\n",
        "person = ET.Element(\"Person\")\n",
        "name = ET.Element(\"name\")\n",
        "name.text = \"이펠\"\n",
        "person.append(name)\n",
        "\n",
        "age = ET.Element(\"age\")\n",
        "age.text = \"28\"\n",
        "person.append(age)\n",
        "\n",
        "ET.SubElement(person, 'place').text = '강남'\n",
        "\n",
        "ET.dump(person)"
      ],
      "metadata": {
        "colab": {
          "base_uri": "https://localhost:8080/"
        },
        "id": "tzynBqppiGg6",
        "outputId": "29c9e1da-fdfe-4186-ddb7-c1fd6af74b9c"
      },
      "id": "tzynBqppiGg6",
      "execution_count": null,
      "outputs": [
        {
          "output_type": "stream",
          "name": "stdout",
          "text": [
            "<Person><name>이펠</name><age>28</age><place>강남</place></Person>\n"
          ]
        }
      ]
    },
    {
      "cell_type": "code",
      "source": [
        "person.attrib[\"id\"] = \"0x0001\"\n",
        "name.tag = \"firstname\"\n",
        "ET.dump(person)"
      ],
      "metadata": {
        "colab": {
          "base_uri": "https://localhost:8080/"
        },
        "id": "DoVl3ToJhx3T",
        "outputId": "cc53bdc2-1f85-4ec3-ed90-4dcc935dea26"
      },
      "id": "DoVl3ToJhx3T",
      "execution_count": null,
      "outputs": [
        {
          "output_type": "stream",
          "name": "stdout",
          "text": [
            "<Person id=\"0x0001\"><firstname>이펠</firstname><age>28</age><place>강남</place></Person>\n"
          ]
        }
      ]
    },
    {
      "cell_type": "code",
      "source": [
        "# 이번에는 새롭게 lastname이라는 태그를 firstname 태그 다음으로 삽입하고 속성에 date를 넣기\n",
        "lastname = ET.Element('lastname', date='2020-03-20')\n",
        "lastname.text = '아'\n",
        "person.insert(1,lastname)\n",
        "ET.dump(person)"
      ],
      "metadata": {
        "colab": {
          "base_uri": "https://localhost:8080/"
        },
        "id": "WXjcHkyIirca",
        "outputId": "0bb2c684-fd17-4a3f-b241-1be016663265"
      },
      "id": "WXjcHkyIirca",
      "execution_count": null,
      "outputs": [
        {
          "output_type": "stream",
          "name": "stdout",
          "text": [
            "<Person id=\"0x0001\"><firstname>이펠</firstname><lastname date=\"2020-03-20\">아</lastname><age>28</age><place>강남</place></Person>\n"
          ]
        }
      ]
    },
    {
      "cell_type": "code",
      "source": [
        "person.remove(age)"
      ],
      "metadata": {
        "id": "oz4_gRdQiyj6"
      },
      "id": "oz4_gRdQiyj6",
      "execution_count": null,
      "outputs": []
    },
    {
      "cell_type": "code",
      "source": [
        "ET.ElementTree(person).write('person.xml')"
      ],
      "metadata": {
        "id": "_6SaUwOHi1LL"
      },
      "id": "_6SaUwOHi1LL",
      "execution_count": null,
      "outputs": []
    },
    {
      "cell_type": "code",
      "source": [
        "!ls"
      ],
      "metadata": {
        "colab": {
          "base_uri": "https://localhost:8080/"
        },
        "id": "dmzg1HRdi3JB",
        "outputId": "37c288fd-b6d0-453b-ae14-e0d3eca81102"
      },
      "id": "dmzg1HRdi3JB",
      "execution_count": null,
      "outputs": [
        {
          "output_type": "stream",
          "name": "stdout",
          "text": [
            "billboardchart.csv\tpandas.csv  sample_data\n",
            "billboardchart_out.csv\tperson.xml  test.csv\n"
          ]
        }
      ]
    },
    {
      "cell_type": "markdown",
      "source": [
        "##### XML 파싱\n",
        "- BeautifulSoap 라는 라이브러리로 파싱\n",
        "- 리눅스 커널에서 확인해볼 명령어\n",
        "  - pip list | grep beautifulsoup4   \n",
        "  - pip list | grep lxml\n",
        "- books.xml 파일의 \"title\" 태그의 내용만 가져오기\n",
        "  - mkdir -p ~/aiffel/ftext/data/\n",
        "  - ln -s ~/data/books.xml ~/aiffel/ftext/data"
      ],
      "metadata": {
        "id": "GLhG2CisjAer"
      },
      "id": "GLhG2CisjAer"
    },
    {
      "cell_type": "code",
      "source": [
        "# lms상의 코드\n",
        "# from bs4 import BeautifulSoup\n",
        "# import os\n",
        "\n",
        "# path = os.getenv(\"HOME\") + \"/aiffel/ftext/data/books.xml\"  # 로컬을 사용하시려면 경로는 수정해 주세요.\n",
        "# with open(path, \"r\", encoding='utf8') as f:\n",
        "#     booksxml = f.read()\n",
        "#     #- 파일을 문자열로 읽기\n",
        "\n",
        "# soup = BeautifulSoup(booksxml,'lxml')\n",
        "# #- BeautifulSoup 객체 생성 : lxml parser를 이용해 데이터 분석\n",
        "\n",
        "# for title in soup.find_all('title'):\n",
        "# #-  태그를 찾는 find_all 함수 이용\n",
        "#     print(title.get_text())"
      ],
      "metadata": {
        "id": "HTI3PuiRi4x9"
      },
      "id": "HTI3PuiRi4x9",
      "execution_count": null,
      "outputs": []
    },
    {
      "cell_type": "markdown",
      "source": [
        "#### 13-09 여러 파일 포맷(3) JSON\n",
        "- JSON은 JavaScript Object Notation의 약자로, 웹 언어인 JavaScript의 데이터 객체 표현 방식\n",
        "- 웹 브라우저와 다른 애플리케이션 사이에서 HTTP 요청으로 데이터를 보낼 때 널리 사용하는 표준 파일 포맷\n",
        "- XML과 더불어 웹 API나 config 데이터를 전송할 때 많이 쓰임\n",
        "- CSV 파일에 비해 좀 더 유연하게 데이터를 표현할 수 있고 XML 파일보다 파일을 쉽게 읽고 쓸 수 있다는 장점"
      ],
      "metadata": {
        "id": "nNiRjkDcki9H"
      },
      "id": "nNiRjkDcki9H"
    },
    {
      "cell_type": "markdown",
      "source": [
        "##### JSON 파싱"
      ],
      "metadata": {
        "id": "-uDpb5iflUSY"
      },
      "id": "-uDpb5iflUSY"
    },
    {
      "cell_type": "code",
      "source": [
        "import json\n",
        "\n",
        "person = {\n",
        "      \"first name\" : \"Yuna\",\n",
        "      \"last name\" : \"Jung\",\n",
        "      \"age\" : 33,\n",
        "      \"nationality\" : \"South Korea\",\n",
        "      \"education\" : [{\"degree\":\"B.S degree\", \"university\":\"Daehan university\", \"major\": \"mechanical engineering\", \"graduated year\":2010}]\n",
        "       }\n",
        "\n",
        "with open(\"person.json\", \"w\") as f:\n",
        "    json.dump(person , f)\n",
        "\n",
        "print(\"슝~\")"
      ],
      "metadata": {
        "colab": {
          "base_uri": "https://localhost:8080/"
        },
        "id": "_0ia43a9kl9C",
        "outputId": "3a818f03-0f93-4e00-95e4-f3977e46bdac"
      },
      "id": "_0ia43a9kl9C",
      "execution_count": null,
      "outputs": [
        {
          "output_type": "stream",
          "name": "stdout",
          "text": [
            "슝~\n"
          ]
        }
      ]
    },
    {
      "cell_type": "code",
      "source": [
        "import json\n",
        "\n",
        "with open(\"person.json\", \"r\", encoding=\"utf-8\") as f:\n",
        "    contents = json.load(f)\n",
        "    print(contents[\"first name\"])\n",
        "    print(contents[\"education\"])"
      ],
      "metadata": {
        "colab": {
          "base_uri": "https://localhost:8080/"
        },
        "id": "JXQa2FSglYLI",
        "outputId": "9c9f9442-8bd8-4a0d-c15a-ea9b7125093d"
      },
      "id": "JXQa2FSglYLI",
      "execution_count": null,
      "outputs": [
        {
          "output_type": "stream",
          "name": "stdout",
          "text": [
            "Yuna\n",
            "[{'degree': 'B.S degree', 'university': 'Daehan university', 'major': 'mechanical engineering', 'graduated year': 2010}]\n"
          ]
        }
      ]
    },
    {
      "cell_type": "markdown",
      "source": [
        "### 노드14 : 텍스트 데이터 다루기"
      ],
      "metadata": {
        "id": "rM86oQbwmA_g"
      },
      "id": "rM86oQbwmA_g"
    },
    {
      "cell_type": "markdown",
      "source": [
        "#### 14-01 전처리(노이즈 제거)\n",
        "- 자연어의 경우 다양한 형태의 노이즈 존재\n",
        "  - 불완전한 문장으로 구성된 대화\n",
        "  - 문장의 길이가 너무 길거나 짧은 경우\n",
        "  - 문장이 길지만 아무 관련성 없는 경우\n",
        "  - 채팅 데이터에서 문장 시간 간격이 너무 긴 경우"
      ],
      "metadata": {
        "id": "JSqV9G-_o2v-"
      },
      "id": "JSqV9G-_o2v-"
    },
    {
      "cell_type": "markdown",
      "source": [
        "##### 노이즈 유형(1) 문장부호\n",
        "  - Hi, my name is john.\n",
        "  - 문장부호를 단어와 분리하면 해결이 되는 상황이기 때문에 문장부호 양쪽에 공백을 추가"
      ],
      "metadata": {
        "id": "Qt55BaM5pW1U"
      },
      "id": "Qt55BaM5pW1U"
    },
    {
      "cell_type": "code",
      "source": [
        "def pad_punctuation(sentence, punc):\n",
        "    for p in punc:\n",
        "        sentence = sentence.replace(p, \" \" + p + \" \")\n",
        "\n",
        "    return sentence\n",
        "\n",
        "sentence = \"Hi, my name is john.\"\n",
        "\n",
        "print(pad_punctuation(sentence, [\".\", \"?\", \"!\", \",\"]))"
      ],
      "metadata": {
        "colab": {
          "base_uri": "https://localhost:8080/"
        },
        "id": "jsbx-iUUpVsQ",
        "outputId": "b91fbe96-d245-4e36-d5ec-5036912fbe89"
      },
      "id": "jsbx-iUUpVsQ",
      "execution_count": null,
      "outputs": [
        {
          "output_type": "stream",
          "name": "stdout",
          "text": [
            "Hi ,  my name is john . \n"
          ]
        }
      ]
    },
    {
      "cell_type": "markdown",
      "source": [
        "##### 노이즈 유형 (2) 대소문자\n",
        "- First, open the first chapter.\n",
        "  - 엄연히 말하면 위 예시에서 First와 first는 부사와 한정사로 구분되어 각각의 용도를 배우면 더 좋지만, 일단 현재는 다루지 않음"
      ],
      "metadata": {
        "id": "9P34uQsjpv6V"
      },
      "id": "9P34uQsjpv6V"
    },
    {
      "cell_type": "code",
      "source": [
        "sentence = \"First, open the first chapter.\"\n",
        "\n",
        "print(sentence.lower())"
      ],
      "metadata": {
        "colab": {
          "base_uri": "https://localhost:8080/"
        },
        "id": "6a8SX0I_mDWt",
        "outputId": "6d470358-3dac-4f1f-8c89-ee2ee200ccc6"
      },
      "id": "6a8SX0I_mDWt",
      "execution_count": null,
      "outputs": [
        {
          "output_type": "stream",
          "name": "stdout",
          "text": [
            "first, open the first chapter.\n"
          ]
        }
      ]
    },
    {
      "cell_type": "code",
      "source": [
        "sentence = \"First, open the first chapter.\"\n",
        "\n",
        "# Q. sentence의 모든 단어를 대문자로 바꿔보세요.\n",
        "# 힌트: upper() 함수를 사용해 보세요!\n",
        "# [[YOUR CODE]]\n",
        "\n",
        "print(sentence.upper())"
      ],
      "metadata": {
        "colab": {
          "base_uri": "https://localhost:8080/"
        },
        "id": "gftW5dhCp7uw",
        "outputId": "aa523964-9a67-44e8-f943-cb2d7f636630"
      },
      "id": "gftW5dhCp7uw",
      "execution_count": null,
      "outputs": [
        {
          "output_type": "stream",
          "name": "stdout",
          "text": [
            "FIRST, OPEN THE FIRST CHAPTER.\n"
          ]
        }
      ]
    },
    {
      "cell_type": "markdown",
      "source": [
        "##### 노이즈 유형 (3) 특수문자\n",
        "- He is a ten-year-old boy.\n",
        "- 우리는 사용할 알파벳과 기호들을 정의해 이를 제외하곤 모두 제거\n",
        "  - 모든 예외케이스들을 다 따지기 어렵기 때문\n",
        "  - 하단에 cleaning_text() 함수 정의"
      ],
      "metadata": {
        "id": "08n6EwSdqCVC"
      },
      "id": "08n6EwSdqCVC"
    },
    {
      "cell_type": "code",
      "source": [
        "import re\n",
        "\n",
        "sentence = \"He is a ten-year-old boy.\"\n",
        "sentence = re.sub(\"([^a-zA-Z.,?!])\", \" \", sentence)\n",
        "\n",
        "print(sentence)"
      ],
      "metadata": {
        "colab": {
          "base_uri": "https://localhost:8080/"
        },
        "id": "vrXcfKaQqAPC",
        "outputId": "eef3d445-a511-43dd-e9cb-f0a42fce2065"
      },
      "id": "vrXcfKaQqAPC",
      "execution_count": null,
      "outputs": [
        {
          "output_type": "stream",
          "name": "stdout",
          "text": [
            "He is a ten year old boy.\n"
          ]
        }
      ]
    },
    {
      "cell_type": "code",
      "source": [
        "# From The Project Gutenberg\n",
        "# (https://www.gutenberg.org/files/2397/2397-h/2397-h.htm)\n",
        "\n",
        "corpus = \\\n",
        "\"\"\"\n",
        "In the days that followed I learned to spell in this uncomprehending way a great many words, among them pin, hat, cup and a few verbs like sit, stand and walk.\n",
        "But my teacher had been with me several weeks before I understood that everything has a name.\n",
        "One day, we walked down the path to the well-house, attracted by the fragrance of the honeysuckle with which it was covered.\n",
        "Some one was drawing water and my teacher placed my hand under the spout.\n",
        "As the cool stream gushed over one hand she spelled into the other the word water, first slowly, then rapidly.\n",
        "I stood still, my whole attention fixed upon the motions of her fingers.\n",
        "Suddenly I felt a misty consciousness as of something forgotten—a thrill of returning thought; and somehow the mystery of language was revealed to me.\n",
        "I knew then that \"w-a-t-e-r\" meant the wonderful cool something that was flowing over my hand.\n",
        "That living word awakened my soul, gave it light, hope, joy, set it free!\n",
        "There were barriers still, it is true, but barriers that could in time be swept away.\n",
        "\"\"\"\n",
        "\n",
        "def cleaning_text(text, punc, regex):\n",
        "    # 노이즈 유형 (1) 문장부호 공백추가\n",
        "    for p in punc:\n",
        "        text = text.replace(p, \" \" + p + \" \")\n",
        "\n",
        "    # 노이즈 유형 (2), (3) 소문자화 및 특수문자 제거\n",
        "    text = re.sub(regex, \" \", text).lower()\n",
        "\n",
        "    return text\n",
        "\n",
        "print(cleaning_text(corpus, [\".\", \",\", \"!\", \"?\"], \"([^a-zA-Z0-9.,?!\\n])\"))"
      ],
      "metadata": {
        "colab": {
          "base_uri": "https://localhost:8080/"
        },
        "id": "ch6-wLuFqRxD",
        "outputId": "fded6f2d-e092-4fa9-92fa-48e11e5c4799"
      },
      "id": "ch6-wLuFqRxD",
      "execution_count": null,
      "outputs": [
        {
          "output_type": "stream",
          "name": "stdout",
          "text": [
            "\n",
            "in the days that followed i learned to spell in this uncomprehending way a great many words ,  among them pin ,  hat ,  cup and a few verbs like sit ,  stand and walk .  \n",
            "but my teacher had been with me several weeks before i understood that everything has a name . \n",
            "one day ,  we walked down the path to the well house ,  attracted by the fragrance of the honeysuckle with which it was covered .  \n",
            "some one was drawing water and my teacher placed my hand under the spout .  \n",
            "as the cool stream gushed over one hand she spelled into the other the word water ,  first slowly ,  then rapidly .  \n",
            "i stood still ,  my whole attention fixed upon the motions of her fingers .  \n",
            "suddenly i felt a misty consciousness as of something forgotten a thrill of returning thought  and somehow the mystery of language was revealed to me .  \n",
            "i knew then that  w a t e r  meant the wonderful cool something that was flowing over my hand .  \n",
            "that living word awakened my soul ,  gave it light ,  hope ,  joy ,  set it free !  \n",
            "there were barriers still ,  it is true ,  but barriers that could in time be swept away . \n",
            "\n"
          ]
        }
      ]
    },
    {
      "cell_type": "markdown",
      "source": [
        "#### 14-02 분산표현 : 바나나 vs 사과\n",
        "- 임베딩 레이어(Embedding Layer)를 통해 단어의 분산 표현(distributed representation) 을 구현\n",
        "- 희소 표현(Sparse representation) : 단어를 고차원 벡터로 변환하는 것\n",
        "  - 사람을 나이와 성별로 구분하기 위해선 적어도 2차원이 필요함\n",
        "- 두 고차원 벡터의 유사도는 코사인 유사도(Cosine Similarity) 를 통해 구할 수 있음\n",
        "  - 예시: Q. 의미속성을 공유하지 않는 아래 두 희소표현 워드 벡터의 코사인 유사도를 구하기    \n",
        "  word_1 = {남자: [-1.0, 0.0, 0.0, 0.0]}\n",
        "word_2 = {사과: [0.0, 0.0, 1.0, 0.5]}\n",
        "  - 코사인 유사도는 두 벡터 내적값을 각자의 norm으로 나눈 것, 0임을 알 수 있음\n",
        "- Embedding 레이어를 사용해 각 단어가 몇 차원의 속성을 가질지 정의하는 방식으로 단어의 분산 표현(distributed representation) 를 구현"
      ],
      "metadata": {
        "id": "Lc2NLTGuqp_H"
      },
      "id": "Lc2NLTGuqp_H"
    },
    {
      "cell_type": "code",
      "source": [
        "# 각 속성값들이 정수가 아니라 실수라면 아저씨/아줌마/할머니/할아버지/소년/소녀/남자/여자 구분 가능\n",
        "# 1차적으로 완성된 우리의 희소 표현 방식의 단어 사전은 아래와 같음\n",
        "# {\n",
        "#     //     [성별, 연령]\n",
        "#     남자: [-1.0, 0.0], // 이를테면 0.0 이 \"관계없음 또는 중립적\" 을 의미할 수 있겠죠!\n",
        "#     여자: [1.0, 0.0],\n",
        "#     소년: [-1.0, -0.7],\n",
        "#     소녀: [1.0, -0.7],\n",
        "#     할머니: [1.0, 0.7],\n",
        "#     할아버지: [-1.0, 0.7],\n",
        "#     아저씨: [-1.0, 0.2],\n",
        "#     아줌마: [1.0, 0.2]\n",
        "# }"
      ],
      "metadata": {
        "id": "XK5UbDACqf_2"
      },
      "id": "XK5UbDACqf_2",
      "execution_count": null,
      "outputs": []
    },
    {
      "cell_type": "markdown",
      "source": [
        "##### 희소 표현, 분산 표현 요약!\n",
        "- 희소 표현(sparse representation)\n",
        "  - 희소 표현(sparse representation)은 단어를 고정된 크기의 벡터로 표현하지 않고,    \n",
        "  이진화(binary) 또는 빈도수(frequency) 등의 방식으로 표현하는 방식\n",
        "- 분산 표현(distributed representation)\n",
        "  - 단어를 고정된 크기의 벡터로 표현하는 방식"
      ],
      "metadata": {
        "id": "0hYPjLyDs2tq"
      },
      "id": "0hYPjLyDs2tq"
    },
    {
      "cell_type": "markdown",
      "source": [
        "##### 단어 사전 구성과 활용의 문제\n",
        "- Embedding 레이어를 사용해 구현한 분산 표현은 컴퓨터 입장에서는 단어 사전\n",
        "  - 사전만 가지고 외국에 나가면 바로 그 나라 말을 알아듣고 해석할 수 있을까?\n",
        "- 컴퓨터용 단어 사전이 있더라도, 컴퓨터는 엉뚱하게 해석하거나 단어를 찾지 못할 수 있음"
      ],
      "metadata": {
        "id": "fQ1MG7pMtTAA"
      },
      "id": "fQ1MG7pMtTAA"
    },
    {
      "cell_type": "markdown",
      "source": [
        "#### 14-03 토큰화\n",
        "- 단어를 쪼개는 기준은 토큰화(Tokenization) 기법에 의해 정해짐\n",
        "- 토근화는 자연어 처리 분야에서 매우 중요한 전처리 단계이며, 문장을 작은 단위로 쪼개어 처리할 수 있도록 하는 과정을 지칭\n",
        "  - 문장/단어를 쪼개는 기준은 토큰화(Tokenization) 기법에 의해 정해짐\n",
        "  - 문장을 어떤 기준으로 쪼개었을 때, 쪼개진 각 단어들을 토큰(Token)\n",
        "    - 어절, 음소, 형태소 어떤 기준?\n",
        "    - 어절은 문장을 구성하는 최소 단위(~단어)\n",
        "    - 음소는 말소리의 단위\n",
        "    - 형태소는 의미를 가지는 최소 단위(아마 이걸로 Tokenization할 듯?)"
      ],
      "metadata": {
        "id": "WWZ43tbxtpKh"
      },
      "id": "WWZ43tbxtpKh"
    },
    {
      "cell_type": "markdown",
      "source": [
        "##### 공백 기반 토큰화\n",
        "- 사실상 같은 단어인 days 와 day 가 구분되어 따로 저장이 되는 정도의 문제 존재"
      ],
      "metadata": {
        "id": "CCnmA9WPxOmM"
      },
      "id": "CCnmA9WPxOmM"
    },
    {
      "cell_type": "code",
      "source": [
        "corpus = \\\n",
        "\"\"\"\n",
        "in the days that followed i learned to spell in this uncomprehending way a great many words ,  among them pin ,  hat ,  cup and a few verbs like sit ,  stand and walk .\n",
        "but my teacher had been with me several weeks before i understood that everything has a name .\n",
        "one day ,  we walked down the path to the well house ,  attracted by the fragrance of the honeysuckle with which it was covered .\n",
        "some one was drawing water and my teacher placed my hand under the spout .\n",
        "as the cool stream gushed over one hand she spelled into the other the word water ,  first slowly ,  then rapidly .\n",
        "i stood still ,  my whole attention fixed upon the motions of her fingers .\n",
        "suddenly i felt a misty consciousness as of something forgotten a thrill of returning thought  and somehow the mystery of language was revealed to me .\n",
        "i knew then that  w a t e r  meant the wonderful cool something that was flowing over my hand .\n",
        "that living word awakened my soul ,  gave it light ,  hope ,  joy ,  set it free !\n",
        "there were barriers still ,  it is true ,  but barriers that could in time be swept away .\n",
        "\"\"\"\n",
        "\n",
        "tokens = corpus.split()\n",
        "\n",
        "print(\"문장이 포함하는 Tokens:\", tokens)"
      ],
      "metadata": {
        "colab": {
          "base_uri": "https://localhost:8080/"
        },
        "id": "Iv5mj1Zqtr1T",
        "outputId": "241b55c4-587b-46fd-cc4c-e8384811daea"
      },
      "id": "Iv5mj1Zqtr1T",
      "execution_count": null,
      "outputs": [
        {
          "output_type": "stream",
          "name": "stdout",
          "text": [
            "문장이 포함하는 Tokens: ['in', 'the', 'days', 'that', 'followed', 'i', 'learned', 'to', 'spell', 'in', 'this', 'uncomprehending', 'way', 'a', 'great', 'many', 'words', ',', 'among', 'them', 'pin', ',', 'hat', ',', 'cup', 'and', 'a', 'few', 'verbs', 'like', 'sit', ',', 'stand', 'and', 'walk', '.', 'but', 'my', 'teacher', 'had', 'been', 'with', 'me', 'several', 'weeks', 'before', 'i', 'understood', 'that', 'everything', 'has', 'a', 'name', '.', 'one', 'day', ',', 'we', 'walked', 'down', 'the', 'path', 'to', 'the', 'well', 'house', ',', 'attracted', 'by', 'the', 'fragrance', 'of', 'the', 'honeysuckle', 'with', 'which', 'it', 'was', 'covered', '.', 'some', 'one', 'was', 'drawing', 'water', 'and', 'my', 'teacher', 'placed', 'my', 'hand', 'under', 'the', 'spout', '.', 'as', 'the', 'cool', 'stream', 'gushed', 'over', 'one', 'hand', 'she', 'spelled', 'into', 'the', 'other', 'the', 'word', 'water', ',', 'first', 'slowly', ',', 'then', 'rapidly', '.', 'i', 'stood', 'still', ',', 'my', 'whole', 'attention', 'fixed', 'upon', 'the', 'motions', 'of', 'her', 'fingers', '.', 'suddenly', 'i', 'felt', 'a', 'misty', 'consciousness', 'as', 'of', 'something', 'forgotten', 'a', 'thrill', 'of', 'returning', 'thought', 'and', 'somehow', 'the', 'mystery', 'of', 'language', 'was', 'revealed', 'to', 'me', '.', 'i', 'knew', 'then', 'that', 'w', 'a', 't', 'e', 'r', 'meant', 'the', 'wonderful', 'cool', 'something', 'that', 'was', 'flowing', 'over', 'my', 'hand', '.', 'that', 'living', 'word', 'awakened', 'my', 'soul', ',', 'gave', 'it', 'light', ',', 'hope', ',', 'joy', ',', 'set', 'it', 'free', '!', 'there', 'were', 'barriers', 'still', ',', 'it', 'is', 'true', ',', 'but', 'barriers', 'that', 'could', 'in', 'time', 'be', 'swept', 'away', '.']\n"
          ]
        }
      ]
    },
    {
      "cell_type": "markdown",
      "source": [
        "##### 형태소 기반 토큰화\n",
        "- 형태소 : 뜻을 가진 가장 작은 말의 단위\n",
        "- 한국어 형태소 분석기는 대표적으로 KoNLPy\n",
        "- 여러 형태소 분석기 성능에 대한 글\n",
        "  - https://iostream.tistory.com/144\n",
        "- \"오늘도 공부만 한다\"라는 문장이 있다면, 오늘, 도, 공부, 만, 한다 로 쪼개지는 것이 바로 형태소\n",
        "- 한국어 형태소 분석기 예시\n",
        "  - khaiii, 한나눔, 꼬꼬마, KOMORAN, Open Korean Text, mecab 등이 있음\n",
        "  - 연산속도/품질 모두 고려한다면 mecab(colab에서 오류 있음)\n",
        "  - 자소 분리, 오탈자에 대한 분석 고려한다면 KOMORAN도 고려할 만함"
      ],
      "metadata": {
        "id": "hqbBdFxsyF-7"
      },
      "id": "hqbBdFxsyF-7"
    },
    {
      "cell_type": "code",
      "source": [
        "!pip install konlpy"
      ],
      "metadata": {
        "colab": {
          "base_uri": "https://localhost:8080/"
        },
        "id": "QRWP60_U24Ui",
        "outputId": "2c584348-5bd9-4312-f479-8c6de7501b44"
      },
      "id": "QRWP60_U24Ui",
      "execution_count": null,
      "outputs": [
        {
          "output_type": "stream",
          "name": "stdout",
          "text": [
            "Collecting konlpy\n",
            "  Downloading konlpy-0.6.0-py2.py3-none-any.whl.metadata (1.9 kB)\n",
            "Collecting JPype1>=0.7.0 (from konlpy)\n",
            "  Downloading jpype1-1.5.2-cp311-cp311-manylinux_2_17_x86_64.manylinux2014_x86_64.whl.metadata (4.9 kB)\n",
            "Requirement already satisfied: lxml>=4.1.0 in /usr/local/lib/python3.11/dist-packages (from konlpy) (5.4.0)\n",
            "Requirement already satisfied: numpy>=1.6 in /usr/local/lib/python3.11/dist-packages (from konlpy) (2.0.2)\n",
            "Requirement already satisfied: packaging in /usr/local/lib/python3.11/dist-packages (from JPype1>=0.7.0->konlpy) (24.2)\n",
            "Downloading konlpy-0.6.0-py2.py3-none-any.whl (19.4 MB)\n",
            "\u001b[2K   \u001b[90m━━━━━━━━━━━━━━━━━━━━━━━━━━━━━━━━━━━━━━━━\u001b[0m \u001b[32m19.4/19.4 MB\u001b[0m \u001b[31m38.5 MB/s\u001b[0m eta \u001b[36m0:00:00\u001b[0m\n",
            "\u001b[?25hDownloading jpype1-1.5.2-cp311-cp311-manylinux_2_17_x86_64.manylinux2014_x86_64.whl (494 kB)\n",
            "\u001b[2K   \u001b[90m━━━━━━━━━━━━━━━━━━━━━━━━━━━━━━━━━━━━━━━━\u001b[0m \u001b[32m494.1/494.1 kB\u001b[0m \u001b[31m29.2 MB/s\u001b[0m eta \u001b[36m0:00:00\u001b[0m\n",
            "\u001b[?25hInstalling collected packages: JPype1, konlpy\n",
            "Successfully installed JPype1-1.5.2 konlpy-0.6.0\n"
          ]
        }
      ]
    },
    {
      "cell_type": "code",
      "source": [
        "from konlpy.tag import Hannanum,Kkma,Komoran,Mecab,Okt"
      ],
      "metadata": {
        "id": "c5ykcidjxfc7"
      },
      "id": "c5ykcidjxfc7",
      "execution_count": null,
      "outputs": []
    },
    {
      "cell_type": "code",
      "source": [
        "tokenizer_list = [Hannanum(),Kkma(),Komoran(),Okt()]\n",
        "# Mecab이 로컬/LMS에서 되는데 colab은 오류 존재, 여기선 빼겠음\n",
        "\n",
        "kor_text = '코로나바이러스는 2019년 12월 중국 우한에서 처음 발생한 뒤 전 세계로 확산된, 새로운 유형의 호흡기 감염 질환입니다.'\n",
        "\n",
        "for tokenizer in tokenizer_list:\n",
        "    print('[{}] \\n{}'.format(tokenizer.__class__.__name__, tokenizer.pos(kor_text)))"
      ],
      "metadata": {
        "colab": {
          "base_uri": "https://localhost:8080/"
        },
        "id": "R-UraGnR45PQ",
        "outputId": "f471d426-a956-4a3f-9d72-8b20acb8decd"
      },
      "id": "R-UraGnR45PQ",
      "execution_count": null,
      "outputs": [
        {
          "output_type": "stream",
          "name": "stdout",
          "text": [
            "[Hannanum] \n",
            "[('코로나바이러스', 'N'), ('는', 'J'), ('2019년', 'N'), ('12월', 'N'), ('중국', 'N'), ('우한', 'N'), ('에서', 'J'), ('처음', 'M'), ('발생', 'N'), ('하', 'X'), ('ㄴ', 'E'), ('뒤', 'N'), ('전', 'N'), ('세계', 'N'), ('로', 'J'), ('확산', 'N'), ('되', 'X'), ('ㄴ', 'E'), (',', 'S'), ('새롭', 'P'), ('은', 'E'), ('유형', 'N'), ('의', 'J'), ('호흡기', 'N'), ('감염', 'N'), ('질환', 'N'), ('이', 'J'), ('ㅂ니다', 'E'), ('.', 'S')]\n",
            "[Kkma] \n",
            "[('코로나', 'NNG'), ('바', 'NNG'), ('이러', 'MAG'), ('슬', 'VV'), ('는', 'ETD'), ('2019', 'NR'), ('년', 'NNM'), ('12', 'NR'), ('월', 'NNM'), ('중국', 'NNG'), ('우', 'NNG'), ('하', 'XSV'), ('ㄴ', 'ETD'), ('에', 'VV'), ('서', 'ECD'), ('처음', 'NNG'), ('발생', 'NNG'), ('하', 'XSV'), ('ㄴ', 'ETD'), ('뒤', 'NNG'), ('전', 'NNG'), ('세계', 'NNG'), ('로', 'JKM'), ('확산', 'NNG'), ('되', 'XSV'), ('ㄴ', 'ETD'), (',', 'SP'), ('새', 'NNG'), ('롭', 'XSA'), ('ㄴ', 'ETD'), ('유형', 'NNG'), ('의', 'JKG'), ('호흡기', 'NNG'), ('감염', 'NNG'), ('질환', 'NNG'), ('이', 'VCP'), ('ㅂ니다', 'EFN'), ('.', 'SF')]\n",
            "[Komoran] \n",
            "[('코로나바이러스', 'NNP'), ('는', 'JX'), ('2019', 'SN'), ('년', 'NNB'), ('12월', 'NNP'), ('중국', 'NNP'), ('우', 'NNP'), ('한', 'NNP'), ('에서', 'JKB'), ('처음', 'NNG'), ('발생', 'NNG'), ('하', 'XSV'), ('ㄴ', 'ETM'), ('뒤', 'NNG'), ('전', 'MM'), ('세계로', 'NNP'), ('확산', 'NNG'), ('되', 'XSV'), ('ㄴ', 'ETM'), (',', 'SP'), ('새롭', 'VA'), ('ㄴ', 'ETM'), ('유형', 'NNP'), ('의', 'JKG'), ('호흡기', 'NNG'), ('감염', 'NNP'), ('질환', 'NNG'), ('이', 'VCP'), ('ㅂ니다', 'EF'), ('.', 'SF')]\n",
            "[Okt] \n",
            "[('코로나바이러스', 'Noun'), ('는', 'Josa'), ('2019년', 'Number'), ('12월', 'Number'), ('중국', 'Noun'), ('우한', 'Noun'), ('에서', 'Josa'), ('처음', 'Noun'), ('발생', 'Noun'), ('한', 'Josa'), ('뒤', 'Noun'), ('전', 'Noun'), ('세계', 'Noun'), ('로', 'Josa'), ('확산', 'Noun'), ('된', 'Verb'), (',', 'Punctuation'), ('새로운', 'Adjective'), ('유형', 'Noun'), ('의', 'Josa'), ('호흡기', 'Noun'), ('감염', 'Noun'), ('질환', 'Noun'), ('입니다', 'Adjective'), ('.', 'Punctuation')]\n"
          ]
        }
      ]
    },
    {
      "cell_type": "markdown",
      "source": [
        "###### 사전에 없는 단어의 문제\n",
        "- 사전에 없는 단어는 <unk>같은 특수한 토큰(Unknown Token)으로 치환\n",
        "- 위 문장을 영문으로 번역한다면, 핵심인 단어 코로나바이러스와 우한을 모른다면 제대로 해낼 수 있을 리가 없음.\n",
        "  - 이를 OOV(Out-Of-Vocabulary) 문제라고 지칭함\n",
        "- 형태소 외에도 다른 방법들이 있음\n",
        "  - 예시) Wordpiece Model"
      ],
      "metadata": {
        "id": "PdkgyUfe5RoK"
      },
      "id": "PdkgyUfe5RoK"
    },
    {
      "cell_type": "markdown",
      "source": [
        "###### Gemini-pro와 대화\n",
        "- LLM은 어떤 식으로 Tokenization을 하는지 물어봄\n",
        "  - We use a data-driven, statistical approach called Subword Tokenization. The most famous algorithms are Byte-Pair Encoding (BPE) and SentencePiece (which Google uses).It's a brilliant hybrid approach that sits between morpheme-level and character-level tokenization.\n",
        "  - BPE를 쓰고, 구글은 SentencePiece사용\n",
        "  - 형태소~문자(음절) 사이의 tokenization"
      ],
      "metadata": {
        "id": "yzRcHNMC5zuL"
      },
      "id": "yzRcHNMC5zuL"
    },
    {
      "cell_type": "markdown",
      "source": [
        "#### 14-04 토근화 다른방법"
      ],
      "metadata": {
        "id": "ZqyoSZbi73vj"
      },
      "id": "ZqyoSZbi73vj"
    },
    {
      "cell_type": "markdown",
      "source": [
        "##### Byte Pair Encoding(BPE)\n",
        "- 1994년에 본래는 '데이터 압축' 목적으로 고안된 알고리즘\n",
        "- BPE 작동 예시   \n",
        "  - aaabdaaabac # 가장 많이 등장한 바이트 쌍 \"aa\"를 \"Z\"로 치환(Z=aa)\n",
        "    - 중간결과 : ZabdZabac   # \"aa\" 총 두 개가 치환되어 4바이트를 2바이트로 압축\n",
        "  - ZabdZabac # 그다음 많이 등장한 바이트 쌍 \"ab\"를 \"Y\"로 치환\n",
        "    - 중간결과 : ZYdZYac # \"ab\"총 두 개가 치환되어 4바이트를 2바이트로 압축\n",
        "    - 여기서 멈출 수도 있으나...\n",
        "  - 가장 많이 등장한 바이트 쌍 \"ZY\"를 \"X\"로 치환\n",
        "    - XdXac\n",
        "    - X = ZY\n",
        "    - Y = ab\n",
        "    - X = aa\n",
        "- 관련 논문 링크 : https://arxiv.org/pdf/1508.07909\n"
      ],
      "metadata": {
        "id": "VSHej3ME7_-E"
      },
      "id": "VSHej3ME7_-E"
    },
    {
      "cell_type": "code",
      "source": [
        "import re, collections\n",
        "\n",
        "# 임의의 데이터에 포함된 단어들입니다.\n",
        "# 우측의 정수는 임의의 데이터에 해당 단어가 포함된 빈도수입니다.\n",
        "vocab = {\n",
        "    'l o w '      : 5,\n",
        "    'l o w e r '  : 2,\n",
        "    'n e w e s t ': 6,\n",
        "    'w i d e s t ': 3\n",
        "}\n",
        "\n",
        "num_merges = 5\n",
        "\n",
        "def get_stats(vocab):\n",
        "    \"\"\"\n",
        "    단어 사전을 불러와\n",
        "    단어는 공백 단위로 쪼개어 문자 list를 만들고\n",
        "    빈도수와 쌍을 이루게 합니다. (symbols)\n",
        "    \"\"\"\n",
        "    pairs = collections.defaultdict(int)\n",
        "\n",
        "    for word, freq in vocab.items():\n",
        "        symbols = word.split()\n",
        "\n",
        "        for i in range(len(symbols) - 1):             # 모든 symbols를 확인하여\n",
        "            pairs[symbols[i], symbols[i + 1]] += freq  # 문자 쌍의 빈도수를 저장합니다.\n",
        "\n",
        "    return pairs\n",
        "\n",
        "def merge_vocab(pair, v_in):\n",
        "    \"\"\"\n",
        "    문자 쌍(pair)과 단어 리스트(v_in)를 입력받아\n",
        "    각각의 단어에서 등장하는 문자 쌍을 치환합니다.\n",
        "    (하나의 글자처럼 취급)\n",
        "    \"\"\"\n",
        "    v_out = {}\n",
        "    bigram = re.escape(' '.join(pair))\n",
        "    p = re.compile(r'(?<!\\S)' + bigram + r'(?!\\S)')\n",
        "\n",
        "    for word in v_in:\n",
        "        w_out = p.sub(''.join(pair), word)\n",
        "        v_out[w_out] = v_in[word]\n",
        "\n",
        "    return v_out, pair[0] + pair[1]\n",
        "\n",
        "token_vocab = []\n",
        "\n",
        "for i in range(num_merges):\n",
        "    print(\">> Step {0}\".format(i + 1))\n",
        "\n",
        "    pairs = get_stats(vocab)\n",
        "    best = max(pairs, key=pairs.get)  # 가장 많은 빈도수를 가진 문자 쌍을 반환합니다.\n",
        "    vocab, merge_tok = merge_vocab(best, vocab)\n",
        "    print(\"다음 문자 쌍을 치환:\", merge_tok)\n",
        "    print(\"변환된 Vocab:\\n\", vocab, \"\\n\")\n",
        "\n",
        "    token_vocab.append(merge_tok)\n",
        "\n",
        "print(\"Merged Vocab:\", token_vocab)"
      ],
      "metadata": {
        "colab": {
          "base_uri": "https://localhost:8080/"
        },
        "id": "R2oB0y4M5BhN",
        "outputId": "8251cc68-097b-41a8-c2b4-1232bf9ad8d9"
      },
      "id": "R2oB0y4M5BhN",
      "execution_count": null,
      "outputs": [
        {
          "output_type": "stream",
          "name": "stdout",
          "text": [
            ">> Step 1\n",
            "다음 문자 쌍을 치환: es\n",
            "변환된 Vocab:\n",
            " {'l o w ': 5, 'l o w e r ': 2, 'n e w es t ': 6, 'w i d es t ': 3} \n",
            "\n",
            ">> Step 2\n",
            "다음 문자 쌍을 치환: est\n",
            "변환된 Vocab:\n",
            " {'l o w ': 5, 'l o w e r ': 2, 'n e w est ': 6, 'w i d est ': 3} \n",
            "\n",
            ">> Step 3\n",
            "다음 문자 쌍을 치환: lo\n",
            "변환된 Vocab:\n",
            " {'lo w ': 5, 'lo w e r ': 2, 'n e w est ': 6, 'w i d est ': 3} \n",
            "\n",
            ">> Step 4\n",
            "다음 문자 쌍을 치환: low\n",
            "변환된 Vocab:\n",
            " {'low ': 5, 'low e r ': 2, 'n e w est ': 6, 'w i d est ': 3} \n",
            "\n",
            ">> Step 5\n",
            "다음 문자 쌍을 치환: ne\n",
            "변환된 Vocab:\n",
            " {'low ': 5, 'low e r ': 2, 'ne w est ': 6, 'w i d est ': 3} \n",
            "\n",
            "Merged Vocab: ['es', 'est', 'lo', 'low', 'ne']\n"
          ]
        }
      ]
    },
    {
      "cell_type": "markdown",
      "source": [
        "##### Wordpiece Model(WPM)\n",
        "- 이에 구글에서 BPE를 변형해 제안한 알고리즘이 바로 WPM입니다. WPM은 BPE에 대해 두 가지 차별성\n",
        "  - 공백 복원을 위해 단어의 시작 부분에 언더바 _ 를 추가\n",
        "  - 빈도수 기반이 아닌 가능도(Likelihood)를 증가시키는 방향으로 문자 쌍을 합침\n",
        "- 관련논문\n",
        "  - https://static.googleusercontent.com/media/research.google.com/ko//pubs/archive/37842.pdf\n",
        "- WPM 특징\n",
        "  - 조사, 어미 등의 활용이 많고 복잡한 한국어 같은 모델의 토크나이저로 WPM이 좋은 대안\n",
        "  - WPM은 어떤 언어든 무관하게 적용 가능한 language-neutral하고 general한 기법\n",
        "  - 저자들은 Katz's Back-off Model 을 통해 토큰화된 사전으로부터 결합할 단어를 선정\n",
        "  - 토큰화의 끝판왕으로 보이는 이 WPM은 아쉽게도 공개되어 있지는 않음. 대신에 구글의 SentencePiece 라이브러리를 통해 고성능의 BPE를 사용할 수 있음\n",
        "- soynlp\n",
        "  - 한국어를 위한 토크나이저로 soynlp를 활용할 수 있음. soynlp는 한국어 자연어 처리를 위한 라이브러리\n",
        "  - 토크나이저 외에도 단어 추출, 품사 판별, 전처리 기능도 제공"
      ],
      "metadata": {
        "id": "i_VaeyCG8BLk"
      },
      "id": "i_VaeyCG8BLk"
    },
    {
      "cell_type": "markdown",
      "source": [
        "#### 14-05 토근에게 의미 부여"
      ],
      "metadata": {
        "id": "lgFzV1eNGgqZ"
      },
      "id": "lgFzV1eNGgqZ"
    },
    {
      "cell_type": "markdown",
      "source": [
        "##### Word2Vec\n",
        "- Word2Vec은 \"단어를 벡터로 만든다\"는 의미\n",
        "- 참고 문헌 : https://wikidocs.net/22660\n",
        "- CBOW, Skip-gram 두 방법 있음\n",
        "  - CBOW(Continuous Bag of Words) : 주변에 있는 단어들을 입력으로 중간에 있는 단어들을 예측\n",
        "  - Skip-gram은 중심 단어에서 주변 단어를 예측\n",
        "  - 은닉층이 다수인 딥 러닝(deep learning) 모델이 아니라 은닉층이 1개인 얕은 신경망(shallow neural network)이라는 점\n",
        "- (논리적으론 CBOW가 좋아 보이지만) Skip-gram이 실제 실험에선 다소 우세"
      ],
      "metadata": {
        "id": "3WwIFG3iGtHa"
      },
      "id": "3WwIFG3iGtHa"
    },
    {
      "cell_type": "markdown",
      "source": [
        "##### FastText\n",
        "- FastText는 이를 해결하기 위해 BPE와 비슷한 아이디어를 적용\n",
        "  - SGNS기반\n",
        "- Word2Vec은 영어 위주로 성능이 괜찮지만, FastText는 한국어, 중국어에도 성능이 좋음\n",
        "- FastText는 기본적으로 SGNS 구조를 그대로 사용하면서, 입력 단어를 subword 단위로 확장한 모델"
      ],
      "metadata": {
        "id": "Q_v-XvpqJJMm"
      },
      "id": "Q_v-XvpqJJMm"
    },
    {
      "cell_type": "markdown",
      "source": [
        "##### ELMo\n",
        "- 위에 소개했던 Word Embedding 알고리즘들은 동음이의어 처리에 한계\n",
        "- 2018년 NLP계에 큰 폭풍을 몰고 왔던 ELMo라는 모델은 데이터에 단어가 등장한 순간, 그 주변 단어 정보를 사용해 Embedding을 구축하는 개념\n",
        "- the 1st Contextualized Word Embedding"
      ],
      "metadata": {
        "id": "sku2W0cGKvbU"
      },
      "id": "sku2W0cGKvbU"
    },
    {
      "cell_type": "markdown",
      "source": [
        "###### ELMo(양방향LSTM)\n",
        "- Contextual Word Embedding이 되는 벡터 3가지\n",
        "  - Token Layer (Word Embedding)\n",
        "    - 입력 단어 자체에 대한 벡터\n",
        "    - FastText나 Word2Vec처럼 정적인 embedding\n",
        "    - 학습 전 초기 단어 정보 제공\n",
        "  - 1st LSTM Layer Output (Lower LSTM)\n",
        "    - 양방향 LSTM의 첫 번째 층에서 나온 출력\n",
        "    - 문맥의 기본적인 정보 반영\n",
        "    - 어휘/구문 구조 수준의 문맥 정보 반영\n",
        "  - 2nd LSTM Layer Output (Higher LSTM)\n",
        "    - 두 번째 양방향 LSTM 층의 출력\n",
        "    - 더 높은 수준의 문맥 이해 (예: 의미론적 관계, 담화 구조 등)"
      ],
      "metadata": {
        "id": "zcUT50xiLg4W"
      },
      "id": "zcUT50xiLg4W"
    }
  ],
  "metadata": {
    "kernelspec": {
      "display_name": "Python 3 (ipykernel)",
      "language": "python",
      "name": "python3"
    },
    "language_info": {
      "codemirror_mode": {
        "name": "ipython",
        "version": 3
      },
      "file_extension": ".py",
      "mimetype": "text/x-python",
      "name": "python",
      "nbconvert_exporter": "python",
      "pygments_lexer": "ipython3",
      "version": "3.9.7"
    },
    "colab": {
      "provenance": [],
      "toc_visible": true
    }
  },
  "nbformat": 4,
  "nbformat_minor": 5
}