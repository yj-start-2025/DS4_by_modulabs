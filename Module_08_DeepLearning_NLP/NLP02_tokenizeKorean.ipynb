{
 "cells": [
  {
   "cell_type": "markdown",
   "id": "c2f7157e",
   "metadata": {},
   "source": [
    "## NLP02(노드15)\n",
    "- txt전처리, 토근화 활용해서 단어사전만들기"
   ]
  },
  {
   "cell_type": "markdown",
   "id": "590e32dd",
   "metadata": {},
   "source": [
    "### 노드15 멋진 단어사전 만들기"
   ]
  },
  {
   "cell_type": "markdown",
   "id": "35db9582",
   "metadata": {},
   "source": [
    "#### 15-01 들어가며\n",
    "- LMS 환경에서 실습 진행(colab 런타임 문제 등)\n",
    "- KoNLPy, 그중에서도 가장 성능이 준수한 MeCab클래스를 활용\n",
    "- colab의 경우 MeCab 사용이 어려우나, 교육생 동기분이 해결책 찾으심\n",
    "  - https://record3329.tistory.com/30"
   ]
  },
  {
   "cell_type": "code",
   "execution_count": 1,
   "id": "19bec05f",
   "metadata": {},
   "outputs": [
    {
     "name": "stdout",
     "output_type": "stream",
     "text": [
      "['자연어', '처리', '가', '너무', '재밌', '어서', '밥', '먹', '는', '것', '도', '가끔', '까먹', '어요']\n"
     ]
    }
   ],
   "source": [
    "from konlpy.tag import Mecab\n",
    "\n",
    "mecab = Mecab()\n",
    "print(mecab.morphs('자연어처리가너무재밌어서밥먹는것도가끔까먹어요'))"
   ]
  },
  {
   "cell_type": "markdown",
   "id": "642511dc",
   "metadata": {},
   "source": [
    "#### 15-02 데이터 다운로드 및 분석\n",
    "- 내려받은 데이터는 한국어의 형태소 분석과 품사 태깅, 기계 번역 연구를 위해 공개된 데이터"
   ]
  },
  {
   "cell_type": "code",
   "execution_count": 2,
   "id": "497eb0cf",
   "metadata": {},
   "outputs": [],
   "source": [
    "import os\n",
    "\n",
    "import matplotlib.pyplot as plt\n",
    "import tensorflow as tf\n",
    "import numpy as np\n",
    "\n",
    "%matplotlib inline"
   ]
  },
  {
   "cell_type": "code",
   "execution_count": 3,
   "id": "42011f1f",
   "metadata": {},
   "outputs": [
    {
     "name": "stdout",
     "output_type": "stream",
     "text": [
      "Data Size: 94123\n",
      "Example:\n",
      ">> 개인용 컴퓨터 사용의 상당 부분은 \"이것보다 뛰어날 수 있느냐?\"\n",
      ">> 북한의 핵무기 계획을 포기하도록 하려는 압력이 거세지고 있는 가운데, 일본과 북한의 외교관들이 외교 관계를 정상화하려는 회담을 재개했다.\n",
      ">> \"경호 로보트가 침입자나 화재를 탐지하기 위해서 개인적으로, 그리고 전문적으로 사용되고 있습니다.\"\n",
      ">> 수자원부 당국은 논란이 되고 있고, 막대한 비용이 드는 이 사업에 대해 내년에 건설을 시작할 계획이다.\n",
      ">> 또한 근력 운동은 활발하게 걷는 것이나 최소한 20분 동안 뛰는 것과 같은 유산소 활동에서 얻는 운동 효과를 심장과 폐에 주지 않기 때문에, 연구학자들은 근력 운동이 심장에 큰 영향을 미치는지 여부에 대해 논쟁을 해왔다.\n"
     ]
    }
   ],
   "source": [
    "import os\n",
    "path_to_file = os.getenv('HOME')+'/aiffel/sp_tokenizer/data/korean-english-park.train.ko'\n",
    "\n",
    "with open(path_to_file, \"r\") as f:\n",
    "    raw = f.read().splitlines()\n",
    "\n",
    "print(\"Data Size:\", len(raw))\n",
    "\n",
    "print(\"Example:\")\n",
    "for sen in raw[0:100][::20]: print(\">>\", sen)"
   ]
  },
  {
   "cell_type": "markdown",
   "id": "850c8c08",
   "metadata": {},
   "source": [
    "##### 전처리 전 시각화\n",
    "- 문장당 길이가 1500이 넘는 특이한 값들이 존재\n",
    "  - 문장에서 '길이'는 형태를 의미"
   ]
  },
  {
   "cell_type": "code",
   "execution_count": 4,
   "id": "22bc9b3d",
   "metadata": {},
   "outputs": [
    {
     "name": "stdout",
     "output_type": "stream",
     "text": [
      "문장의 최단 길이: 1\n",
      "문장의 최장 길이: 377\n",
      "문장의 평균 길이: 60\n"
     ]
    },
    {
     "data": {
      "image/png": "[encoded data removed]",
      "text/plain": [
       "<Figure size 432x288 with 1 Axes>"
      ]
     },
     "metadata": {
      "needs_background": "light"
     },
     "output_type": "display_data"
    }
   ],
   "source": [
    "min_len = 999\n",
    "max_len = 0\n",
    "sum_len = 0\n",
    "\n",
    "for sen in raw:\n",
    "    length = len(sen)\n",
    "    if min_len > length: min_len = length\n",
    "    if max_len < length: max_len = length\n",
    "    sum_len += length\n",
    "\n",
    "print(\"문장의 최단 길이:\", min_len)\n",
    "print(\"문장의 최장 길이:\", max_len)\n",
    "print(\"문장의 평균 길이:\", sum_len // len(raw))\n",
    "\n",
    "sentence_length = np.zeros((max_len), dtype=int)\n",
    "\n",
    "for sen in raw:\n",
    "    sentence_length[len(sen)-1] += 1\n",
    "\n",
    "plt.bar(range(max_len), sentence_length, width=1.0)\n",
    "plt.title(\"Sentence Length Distribution\")\n",
    "plt.show()"
   ]
  },
  {
   "cell_type": "code",
   "execution_count": 5,
   "id": "6fad0d64",
   "metadata": {},
   "outputs": [
    {
     "name": "stdout",
     "output_type": "stream",
     "text": [
      "’\n"
     ]
    }
   ],
   "source": [
    "# 문장 길이가 1인 문장 ',' 임을 확인\n",
    "def check_sentence_with_length(raw, length):\n",
    "    count = 0\n",
    "    \n",
    "    for sen in raw:\n",
    "        if len(sen) == length:\n",
    "            print(sen)\n",
    "            count += 1\n",
    "            if count > 100: return\n",
    "\n",
    "check_sentence_with_length(raw, 1)"
   ]
  },
  {
   "cell_type": "markdown",
   "id": "262b3b8f",
   "metadata": {},
   "source": [
    "##### 이상치 확인\n",
    "- 중복제거가 안 된 것을 확인"
   ]
  },
  {
   "cell_type": "code",
   "execution_count": 6,
   "id": "471908b1",
   "metadata": {},
   "outputs": [
    {
     "name": "stdout",
     "output_type": "stream",
     "text": [
      "Outlier Index: 11\n",
      "Outlier Index: 19\n",
      "Outlier Index: 21\n"
     ]
    }
   ],
   "source": [
    "for idx, _sum in enumerate(sentence_length):\n",
    "    # 문장의 길이가 1500을 초과하는 문장 길이를 추출합니다.\n",
    "    if _sum > 1500:\n",
    "        print(\"Outlier Index:\", idx+1)"
   ]
  },
  {
   "cell_type": "code",
   "execution_count": 7,
   "id": "efb92d9a",
   "metadata": {},
   "outputs": [
    {
     "name": "stdout",
     "output_type": "stream",
     "text": [
      "라고 조던이 말했다.\n",
      "- 모르고 있습니다.\n",
      "- 네, 보이는군요.\n",
      "디즈니사만이 아니다.\n",
      "큰 파티는 아니지요.\n",
      "의자는 비어 있었다.\n",
      "이 일은 계속됩니다.\n",
      "나는 크게 실망했다.\n",
      "그 이유는 간단하다.\n",
      "이력서와 자기 소개서\n",
      "시대가 변하고 있다.\n",
      "는 돌발질문을 했다.\n",
      "9. 몇 분간의 명상\n",
      "하와이, 빅 아일랜드\n",
      "키스를 잘 하는 방법\n",
      "키스를 잘 하는 방법\n",
      "스피어스가 뚱뚱한가?\n",
      "산 위를 나는 느낌.\n",
      "세 시간쯤 걸었을까?\n",
      "(아직 읽고있습니까?\n",
      "처음에는 장난이었다.\n",
      "우리는 운이 좋았다.\n",
      "아기가 숨을 멈출 때\n",
      "건물 전체 무너져내려\n",
      "그녀의 아름다운 눈.\n",
      "대답은 다음과 같다.\n",
      "\"사과할 것이 없다.\n",
      "폭탄테러가 공포 유발\n",
      "그는 \"잘 모르겠다.\n",
      "그는 \"잘 모르겠다.\n",
      "그는 \"잘 모르겠다.\n",
      "그는 \"잘 모르겠다.\n",
      "그는 \"잘 모르겠다.\n",
      "그는 \"잘 모르겠다.\n",
      "그는 \"잘 모르겠다.\n",
      "그는 \"잘 모르겠다.\n",
      "그는 \"잘 모르겠다.\n",
      "케냐 야생동물 고아원\n",
      "경유 1200원대로…\n",
      "더 내려야 하는 이유\n",
      "케냐 야생동물 고아원\n",
      "경유 1200원대로…\n",
      "더 내려야 하는 이유\n",
      "케냐 야생동물 고아원\n",
      "경유 1200원대로…\n",
      "더 내려야 하는 이유\n",
      "케냐 야생동물 고아원\n",
      "경유 1200원대로…\n",
      "더 내려야 하는 이유\n",
      "케냐 야생동물 고아원\n",
      "경유 1200원대로…\n",
      "더 내려야 하는 이유\n",
      "케냐 야생동물 고아원\n",
      "경유 1200원대로…\n",
      "더 내려야 하는 이유\n",
      "케냐 야생동물 고아원\n",
      "경유 1200원대로…\n",
      "더 내려야 하는 이유\n",
      "케냐 야생동물 고아원\n",
      "경유 1200원대로…\n",
      "더 내려야 하는 이유\n",
      "케냐 야생동물 고아원\n",
      "경유 1200원대로…\n",
      "더 내려야 하는 이유\n",
      "케냐 야생동물 고아원\n",
      "경유 1200원대로…\n",
      "더 내려야 하는 이유\n",
      "케냐 야생동물 고아원\n",
      "경유 1200원대로…\n",
      "더 내려야 하는 이유\n",
      "케냐 야생동물 고아원\n",
      "경유 1200원대로…\n",
      "더 내려야 하는 이유\n",
      "케냐 야생동물 고아원\n",
      "경유 1200원대로…\n",
      "더 내려야 하는 이유\n",
      "케냐 야생동물 고아원\n",
      "경유 1200원대로…\n",
      "더 내려야 하는 이유\n",
      "케냐 야생동물 고아원\n",
      "경유 1200원대로…\n",
      "더 내려야 하는 이유\n",
      "케냐 야생동물 고아원\n",
      "경유 1200원대로…\n",
      "더 내려야 하는 이유\n",
      "케냐 야생동물 고아원\n",
      "경유 1200원대로…\n",
      "더 내려야 하는 이유\n",
      "케냐 야생동물 고아원\n",
      "경유 1200원대로…\n",
      "더 내려야 하는 이유\n",
      "케냐 야생동물 고아원\n",
      "경유 1200원대로…\n",
      "더 내려야 하는 이유\n",
      "케냐 야생동물 고아원\n",
      "경유 1200원대로…\n",
      "더 내려야 하는 이유\n",
      "조금은 새침한 샬롯？\n",
      "조금은 새침한 샬롯？\n",
      "케냐 야생동물 고아원\n",
      "경유 1200원대로…\n"
     ]
    }
   ],
   "source": [
    "# 문장의 길이가 1500넘는 인덱스 11,19,21 중 11 확인\n",
    "# 확인해보니 중복 처리가 안되었음\n",
    "check_sentence_with_length(raw, 11)"
   ]
  },
  {
   "cell_type": "markdown",
   "id": "5e4ecd6e",
   "metadata": {},
   "source": [
    "##### 중복제거 로직 적용\n",
    "- python set 함수 통해 중복 제거"
   ]
  },
  {
   "cell_type": "code",
   "execution_count": 8,
   "id": "251acaa8",
   "metadata": {},
   "outputs": [
    {
     "name": "stdout",
     "output_type": "stream",
     "text": [
      "Data Size: 77591\n",
      "문장의 최단 길이: 1\n",
      "문장의 최장 길이: 377\n",
      "문장의 평균 길이: 64\n"
     ]
    },
    {
     "data": {
      "image/png": "[encoded data removed]",
      "text/plain": [
       "<Figure size 432x288 with 1 Axes>"
      ]
     },
     "metadata": {
      "needs_background": "light"
     },
     "output_type": "display_data"
    }
   ],
   "source": [
    "min_len = 999\n",
    "max_len = 0\n",
    "sum_len = 0\n",
    "\n",
    "cleaned_corpus = list(set(raw))  # set를 사용해서 중복을 제거합니다.\n",
    "print(\"Data Size:\", len(cleaned_corpus))\n",
    "\n",
    "for sen in cleaned_corpus:\n",
    "    length = len(sen)\n",
    "    if min_len > length: min_len = length\n",
    "    if max_len < length: max_len = length\n",
    "    sum_len += length\n",
    "\n",
    "print(\"문장의 최단 길이:\", min_len)\n",
    "print(\"문장의 최장 길이:\", max_len)\n",
    "print(\"문장의 평균 길이:\", sum_len // len(cleaned_corpus))\n",
    "\n",
    "sentence_length = np.zeros((max_len), dtype=int)\n",
    "\n",
    "for sen in cleaned_corpus:   # 중복이 제거된 코퍼스 기준\n",
    "    sentence_length[len(sen)-1] += 1\n",
    "\n",
    "plt.bar(range(max_len), sentence_length, width=1.0)\n",
    "plt.title(\"Sentence Length Distribution\")\n",
    "plt.show()"
   ]
  },
  {
   "cell_type": "markdown",
   "id": "0dfa4c05",
   "metadata": {},
   "source": [
    "##### 데이터 선택\n",
    "- 미니 배치를 만들 것을 생각하면 모든 데이터를 다 사용하는 것은 연산 측면에서 비효율적\n",
    "- 미니 배치 특성상 각 데이터의 크기가 모두 동일해야 하기 때문에 가장 긴 데이터를 기준으로 Padding 처리 필요\n",
    "  - 길이별로 정렬하여 미니 배치를 구성해 Padding을 최소화하는 방법 : 데이터 편향성 때문에 지양\n",
    "- 여기서는 문장의 길이(형태소)를 10~150으로 제약"
   ]
  },
  {
   "cell_type": "code",
   "execution_count": 9,
   "id": "833040e1",
   "metadata": {},
   "outputs": [
    {
     "data": {
      "image/png": "[encoded data removed]",
      "text/plain": [
       "<Figure size 432x288 with 1 Axes>"
      ]
     },
     "metadata": {
      "needs_background": "light"
     },
     "output_type": "display_data"
    }
   ],
   "source": [
    "max_len = 150\n",
    "min_len = 10\n",
    "\n",
    "# 길이 조건에 맞는 문장 선택\n",
    "filtered_corpus = [s for s in cleaned_corpus if (len(s)<max_len) & (len(s) >= min_len)] \n",
    "\n",
    "# 분포도를 다시 그려봅니다.\n",
    "sentence_length = np.zeros((max_len), dtype=int)\n",
    "\n",
    "for sen in filtered_corpus:\n",
    "    sentence_length[len(sen)-1] += 1\n",
    "\n",
    "plt.bar(range(max_len), sentence_length, width=1.0)\n",
    "plt.title(\"Sentence Length Distribution\")\n",
    "plt.show()"
   ]
  },
  {
   "cell_type": "markdown",
   "id": "102e23a9",
   "metadata": {},
   "source": [
    "#### 15-03 공백기반 토큰화"
   ]
  },
  {
   "cell_type": "markdown",
   "id": "d9818224",
   "metadata": {},
   "source": [
    "##### 함수 정의, 토큰화"
   ]
  },
  {
   "cell_type": "code",
   "execution_count": 10,
   "id": "2cea33ae",
   "metadata": {},
   "outputs": [],
   "source": [
    "# tokenize 함수 정의\n",
    "def tokenize(corpus):  # corpus: Tokenized Sentence's List\n",
    "    tokenizer = tf.keras.preprocessing.text.Tokenizer(filters='')\n",
    "    tokenizer.fit_on_texts(corpus)\n",
    "\n",
    "    tensor = tokenizer.texts_to_sequences(corpus)\n",
    "\n",
    "    tensor = tf.keras.preprocessing.sequence.pad_sequences(tensor, padding='post')\n",
    "\n",
    "    return tensor, tokenizer"
   ]
  },
  {
   "cell_type": "code",
   "execution_count": 11,
   "id": "eb827e40",
   "metadata": {},
   "outputs": [],
   "source": [
    "# 정제된 데이터 filtered_corpus를 공백 기반으로 토큰화하여 저장하는 코드를 직접 작성해 보세요.\n",
    "split_corpus = []\n",
    "\n",
    "for kor in filtered_corpus:\n",
    "    # 코드를 작성하세요\n",
    "    split_corpus.append(kor.split())"
   ]
  },
  {
   "cell_type": "markdown",
   "id": "c34c5b97",
   "metadata": {},
   "source": [
    "##### 단어 사전 길이 확인"
   ]
  },
  {
   "cell_type": "code",
   "execution_count": 12,
   "id": "19a24e6a",
   "metadata": {},
   "outputs": [
    {
     "name": "stdout",
     "output_type": "stream",
     "text": [
      "Split Vocab Size: 237435\n"
     ]
    }
   ],
   "source": [
    "split_tensor, split_tokenizer = tokenize(split_corpus)\n",
    "\n",
    "print(\"Split Vocab Size:\", len(split_tokenizer.index_word))"
   ]
  },
  {
   "cell_type": "markdown",
   "id": "80d5bb0e",
   "metadata": {},
   "source": [
    "##### 단어 사전 확인\n",
    "- 공백기간 분리시, 1번의 '밝혔다'는 '밝히다', '밝다' 등과 유사한 의미임에도 별개로 취급됨(연산량 증가)\n",
    "- 그렇다면 '밝' '혔다' 처럼 의미기반(형태소)로 분리할 수 있을까?"
   ]
  },
  {
   "cell_type": "code",
   "execution_count": 13,
   "id": "2eb1e668",
   "metadata": {},
   "outputs": [
    {
     "name": "stdout",
     "output_type": "stream",
     "text": [
      "0 , 이\n",
      "1 , 밝혔다.\n",
      "2 , 있다.\n",
      "3 , 말했다.\n",
      "4 , 수\n",
      "5 , 있는\n",
      "6 , 그는\n",
      "7 , 대한\n",
      "8 , 위해\n",
      "9 , 전했다.\n",
      "10 , 지난\n",
      "11 , 이번\n"
     ]
    }
   ],
   "source": [
    "for idx, word in enumerate(split_tokenizer.word_index):\n",
    "    print(idx, \",\", word)\n",
    "          \n",
    "    if idx > 10 : break  # idx가 10보다 크면 break!\n"
   ]
  },
  {
   "cell_type": "markdown",
   "id": "c36e822b",
   "metadata": {},
   "source": [
    "#### 15-04 형태소 기반 토큰화\n",
    "- 이번 코스에서는 KoNLPy, 그중에서도 가장 성능이 준수한 MeCab클래스를 활용\n",
    "- 단어 길이 차이 체크\n",
    "  - 공백 기반 : 237,435\n",
    "  - 형태소 기반 : 52,279"
   ]
  },
  {
   "cell_type": "markdown",
   "id": "de3cf3c6",
   "metadata": {},
   "source": [
    "##### mecab.morphs() 쓰기"
   ]
  },
  {
   "cell_type": "code",
   "execution_count": 14,
   "id": "a56ec5e0",
   "metadata": {},
   "outputs": [],
   "source": [
    "# 위에서 사용한 코드를 활용해 MeCab 단어 사전을 만들어보세요. \n",
    "# Hint : mecab.morphs()를 사용해서 형태소분석을 합니다.\n",
    "def mecab_split(sentence):\n",
    "    # 코드를 작성하세요\n",
    "    return mecab.morphs(sentence)\n",
    "\n",
    "mecab_corpus = []\n",
    "\n",
    "for kor in filtered_corpus:\n",
    "    # 코드를 작성하세요\n",
    "    mecab_corpus.append(mecab_split(kor))"
   ]
  },
  {
   "cell_type": "code",
   "execution_count": 15,
   "id": "b18e81e8",
   "metadata": {},
   "outputs": [
    {
     "data": {
      "text/plain": [
       "['탈라바니',\n",
       " '대통령',\n",
       " '아들',\n",
       " '쿠바드',\n",
       " '탈라바니',\n",
       " '는',\n",
       " '아버지',\n",
       " '가',\n",
       " '심장',\n",
       " '마비',\n",
       " '나',\n",
       " '뇌졸중',\n",
       " '에',\n",
       " '걸렸',\n",
       " '다는',\n",
       " '것',\n",
       " '은',\n",
       " '완전히',\n",
       " '잘못',\n",
       " '된',\n",
       " '정보',\n",
       " '라고',\n",
       " '말',\n",
       " '했',\n",
       " '다',\n",
       " '.']"
      ]
     },
     "execution_count": 15,
     "metadata": {},
     "output_type": "execute_result"
    }
   ],
   "source": [
    "# mecab_corpus 의 100번째 idx의 문장이 어떻게 형태소로 분리되었는지 체크\n",
    "mecab_corpus[100]"
   ]
  },
  {
   "cell_type": "code",
   "execution_count": 16,
   "id": "604c6fd1",
   "metadata": {},
   "outputs": [
    {
     "name": "stdout",
     "output_type": "stream",
     "text": [
      "MeCab Vocab Size: 52279\n"
     ]
    }
   ],
   "source": [
    "mecab_tensor, mecab_tokenizer = tokenize(mecab_corpus)\n",
    "print(\"MeCab Vocab Size:\", len(mecab_tokenizer.index_word))"
   ]
  },
  {
   "cell_type": "markdown",
   "id": "beb81ac0",
   "metadata": {},
   "source": [
    "##### 디코딩-1\n",
    "- 문장을 형태소 기반으로 쪼개는 것을 인코딩이라 지칭\n",
    "- 형태소 기반으로 쪼갠 것(tokenize)을 문장으로 복원하는 것을 디코딩\n",
    "- tokenizer.sequences_to_texts()"
   ]
  },
  {
   "cell_type": "code",
   "execution_count": 17,
   "id": "b7c099ae",
   "metadata": {},
   "outputs": [
    {
     "name": "stdout",
     "output_type": "stream",
     "text": [
      "탈라바니 대통령 아들 쿠바드 탈라바니 는 아버지 가 심장 마비 나 뇌졸중 에 걸렸 다는 것 은 완전히 잘못 된 정보 라고 말 했 다 .\n"
     ]
    }
   ],
   "source": [
    "# Case 1 : tokenizer.sequences_to_texts()\n",
    "\n",
    "# 여기에 코드를 작성하세요.\n",
    "texts = mecab_tokenizer.sequences_to_texts([mecab_tensor[100]])\n",
    "print(texts[0])"
   ]
  },
  {
   "cell_type": "markdown",
   "id": "1ec03192",
   "metadata": {},
   "source": [
    "##### 디코딩-2\n",
    "- tokenizer.index_word 사용"
   ]
  },
  {
   "cell_type": "code",
   "execution_count": 18,
   "id": "7379b75b",
   "metadata": {},
   "outputs": [
    {
     "name": "stdout",
     "output_type": "stream",
     "text": [
      "탈라바니 대통령 아들 쿠바드 탈라바니 는 아버지 가 심장 마비 나 뇌졸중 에 걸렸 다는 것 은 완전히 잘못 된 정보 라고 말 했 다 . \n"
     ]
    }
   ],
   "source": [
    "# Case 2 : tokenizer.index_word\n",
    "\n",
    "# 여기에 코드를 작성하세요.\n",
    "sentence = \"\"\n",
    "\n",
    "for w in mecab_tensor[100]:\n",
    "    if w == 0: continue\n",
    "    sentence += mecab_tokenizer.index_word[w] + \" \"\n",
    "\n",
    "print(sentence)"
   ]
  },
  {
   "cell_type": "markdown",
   "id": "f13543fc",
   "metadata": {},
   "source": [
    "##### 토근화 시사점-1\n",
    "- 구글의 Word Piece 기반 한국어 언어모델이 엑소브레인의 Word Piece 기반 한국어 언어모델보다    \n",
    "  전체적으로 성능이 크게 떨어지는 것은 시사점?\n",
    "  - 언어모델(BERT) 훈련 시킨 원리 동등하고, 토크나이저 구성 원리도 Word Piece로 대등하더라도   \n",
    "    학습에 사용된 말뭉치(corpus)의 품질과 분량, 토크나이저의 학습 대상 언어의 특화 정도, vocab의   \n",
    "    최적화 전략의 차이가 있을 수 있음"
   ]
  },
  {
   "cell_type": "markdown",
   "id": "9aea0bcd",
   "metadata": {},
   "source": [
    "##### 토근화 시사점-2\n",
    "- 엑소브레인의 BERT에 두 가지 버전이 있는데, 이 중 한국어 전용 형태소분석기 토크나이저를 사용한 버전이   \n",
    "  WordPiece 모델 토크나이저를 사용한 버전보다 대체로 성능이 좋다는 것의 시사점?\n",
    "  - WordPiece 모델은 해당 언어의 문법적 의미 등의 사전 정보가 반영되지 않은 채, 통계적인 기반으로   \n",
    "    자주 사용된 것을 등재한 것. 반면 한국어 문법과 의미정보 기반으로 개발된 형태소 분석기의 정확하게   \n",
    "    작동한다면, Subword 기반 토크나이저보다 대체로 성능이 더 좋을 수 있음"
   ]
  },
  {
   "cell_type": "markdown",
   "id": "452cd488",
   "metadata": {},
   "source": [
    "##### 토근화 시사점-3\n",
    "- 정교한 형태소분석기를 활용한 모델의 성능이 더 좋을 수 있음에도 불구하고 현장에서 SentencePiece 같은    \n",
    "  Subword 기반 토크나이저가 더욱 각광받는 이유\n",
    "  - 형태소 분석기는 언어별로 전용 분석기가 필요(한국어 Mecab, 일본어 Kuromoji, 중국어 jieba)하나,\n",
    "    Subword 기반 토크나이저는 언어 무관하게 동일한 알고리즘 적용 가능 -> 유지, 보수의 편리성\n",
    "  - SentencePiece는 텍스트 전처리 도구로 간편하게 배포 가능 (C++/Python 모두 지원), 반면에   \n",
    "    형태소 분석기는 OS 종속성, 라이선스 문제 등 제약"
   ]
  }
 ],
 "metadata": {
  "kernelspec": {
   "display_name": "Python 3 (ipykernel)",
   "language": "python",
   "name": "python3"
  },
  "language_info": {
   "codemirror_mode": {
    "name": "ipython",
    "version": 3
   },
   "file_extension": ".py",
   "mimetype": "text/x-python",
   "name": "python",
   "nbconvert_exporter": "python",
   "pygments_lexer": "ipython3",
   "version": "3.9.7"
  }
 },
 "nbformat": 4,
 "nbformat_minor": 5
}
