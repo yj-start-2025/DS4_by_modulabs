{
  "nbformat": 4,
  "nbformat_minor": 0,
  "metadata": {
    "colab": {
      "provenance": []
    },
    "kernelspec": {
      "name": "python3",
      "display_name": "Python 3"
    },
    "language_info": {
      "name": "python"
    }
  },
  "cells": [
    {
      "cell_type": "markdown",
      "source": [
        "### **MainQuest04**\n"
      ],
      "metadata": {
        "id": "mmDBE9E8QXLZ"
      }
    },
    {
      "cell_type": "markdown",
      "source": [
        "#### 통계문제"
      ],
      "metadata": {
        "id": "iiYOdFEhQcpb"
      }
    },
    {
      "cell_type": "markdown",
      "source": [
        "### 문제 1)\n",
        "\n",
        "- 빵집에서는 매일 아침에 구워지는 식빵 한 개의 평균 무게가 500g이 되도록 맞추고자 합니다. 빵집 주인은 오늘 아침에 구운 식빵 중에서 랜덤하게 25개의 식빵을 샘플링하여 무게를 측정했습니다. 그 결과, 표본 평균은 495g, 표준편차는 10g으로 나왔습니다. 빵집 주인이 목표한 500g의 무게를 충족하고 있는지(다시말해 목표 무게를 넘는지 안 넘는지)  5% 유의수준에서 검정해보세요"
      ],
      "metadata": {
        "id": "1Czh-Je4Q2zv"
      }
    },
    {
      "cell_type": "code",
      "source": [
        "# 모집단의 분포가 알려지지 않음\n",
        "# Z검정보다는 t검정을 한다.\n",
        "# H0 = 500\n",
        "# H1 != 500\n",
        "\n",
        "import numpy as np\n",
        "from scipy import stats # stats import?"
      ],
      "metadata": {
        "id": "EIDgfMgpQ4Q1"
      },
      "execution_count": 3,
      "outputs": []
    },
    {
      "cell_type": "markdown",
      "source": [
        "#### 착안점\n",
        "- stats.t.ppf 에서 t 통계량 확인 가능\n",
        "- (from scipy.stats import ttest_1samp) # 실제 관측치로 1sample t-test 할 때!\n",
        "- 이 문제는 양측검정임!"
      ],
      "metadata": {
        "id": "DY7pAM6oWCe9"
      }
    },
    {
      "cell_type": "code",
      "source": [
        "# 표본평균 495\n",
        "# 표본표준편차 10\n",
        "\n",
        "x_null = 500\n",
        "x_bar = 495\n",
        "s0 = 10\n",
        "n = 25 # 샘플 수량\n",
        "confidence_level = 0.95\n",
        "alpha = 0.05\n",
        "\n",
        "# t통계량 계산\n",
        "t_statistic = (x_bar-x_null)/(s0/np.sqrt(n))\n",
        "t_statistic\n",
        "# t_statistic으로 p_value도 계산가능\n"
      ],
      "metadata": {
        "colab": {
          "base_uri": "https://localhost:8080/"
        },
        "id": "Y_YMcp24VPmN",
        "outputId": "1d2256ba-9271-4b5f-a775-4ce5879984da"
      },
      "execution_count": 7,
      "outputs": [
        {
          "output_type": "execute_result",
          "data": {
            "text/plain": [
              "np.float64(-2.5)"
            ]
          },
          "metadata": {},
          "execution_count": 7
        }
      ]
    },
    {
      "cell_type": "code",
      "source": [
        "from scipy.stats import t # t 분포 import"
      ],
      "metadata": {
        "id": "RYiHAT_mZcH0"
      },
      "execution_count": 8,
      "outputs": []
    },
    {
      "cell_type": "code",
      "source": [
        "p_value = 2 * (1 - t.cdf(abs(t_statistic),n-1)) # 양측검정이므로 # 자유도 df = n -1 = 24\n",
        "p_value"
      ],
      "metadata": {
        "colab": {
          "base_uri": "https://localhost:8080/"
        },
        "id": "x6QFKxSWZgeB",
        "outputId": "e8290f53-7e18-4ac1-e62f-dc6cd9a8c852"
      },
      "execution_count": 10,
      "outputs": [
        {
          "output_type": "execute_result",
          "data": {
            "text/plain": [
              "np.float64(0.01965417511657863)"
            ]
          },
          "metadata": {},
          "execution_count": 10
        }
      ]
    },
    {
      "cell_type": "code",
      "source": [
        "# 결과 출력\n",
        "if p_value < alpha:\n",
        "    print(f\"t-값: {t_statistic:.4f}, p-value: {p_value:.4f}. 유의수준 {alpha}에서 귀무가설을 기각합니다. 빵의 평균 무게는 목표와 다릅니다.\")\n",
        "else:\n",
        "    print(f\"t-값: {t_statistic:.4f}, p-value: {p_value:.4f}. 유의수준 {alpha}에서 귀무가설을 채택합니다. 빵의 평균 무게는 목표와 통계적으로 차이가 없습니다.\")"
      ],
      "metadata": {
        "colab": {
          "base_uri": "https://localhost:8080/"
        },
        "id": "5PL83dApaFhE",
        "outputId": "f1fc2a90-9a37-4fe1-cd32-8a46d59e9fea"
      },
      "execution_count": 12,
      "outputs": [
        {
          "output_type": "stream",
          "name": "stdout",
          "text": [
            "t-값: -2.5000, p-value: 0.0197. 유의수준 0.05에서 귀무가설을 기각합니다. 빵의 평균 무게는 목표와 다릅니다.\n"
          ]
        }
      ]
    },
    {
      "cell_type": "markdown",
      "source": [
        "### 문제2) 분포 시각화\n",
        "\n",
        "문제 1번을 바탕으로 분포를 그리고 t통계량을 빨간색 점선으로, 초록색 점선으로 임계값을 기각역을 초록색으로 칠해보세요.\n",
        "\n",
        "***기각역**:  통계량이 들어왔을 경우 귀무가설을 기각할 수 있는 영역을 말합니다."
      ],
      "metadata": {
        "id": "RIGOF2dHRWyv"
      }
    },
    {
      "cell_type": "code",
      "source": [
        "# 확인차 t-통계량 다시 출력!\n",
        "t_statistic # t통계량"
      ],
      "metadata": {
        "colab": {
          "base_uri": "https://localhost:8080/"
        },
        "id": "9TBaMN-oRYu4",
        "outputId": "3a18613e-9a8a-4cf3-c988-9c9322da5249"
      },
      "execution_count": 13,
      "outputs": [
        {
          "output_type": "execute_result",
          "data": {
            "text/plain": [
              "np.float64(-2.5)"
            ]
          },
          "metadata": {},
          "execution_count": 13
        }
      ]
    },
    {
      "cell_type": "code",
      "source": [
        "# 양측검정...\n",
        "# 기각역을 찾아야 함\n",
        "t_critical_lower = -stats.t.ppf((1 + confidence_level) / 2, df=n-1)\n",
        "t_critical_upper = stats.t.ppf((1 + confidence_level) / 2, df=n-1)\n",
        "print(f\"기각역하단: {t_critical_lower : .3f}\")\n",
        "print(f\"기각역상단: {t_critical_upper : .3f}\")"
      ],
      "metadata": {
        "colab": {
          "base_uri": "https://localhost:8080/"
        },
        "id": "7_RX_mCbaqO5",
        "outputId": "2fac8dac-d1b3-4385-d09e-e00081c4c004"
      },
      "execution_count": 23,
      "outputs": [
        {
          "output_type": "stream",
          "name": "stdout",
          "text": [
            "기각역하단: -2.064\n",
            "기각역상단:  2.064\n"
          ]
        }
      ]
    },
    {
      "cell_type": "code",
      "source": [
        "# 시각화 tool import!\n",
        "import matplotlib.pyplot as plt\n",
        "import seaborn as sns"
      ],
      "metadata": {
        "id": "mbKMboXWbzsu"
      },
      "execution_count": 24,
      "outputs": []
    },
    {
      "cell_type": "code",
      "source": [
        "import numpy as np\n",
        "import matplotlib.pyplot as plt\n",
        "from scipy.stats import t\n",
        "\n",
        "# 표본평균 495, 표준편차 10, 샘플수량 25\n",
        "n = 25\n",
        "df = n-1\n",
        "alpha = 0.05\n",
        "x = np.linspace(-4, 4, 500)\n",
        "y = t.pdf(x, df)\n",
        "\n",
        "# 임계값\n",
        "crit = t.ppf(1 - alpha/2, df)\n",
        "\n",
        "plt.plot(x, y, label=\"t-distribution\")\n",
        "# 양쪽 임계값 선 그리기\n",
        "plt.axvline(crit, color='red', linestyle='--', label=\"Critical Values\")\n",
        "plt.axvline(-crit, color='red', linestyle='--')\n",
        "\n",
        "# 양측 기각역 색칠\n",
        "plt.fill_between(x, y, where=(x >= crit), color='green', alpha=0.3)\n",
        "plt.fill_between(x, y, where=(x <= -crit), color='green', alpha=0.3)\n",
        "\n",
        "plt.legend()\n",
        "plt.title(\"Two-tailed t-distribution with rejection region\")\n",
        "plt.grid(True)\n",
        "plt.show()"
      ],
      "metadata": {
        "colab": {
          "base_uri": "https://localhost:8080/",
          "height": 452
        },
        "id": "wEqYm8iwcA0q",
        "outputId": "8354ca5a-7299-44f4-c47a-cdd4770ce1ca"
      },
      "execution_count": 206,
      "outputs": [
        {
          "output_type": "display_data",
          "data": {
            "text/plain": [
              "<Figure size 640x480 with 1 Axes>"
            ],
            "image/png": "[encoded data removed]"
          },
          "metadata": {}
        }
      ]
    },
    {
      "cell_type": "markdown",
      "source": [
        "### 문제 3) 단일 t 표본 검정\n",
        "\n",
        "- 어느 학교에서 새로운 교육 프로그램을 도입한 후 학생들의 수학 성적이 향상되었는지 확인하려고 합니다. 프로그램 도입 후 무작위로 선택한 16명의 학생들의 수학 성적 평균은 78점이고, 모집단의 평균은 75점입니다. 모집단의 표준편차는 알 수 없다고 합니다.\n",
        "- 유의수준 0.05에서 이 교육 프로그램이 성적 향상에 효과가 있는지 단일 표본 t-검정을 실시하세요.\n"
      ],
      "metadata": {
        "id": "upCqH6gTRZgG"
      }
    },
    {
      "cell_type": "code",
      "source": [
        "# import pandas as pd\n",
        "\n",
        "sample_scores = [79, 77, 80, 76, 78, 81, 75, 79, 77, 80, 78, 76, 82, 77, 79, 78]  # 예시 데이터 (평균 78.25)\n",
        "mu0 = 75 # 모집단 평균 (mu1-mu0 > 0) 우측검정?\n",
        "\n",
        "# 계산 과정\n",
        "n = len(sample_scores) # 표본 숫자\n",
        "df = n-1 # 자유도\n",
        "sample_mean = np.mean(sample_scores)\n",
        "sample_standard_deviation = np.std(sample_scores, ddof=1) # 표본 표준편차 이므로 분모 (n-1)꼴\n",
        "alpha = 0.05 # 유의수준\n",
        "standard_error = sample_standard_deviation/np.sqrt(n) # 표준오차 (표본표준편차 나누기 데이터갯수의 제곱근)\n",
        "\n",
        "t_stat = (sample_mean - mu0)/standard_error # t 통계량\n",
        "p_value = 1-t.cdf(t_stat,df) # 우측검정\n",
        "\n",
        "print(f'표본숫자: {n}')\n",
        "print(f'표본평균: {sample_mean}')\n",
        "print(f'표본표준편차: {sample_standard_deviation:.3f}')\n",
        "print(f'표준오차: {standard_error:.3f}')\n",
        "print(f't통계량: {t_stat:.3f}')\n",
        "print(f'p-value:{p_value:.4f}')"
      ],
      "metadata": {
        "colab": {
          "base_uri": "https://localhost:8080/"
        },
        "id": "tcQqiIVURhwQ",
        "outputId": "0395daca-ab8b-4600-eb81-49d6a9402e4e"
      },
      "execution_count": 46,
      "outputs": [
        {
          "output_type": "stream",
          "name": "stdout",
          "text": [
            "표본숫자: 16\n",
            "표본평균: 78.25\n",
            "표본표준편차: 1.915\n",
            "표준오차: 0.479\n",
            "t통계량: 6.789\n",
            "p-value:0.0000\n"
          ]
        }
      ]
    },
    {
      "cell_type": "code",
      "source": [
        "# 결과 출력\n",
        "if p_value < alpha:\n",
        "    print(f\"t-값: {t_stat:.4f}, p-value: {p_value:.4f}. 유의수준 {alpha}에서 귀무가설을 기각합니다. 교육프로그램은 효과가 있습니다.\")\n",
        "else:\n",
        "    print(f\"t-값: {t_stat:.4f}, p-value: {p_value:.4f}. 유의수준 {alpha}에서 귀무가설을 채택합니다. 교육프로그램은 효과가 없습니다\")"
      ],
      "metadata": {
        "colab": {
          "base_uri": "https://localhost:8080/"
        },
        "id": "zyHSeHDNc-6Z",
        "outputId": "438735bb-5c8b-4458-dfe8-710163e77cdf"
      },
      "execution_count": 47,
      "outputs": [
        {
          "output_type": "stream",
          "name": "stdout",
          "text": [
            "t-값: 6.7890, p-value: 0.0000. 유의수준 0.05에서 귀무가설을 기각합니다. 교육프로그램은 효과가 있습니다.\n"
          ]
        }
      ]
    },
    {
      "cell_type": "markdown",
      "source": [
        "#### 다른 풀이\n",
        "- 이 경우는 sample data가 주어진 경우\n",
        "- scipy.stats에서 ttest_1samp 사용해보자"
      ],
      "metadata": {
        "id": "8QC3_pU7g0Ez"
      }
    },
    {
      "cell_type": "code",
      "source": [
        "from scipy.stats import ttest_1samp"
      ],
      "metadata": {
        "id": "sBrteI-ngzFg"
      },
      "execution_count": 48,
      "outputs": []
    },
    {
      "cell_type": "code",
      "source": [
        "ttest_1samp(sample_scores, popmean = 75, alternative = \"greater\")\n",
        "# statistic\n",
        "# pvalue"
      ],
      "metadata": {
        "colab": {
          "base_uri": "https://localhost:8080/"
        },
        "id": "1oYX0L_SgVWl",
        "outputId": "2ed30c34-c2fd-48da-8697-bcfb4bca434b"
      },
      "execution_count": 51,
      "outputs": [
        {
          "output_type": "execute_result",
          "data": {
            "text/plain": [
              "TtestResult(statistic=np.float64(6.789028582272215), pvalue=np.float64(3.052686465933366e-06), df=np.int64(15))"
            ]
          },
          "metadata": {},
          "execution_count": 51
        }
      ]
    },
    {
      "cell_type": "code",
      "source": [
        "# ttest_1samp(sample_scores, popmean = 75, alternative = \"greater\").statistic # attribute는 이렇게 꺼내는군!\n",
        "ttest_result = ttest_1samp(sample_scores, popmean = 75, alternative = \"greater\")"
      ],
      "metadata": {
        "id": "xIVrdcpKhftf"
      },
      "execution_count": 56,
      "outputs": []
    },
    {
      "cell_type": "code",
      "source": [
        "t_stat, p_value = ttest_result.statistic, ttest_result.pvalue\n",
        "# 결과 출력\n",
        "if p_value < alpha:\n",
        "    print(f\"t-값: {t_stat:.4f}, p-value: {p_value:.4f}. 유의수준 {alpha}에서 귀무가설을 기각합니다. 교육프로그램은 효과가 있습니다.\")\n",
        "else:\n",
        "    print(f\"t-값: {t_stat:.4f}, p-value: {p_value:.4f}. 유의수준 {alpha}에서 귀무가설을 채택합니다. 교육프로그램은 효과가 없습니다\")"
      ],
      "metadata": {
        "colab": {
          "base_uri": "https://localhost:8080/"
        },
        "id": "kjpKnvobhXvt",
        "outputId": "21dc89de-a27a-4faa-aef5-a9053837d8da"
      },
      "execution_count": 57,
      "outputs": [
        {
          "output_type": "stream",
          "name": "stdout",
          "text": [
            "t-값: 6.7890, p-value: 0.0000. 유의수준 0.05에서 귀무가설을 기각합니다. 교육프로그램은 효과가 있습니다.\n"
          ]
        }
      ]
    },
    {
      "cell_type": "markdown",
      "source": [
        "### 문제 4) 독립 표본 t 검정\n",
        "\n",
        "- 한 연구소에서 두 가지 새로운 다이어트 프로그램의 효과를 비교하려고 합니다. 연구소는 두 그룹의 참가자들을 대상으로 12주간 다이어트 프로그램을 진행한 후 체중 감소량을 측정했습니다.\n",
        "- 유의수준 5% 에서 두 그룹 간 평균 체중 감소량에 유의미한 차이가 있는지 독립 표본 t-검정을 실시하세요."
      ],
      "metadata": {
        "id": "oH1atueURolp"
      }
    },
    {
      "cell_type": "code",
      "source": [
        "# 독립 표본 t검정(등분산성? 가정?)\n",
        "# 그룹 A와 B의 체중 감소량 데이터\n",
        "# A가 대조군 B가 비교군.. A가 null B가 alternative\n",
        "group_A = [5.1, 4.7, 6.2, 4.9, 5.3, 6.1, 5.0, 5.8, 4.8, 5.2] # 10명\n",
        "group_B = [4.3, 4.1, 3.8, 4.6, 4.0, 4.5, 3.7, 4.2, 3.9, 4.4, 3.5, 4.3] # 12명\n"
      ],
      "metadata": {
        "id": "HxzejwPgRp2w"
      },
      "execution_count": 60,
      "outputs": []
    },
    {
      "cell_type": "code",
      "source": [
        "from scipy.stats import levene # 등분산 검정"
      ],
      "metadata": {
        "id": "1bQ5fEqSieDI"
      },
      "execution_count": 58,
      "outputs": []
    },
    {
      "cell_type": "code",
      "source": [
        "np.mean(group_A), np.mean(group_B)"
      ],
      "metadata": {
        "colab": {
          "base_uri": "https://localhost:8080/"
        },
        "id": "2uhGBcMeiiXU",
        "outputId": "5aebb55c-e5df-4419-d607-286c6b39de32"
      },
      "execution_count": 61,
      "outputs": [
        {
          "output_type": "execute_result",
          "data": {
            "text/plain": [
              "(np.float64(5.3100000000000005), np.float64(4.1083333333333325))"
            ]
          },
          "metadata": {},
          "execution_count": 61
        }
      ]
    },
    {
      "cell_type": "code",
      "source": [
        "len(group_A), len(group_B) # A는 10명, B는 12명"
      ],
      "metadata": {
        "colab": {
          "base_uri": "https://localhost:8080/"
        },
        "id": "p5OHmT3Ni9_d",
        "outputId": "035751bd-2d3e-4bb5-bd74-bbf699eb3b29"
      },
      "execution_count": 63,
      "outputs": [
        {
          "output_type": "execute_result",
          "data": {
            "text/plain": [
              "(10, 12)"
            ]
          },
          "metadata": {},
          "execution_count": 63
        }
      ]
    },
    {
      "cell_type": "code",
      "source": [
        "# 등분산성 검정부터!\n",
        "# 등분산이 아니면 pooled variance가 아니고, 자유도 공식도 다름!\n",
        "levene_test = levene(group_A,group_B)\n",
        "levene_stat = levene_test.statistic\n",
        "levene_pvalue = levene_test.pvalue\n",
        "alpha = 0.05\n",
        "\n",
        "if levene_pvalue < alpha :\n",
        "  print(f\"levene test: {levene_stat :.4f}, p-value: {levene_pvalue : .4f} 유의수준 {alpha}에서 귀무가설 기각합니다. 등분산 미충족\")\n",
        "else:\n",
        "  print(f\"levene test: {levene_stat :.4f}, p-value: {levene_pvalue : .4f} 유의수준 {alpha}에서 귀무가설 기각에 실패합니다. 등분산 충족\")"
      ],
      "metadata": {
        "colab": {
          "base_uri": "https://localhost:8080/"
        },
        "id": "fy5v2S5wjGLT",
        "outputId": "8e005e9a-278c-4ea0-b098-2b60d1de8fe0"
      },
      "execution_count": 65,
      "outputs": [
        {
          "output_type": "stream",
          "name": "stdout",
          "text": [
            "levene test: 1.2856, p-value:  0.2703 유의수준 0.05에서 귀무가설 기각에 실패합니다. 등분산 충족\n"
          ]
        }
      ]
    },
    {
      "cell_type": "code",
      "source": [
        "# 독립 2표본 t검정\n",
        "# 등분산성 충족\n",
        "\n",
        "from scipy.stats import ttest_ind # ttest_ind 사용\n",
        "\n",
        "two_ttest_result = ttest_ind(group_A, group_B, equal_var = True) # equal_var = True인지 확인하려고 위 levene test한 것! # statistic, pvalue\n",
        "\n",
        "alpha = 0.05 # 확인차 넣음\n",
        "t_stat = two_ttest_result.statistic\n",
        "p_value = two_ttest_result.pvalue\n",
        "\n",
        "# 결과 출력\n",
        "if p_value < alpha:\n",
        "    print(f\"t-값: {t_stat:.4f}, p-value: {p_value:.4f}. 유의수준 {alpha}에서 귀무가설을 기각합니다. 다이어트 프로그램은 효과가 있습니다.\")\n",
        "else:\n",
        "    print(f\"t-값: {t_stat:.4f}, p-value: {p_value:.4f}. 유의수준 {alpha}에서 귀무가설을 채택합니다. 다이어트 프로그램은 효과가 없습니다\")"
      ],
      "metadata": {
        "colab": {
          "base_uri": "https://localhost:8080/"
        },
        "id": "CuQsTPjckYie",
        "outputId": "a2ad2b27-4cc1-4962-8933-d62990db356d"
      },
      "execution_count": 68,
      "outputs": [
        {
          "output_type": "stream",
          "name": "stdout",
          "text": [
            "t-값: 6.3898, p-value: 0.0000. 유의수준 0.05에서 귀무가설을 기각합니다. 다이어트 프로그램은 효과가 있습니다.\n"
          ]
        }
      ]
    },
    {
      "cell_type": "markdown",
      "source": [
        "### 문제 5) 대응표본 t검정\n",
        "\n",
        "<aside>\n",
        "\n",
        "대응표본 t-검정은 두 집단간 평균 차이를 비교할 때 사용되는 점은 독립 t검정 동일하나, 같은 집단에서 두 번 수집할 때 사용되는 검정입니다.( ex 고혈압 투여 전후 환자 단일 그룹의 혈압의 차) `scipy.stats` docs에서 적절한 함수를 찾아보고 적용해보세요.\n",
        "\n",
        "</aside>"
      ],
      "metadata": {
        "id": "zYyHnL2ORrVW"
      }
    },
    {
      "cell_type": "code",
      "source": [
        "from scipy.stats import ttest_rel\n",
        "\n",
        "# 운동 전후 체중 데이터\n",
        "before = np.array([70, 80, 65, 90, 75, 85, 78, 82, 68, 73]) # 10명\n",
        "after = np.array([68, 78, 64, 88, 74, 83, 77, 80, 67, 72]) # 10명.. 각각 1:1 대응\n",
        "alpha = 0.05 # 유의수준\n",
        "\n",
        "paired_t_test = stats.ttest_rel(before,after,alternative = \"greater\") # 운동(전) before가 체중이 더 많을 테니 \"greater로\"\n",
        "t_stat = paired_t_test.statistic\n",
        "p_value = paired_t_test.pvalue"
      ],
      "metadata": {
        "id": "OG8cgVj5R0LJ"
      },
      "execution_count": 82,
      "outputs": []
    },
    {
      "cell_type": "code",
      "source": [
        "# 결과 출력\n",
        "if p_value < alpha:\n",
        "    print(f\"t-값: {t_stat:.4f}, p-value: {p_value:.4f}. 유의수준 {alpha}에서 귀무가설을 기각합니다. 고혈압약은 효과가 있습니다.\")\n",
        "else:\n",
        "    print(f\"t-값: {t_stat:.4f}, p-value: {p_value:.4f}. 유의수준 {alpha}에서 귀무가설을 채택합니다. 고혈압약은 효과가 없습니다.\")"
      ],
      "metadata": {
        "colab": {
          "base_uri": "https://localhost:8080/"
        },
        "id": "dVbdsacmnsNN",
        "outputId": "dced26da-f3be-4c6b-d602-f5102cb98678"
      },
      "execution_count": 83,
      "outputs": [
        {
          "output_type": "stream",
          "name": "stdout",
          "text": [
            "t-값: 9.0000, p-value: 0.0000. 유의수준 0.05에서 귀무가설을 기각합니다. 고혈압약은 효과가 있습니다.\n"
          ]
        }
      ]
    },
    {
      "cell_type": "markdown",
      "source": [
        "### 문제 6) 표본 추출\n",
        "\n",
        "- Quest 05-01의  Online Retail II 데이터에서 표본을 추출하여 모집단의 평균을 추정해보세요.\n",
        "- 영국(United Kingdom)에서 주문된 데이터 에서 30개, 100개, 300개의 샘플을 무작위 추출하여 평균 구매 금액(Total Price)를 계산해보세요. 표본의 크기가 커질 수록 모집단의 평균과 가까워지는지 확인해보세요.\n",
        "- 데이터 불러오는 코드 & 예상결과"
      ],
      "metadata": {
        "id": "IrYYpT-tSIM5"
      }
    },
    {
      "cell_type": "code",
      "source": [
        "import kagglehub\n",
        "import os\n",
        "import pandas as pd\n",
        "\n",
        "# Download latest version\n",
        "path = kagglehub.dataset_download(\"mashlyn/online-retail-ii-uci\")\n",
        "print(\"Path to dataset files:\", path)\n",
        "retail = pd.read_csv(path + '/' + os.listdir(path)[0])\n",
        "retail.head(3)"
      ],
      "metadata": {
        "colab": {
          "base_uri": "https://localhost:8080/",
          "height": 216
        },
        "id": "LSI-7Z8MSQj0",
        "outputId": "3527aab7-14e4-451d-8c4d-c22f0ace8240"
      },
      "execution_count": 84,
      "outputs": [
        {
          "output_type": "stream",
          "name": "stdout",
          "text": [
            "Downloading from https://www.kaggle.com/api/v1/datasets/download/mashlyn/online-retail-ii-uci?dataset_version_number=3...\n"
          ]
        },
        {
          "output_type": "stream",
          "name": "stderr",
          "text": [
            "100%|██████████| 14.5M/14.5M [00:00<00:00, 170MB/s]"
          ]
        },
        {
          "output_type": "stream",
          "name": "stdout",
          "text": [
            "Extracting files...\n"
          ]
        },
        {
          "output_type": "stream",
          "name": "stderr",
          "text": [
            "\n"
          ]
        },
        {
          "output_type": "stream",
          "name": "stdout",
          "text": [
            "Path to dataset files: /root/.cache/kagglehub/datasets/mashlyn/online-retail-ii-uci/versions/3\n"
          ]
        },
        {
          "output_type": "execute_result",
          "data": {
            "text/plain": [
              "  Invoice StockCode                          Description  Quantity  \\\n",
              "0  489434     85048  15CM CHRISTMAS GLASS BALL 20 LIGHTS        12   \n",
              "1  489434    79323P                   PINK CHERRY LIGHTS        12   \n",
              "2  489434    79323W                  WHITE CHERRY LIGHTS        12   \n",
              "\n",
              "           InvoiceDate  Price  Customer ID         Country  \n",
              "0  2009-12-01 07:45:00   6.95      13085.0  United Kingdom  \n",
              "1  2009-12-01 07:45:00   6.75      13085.0  United Kingdom  \n",
              "2  2009-12-01 07:45:00   6.75      13085.0  United Kingdom  "
            ],
            "text/html": [
              "\n",
              "  <div id=\"df-1cd49b0b-6964-4d3a-a085-04fd860d7395\" class=\"colab-df-container\">\n",
              "    <div>\n",
              "<style scoped>\n",
              "    .dataframe tbody tr th:only-of-type {\n",
              "        vertical-align: middle;\n",
              "    }\n",
              "\n",
              "    .dataframe tbody tr th {\n",
              "        vertical-align: top;\n",
              "    }\n",
              "\n",
              "    .dataframe thead th {\n",
              "        text-align: right;\n",
              "    }\n",
              "</style>\n",
              "<table border=\"1\" class=\"dataframe\">\n",
              "  <thead>\n",
              "    <tr style=\"text-align: right;\">\n",
              "      <th></th>\n",
              "      <th>Invoice</th>\n",
              "      <th>StockCode</th>\n",
              "      <th>Description</th>\n",
              "      <th>Quantity</th>\n",
              "      <th>InvoiceDate</th>\n",
              "      <th>Price</th>\n",
              "      <th>Customer ID</th>\n",
              "      <th>Country</th>\n",
              "    </tr>\n",
              "  </thead>\n",
              "  <tbody>\n",
              "    <tr>\n",
              "      <th>0</th>\n",
              "      <td>489434</td>\n",
              "      <td>85048</td>\n",
              "      <td>15CM CHRISTMAS GLASS BALL 20 LIGHTS</td>\n",
              "      <td>12</td>\n",
              "      <td>2009-12-01 07:45:00</td>\n",
              "      <td>6.95</td>\n",
              "      <td>13085.0</td>\n",
              "      <td>United Kingdom</td>\n",
              "    </tr>\n",
              "    <tr>\n",
              "      <th>1</th>\n",
              "      <td>489434</td>\n",
              "      <td>79323P</td>\n",
              "      <td>PINK CHERRY LIGHTS</td>\n",
              "      <td>12</td>\n",
              "      <td>2009-12-01 07:45:00</td>\n",
              "      <td>6.75</td>\n",
              "      <td>13085.0</td>\n",
              "      <td>United Kingdom</td>\n",
              "    </tr>\n",
              "    <tr>\n",
              "      <th>2</th>\n",
              "      <td>489434</td>\n",
              "      <td>79323W</td>\n",
              "      <td>WHITE CHERRY LIGHTS</td>\n",
              "      <td>12</td>\n",
              "      <td>2009-12-01 07:45:00</td>\n",
              "      <td>6.75</td>\n",
              "      <td>13085.0</td>\n",
              "      <td>United Kingdom</td>\n",
              "    </tr>\n",
              "  </tbody>\n",
              "</table>\n",
              "</div>\n",
              "    <div class=\"colab-df-buttons\">\n",
              "\n",
              "  <div class=\"colab-df-container\">\n",
              "    <button class=\"colab-df-convert\" onclick=\"convertToInteractive('df-1cd49b0b-6964-4d3a-a085-04fd860d7395')\"\n",
              "            title=\"Convert this dataframe to an interactive table.\"\n",
              "            style=\"display:none;\">\n",
              "\n",
              "  <svg xmlns=\"http://www.w3.org/2000/svg\" height=\"24px\" viewBox=\"0 -960 960 960\">\n",
              "    <path d=\"M120-120v-720h720v720H120Zm60-500h600v-160H180v160Zm220 220h160v-160H400v160Zm0 220h160v-160H400v160ZM180-400h160v-160H180v160Zm440 0h160v-160H620v160ZM180-180h160v-160H180v160Zm440 0h160v-160H620v160Z\"/>\n",
              "  </svg>\n",
              "    </button>\n",
              "\n",
              "  <style>\n",
              "    .colab-df-container {\n",
              "      display:flex;\n",
              "      gap: 12px;\n",
              "    }\n",
              "\n",
              "    .colab-df-convert {\n",
              "      background-color: #E8F0FE;\n",
              "      border: none;\n",
              "      border-radius: 50%;\n",
              "      cursor: pointer;\n",
              "      display: none;\n",
              "      fill: #1967D2;\n",
              "      height: 32px;\n",
              "      padding: 0 0 0 0;\n",
              "      width: 32px;\n",
              "    }\n",
              "\n",
              "    .colab-df-convert:hover {\n",
              "      background-color: #E2EBFA;\n",
              "      box-shadow: 0px 1px 2px rgba(60, 64, 67, 0.3), 0px 1px 3px 1px rgba(60, 64, 67, 0.15);\n",
              "      fill: #174EA6;\n",
              "    }\n",
              "\n",
              "    .colab-df-buttons div {\n",
              "      margin-bottom: 4px;\n",
              "    }\n",
              "\n",
              "    [theme=dark] .colab-df-convert {\n",
              "      background-color: #3B4455;\n",
              "      fill: #D2E3FC;\n",
              "    }\n",
              "\n",
              "    [theme=dark] .colab-df-convert:hover {\n",
              "      background-color: #434B5C;\n",
              "      box-shadow: 0px 1px 3px 1px rgba(0, 0, 0, 0.15);\n",
              "      filter: drop-shadow(0px 1px 2px rgba(0, 0, 0, 0.3));\n",
              "      fill: #FFFFFF;\n",
              "    }\n",
              "  </style>\n",
              "\n",
              "    <script>\n",
              "      const buttonEl =\n",
              "        document.querySelector('#df-1cd49b0b-6964-4d3a-a085-04fd860d7395 button.colab-df-convert');\n",
              "      buttonEl.style.display =\n",
              "        google.colab.kernel.accessAllowed ? 'block' : 'none';\n",
              "\n",
              "      async function convertToInteractive(key) {\n",
              "        const element = document.querySelector('#df-1cd49b0b-6964-4d3a-a085-04fd860d7395');\n",
              "        const dataTable =\n",
              "          await google.colab.kernel.invokeFunction('convertToInteractive',\n",
              "                                                    [key], {});\n",
              "        if (!dataTable) return;\n",
              "\n",
              "        const docLinkHtml = 'Like what you see? Visit the ' +\n",
              "          '<a target=\"_blank\" href=https://colab.research.google.com/notebooks/data_table.ipynb>data table notebook</a>'\n",
              "          + ' to learn more about interactive tables.';\n",
              "        element.innerHTML = '';\n",
              "        dataTable['output_type'] = 'display_data';\n",
              "        await google.colab.output.renderOutput(dataTable, element);\n",
              "        const docLink = document.createElement('div');\n",
              "        docLink.innerHTML = docLinkHtml;\n",
              "        element.appendChild(docLink);\n",
              "      }\n",
              "    </script>\n",
              "  </div>\n",
              "\n",
              "\n",
              "    <div id=\"df-0bf0fd79-3627-4cbb-9112-5c67a223fe8b\">\n",
              "      <button class=\"colab-df-quickchart\" onclick=\"quickchart('df-0bf0fd79-3627-4cbb-9112-5c67a223fe8b')\"\n",
              "                title=\"Suggest charts\"\n",
              "                style=\"display:none;\">\n",
              "\n",
              "<svg xmlns=\"http://www.w3.org/2000/svg\" height=\"24px\"viewBox=\"0 0 24 24\"\n",
              "     width=\"24px\">\n",
              "    <g>\n",
              "        <path d=\"M19 3H5c-1.1 0-2 .9-2 2v14c0 1.1.9 2 2 2h14c1.1 0 2-.9 2-2V5c0-1.1-.9-2-2-2zM9 17H7v-7h2v7zm4 0h-2V7h2v10zm4 0h-2v-4h2v4z\"/>\n",
              "    </g>\n",
              "</svg>\n",
              "      </button>\n",
              "\n",
              "<style>\n",
              "  .colab-df-quickchart {\n",
              "      --bg-color: #E8F0FE;\n",
              "      --fill-color: #1967D2;\n",
              "      --hover-bg-color: #E2EBFA;\n",
              "      --hover-fill-color: #174EA6;\n",
              "      --disabled-fill-color: #AAA;\n",
              "      --disabled-bg-color: #DDD;\n",
              "  }\n",
              "\n",
              "  [theme=dark] .colab-df-quickchart {\n",
              "      --bg-color: #3B4455;\n",
              "      --fill-color: #D2E3FC;\n",
              "      --hover-bg-color: #434B5C;\n",
              "      --hover-fill-color: #FFFFFF;\n",
              "      --disabled-bg-color: #3B4455;\n",
              "      --disabled-fill-color: #666;\n",
              "  }\n",
              "\n",
              "  .colab-df-quickchart {\n",
              "    background-color: var(--bg-color);\n",
              "    border: none;\n",
              "    border-radius: 50%;\n",
              "    cursor: pointer;\n",
              "    display: none;\n",
              "    fill: var(--fill-color);\n",
              "    height: 32px;\n",
              "    padding: 0;\n",
              "    width: 32px;\n",
              "  }\n",
              "\n",
              "  .colab-df-quickchart:hover {\n",
              "    background-color: var(--hover-bg-color);\n",
              "    box-shadow: 0 1px 2px rgba(60, 64, 67, 0.3), 0 1px 3px 1px rgba(60, 64, 67, 0.15);\n",
              "    fill: var(--button-hover-fill-color);\n",
              "  }\n",
              "\n",
              "  .colab-df-quickchart-complete:disabled,\n",
              "  .colab-df-quickchart-complete:disabled:hover {\n",
              "    background-color: var(--disabled-bg-color);\n",
              "    fill: var(--disabled-fill-color);\n",
              "    box-shadow: none;\n",
              "  }\n",
              "\n",
              "  .colab-df-spinner {\n",
              "    border: 2px solid var(--fill-color);\n",
              "    border-color: transparent;\n",
              "    border-bottom-color: var(--fill-color);\n",
              "    animation:\n",
              "      spin 1s steps(1) infinite;\n",
              "  }\n",
              "\n",
              "  @keyframes spin {\n",
              "    0% {\n",
              "      border-color: transparent;\n",
              "      border-bottom-color: var(--fill-color);\n",
              "      border-left-color: var(--fill-color);\n",
              "    }\n",
              "    20% {\n",
              "      border-color: transparent;\n",
              "      border-left-color: var(--fill-color);\n",
              "      border-top-color: var(--fill-color);\n",
              "    }\n",
              "    30% {\n",
              "      border-color: transparent;\n",
              "      border-left-color: var(--fill-color);\n",
              "      border-top-color: var(--fill-color);\n",
              "      border-right-color: var(--fill-color);\n",
              "    }\n",
              "    40% {\n",
              "      border-color: transparent;\n",
              "      border-right-color: var(--fill-color);\n",
              "      border-top-color: var(--fill-color);\n",
              "    }\n",
              "    60% {\n",
              "      border-color: transparent;\n",
              "      border-right-color: var(--fill-color);\n",
              "    }\n",
              "    80% {\n",
              "      border-color: transparent;\n",
              "      border-right-color: var(--fill-color);\n",
              "      border-bottom-color: var(--fill-color);\n",
              "    }\n",
              "    90% {\n",
              "      border-color: transparent;\n",
              "      border-bottom-color: var(--fill-color);\n",
              "    }\n",
              "  }\n",
              "</style>\n",
              "\n",
              "      <script>\n",
              "        async function quickchart(key) {\n",
              "          const quickchartButtonEl =\n",
              "            document.querySelector('#' + key + ' button');\n",
              "          quickchartButtonEl.disabled = true;  // To prevent multiple clicks.\n",
              "          quickchartButtonEl.classList.add('colab-df-spinner');\n",
              "          try {\n",
              "            const charts = await google.colab.kernel.invokeFunction(\n",
              "                'suggestCharts', [key], {});\n",
              "          } catch (error) {\n",
              "            console.error('Error during call to suggestCharts:', error);\n",
              "          }\n",
              "          quickchartButtonEl.classList.remove('colab-df-spinner');\n",
              "          quickchartButtonEl.classList.add('colab-df-quickchart-complete');\n",
              "        }\n",
              "        (() => {\n",
              "          let quickchartButtonEl =\n",
              "            document.querySelector('#df-0bf0fd79-3627-4cbb-9112-5c67a223fe8b button');\n",
              "          quickchartButtonEl.style.display =\n",
              "            google.colab.kernel.accessAllowed ? 'block' : 'none';\n",
              "        })();\n",
              "      </script>\n",
              "    </div>\n",
              "\n",
              "    </div>\n",
              "  </div>\n"
            ],
            "application/vnd.google.colaboratory.intrinsic+json": {
              "type": "dataframe",
              "variable_name": "retail"
            }
          },
          "metadata": {},
          "execution_count": 84
        }
      ]
    },
    {
      "cell_type": "code",
      "source": [
        "# Total Price는 Quantity 곱하기 Price\n",
        "# 이 부분을 놓쳐서 다시 시작함!\n",
        "retail['TotalPrice'] = retail['Quantity'] * retail['Price']"
      ],
      "metadata": {
        "id": "000lOIcVFwkk"
      },
      "execution_count": 139,
      "outputs": []
    },
    {
      "cell_type": "code",
      "source": [
        "# 국가별, Invoice 관측치 확인\n",
        "# 영국 981,330건\n",
        "# 독일 17,624건\n",
        "retail.groupby('Country')['Invoice'].apply(len).sort_values(ascending=False)[:5]"
      ],
      "metadata": {
        "colab": {
          "base_uri": "https://localhost:8080/",
          "height": 272
        },
        "id": "TloXcBDMt-up",
        "outputId": "c0b8a0d4-f838-4f52-d46e-c55d58b03e55"
      },
      "execution_count": 140,
      "outputs": [
        {
          "output_type": "execute_result",
          "data": {
            "text/plain": [
              "Country\n",
              "United Kingdom    981330\n",
              "EIRE               17866\n",
              "Germany            17624\n",
              "France             14330\n",
              "Netherlands         5140\n",
              "Name: Invoice, dtype: int64"
            ],
            "text/html": [
              "<div>\n",
              "<style scoped>\n",
              "    .dataframe tbody tr th:only-of-type {\n",
              "        vertical-align: middle;\n",
              "    }\n",
              "\n",
              "    .dataframe tbody tr th {\n",
              "        vertical-align: top;\n",
              "    }\n",
              "\n",
              "    .dataframe thead th {\n",
              "        text-align: right;\n",
              "    }\n",
              "</style>\n",
              "<table border=\"1\" class=\"dataframe\">\n",
              "  <thead>\n",
              "    <tr style=\"text-align: right;\">\n",
              "      <th></th>\n",
              "      <th>Invoice</th>\n",
              "    </tr>\n",
              "    <tr>\n",
              "      <th>Country</th>\n",
              "      <th></th>\n",
              "    </tr>\n",
              "  </thead>\n",
              "  <tbody>\n",
              "    <tr>\n",
              "      <th>United Kingdom</th>\n",
              "      <td>981330</td>\n",
              "    </tr>\n",
              "    <tr>\n",
              "      <th>EIRE</th>\n",
              "      <td>17866</td>\n",
              "    </tr>\n",
              "    <tr>\n",
              "      <th>Germany</th>\n",
              "      <td>17624</td>\n",
              "    </tr>\n",
              "    <tr>\n",
              "      <th>France</th>\n",
              "      <td>14330</td>\n",
              "    </tr>\n",
              "    <tr>\n",
              "      <th>Netherlands</th>\n",
              "      <td>5140</td>\n",
              "    </tr>\n",
              "  </tbody>\n",
              "</table>\n",
              "</div><br><label><b>dtype:</b> int64</label>"
            ]
          },
          "metadata": {},
          "execution_count": 140
        }
      ]
    },
    {
      "cell_type": "code",
      "source": [
        "# 결측치 확인(영국 데이터)\n",
        "retail_UK = retail[retail['Country']=='United Kingdom'].reset_index(drop=True) # 샘플링 목적, idx 0부터 시작하도록\n",
        "# retail_UK.info()\n",
        "\n",
        "# 독일 데이터(나중에 비교대상)\n",
        "retail_GR = retail[retail['Country']=='Germany'].reset_index(drop=True) # 샘플링 목적, idx 0부터 시작하도록\n",
        "\n",
        "print(f\"영국 관측치 수 : {len(retail_UK)}\")\n",
        "print(f\"독일 관측치 수 : {len(retail_GR)}\")"
      ],
      "metadata": {
        "colab": {
          "base_uri": "https://localhost:8080/"
        },
        "id": "BvbHKELIrjoD",
        "outputId": "ab2bde4e-7e3f-4a2d-ec0a-09d9deb9bba4"
      },
      "execution_count": 141,
      "outputs": [
        {
          "output_type": "stream",
          "name": "stdout",
          "text": [
            "영국 관측치 수 : 981330\n",
            "독일 관측치 수 : 17624\n"
          ]
        }
      ]
    },
    {
      "cell_type": "markdown",
      "source": [
        "#### 현재 문제는 sampling에 대한 것!\n",
        "- Customer ID가 비어있는 결측치를 제거하는 것이 전처리 관점에서 맞으나,    \n",
        "문제에 명시된 조건이 아니므로 결측치 제거 하지 않고 샘플링 수행하겠음!\n",
        "- TotalPrice = Quantity * Price 곱인 것은 인지했으나.. Quantity, Price 분포가 각각 존재한다면   \n",
        "그것의 곱의 분포에 대해 모평균과 표본평균을 비교하는게 유효한지  의문이 생김"
      ],
      "metadata": {
        "id": "s8dIkmd7tZYV"
      }
    },
    {
      "cell_type": "code",
      "source": [
        "# round(retail_UK['Price'].mean(),3) 영국 전체 평균 4.538\n",
        "# 샘플 사이즈 30, 100, 300\n",
        "\n",
        "checkdt_1 = retail_UK[retail_UK['Customer ID'].isnull()][['Country','TotalPrice']]\n",
        "checkdt_2 = retail_UK[retail_UK['Customer ID'].notnull()][['Country','TotalPrice']]\n",
        "\n",
        "# checkdt_1['Price'].mean()\n",
        "mean0 = retail_UK['TotalPrice'].mean()\n",
        "mean1 = checkdt_1['TotalPrice'].mean()\n",
        "mean2 = checkdt_2['TotalPrice'].mean()\n",
        "\n",
        "print(f'전체 영국 TotalPrice의 평균:{mean0: .4f}')\n",
        "print(f'고객ID없는 영국 TotalPrice의 평균: {mean1:.4f}')\n",
        "print(f'고객ID있는 영국 TotalPrice의 평균: {mean2:.4f}')\n"
      ],
      "metadata": {
        "colab": {
          "base_uri": "https://localhost:8080/"
        },
        "id": "CBxtUOSlt33Y",
        "outputId": "10ea82e6-1627-4d8b-997f-592bacbed2ab"
      },
      "execution_count": 144,
      "outputs": [
        {
          "output_type": "stream",
          "name": "stdout",
          "text": [
            "전체 영국 TotalPrice의 평균: 16.6943\n",
            "고객ID없는 영국 TotalPrice의 평균: 10.7327\n",
            "고객ID있는 영국 TotalPrice의 평균: 18.6246\n"
          ]
        }
      ]
    },
    {
      "cell_type": "code",
      "source": [
        "retail_UK['TotalPrice'].sample(30, random_state=42).head() # 되는지 중간 체크!"
      ],
      "metadata": {
        "colab": {
          "base_uri": "https://localhost:8080/",
          "height": 241
        },
        "id": "ke6GK2-yD2lA",
        "outputId": "e8331f95-6b60-44f2-d344-28fb5306a03f"
      },
      "execution_count": 146,
      "outputs": [
        {
          "output_type": "execute_result",
          "data": {
            "text/plain": [
              "846418    11.70\n",
              "104240     3.36\n",
              "332026     3.36\n",
              "633424    15.30\n",
              "462973     0.85\n",
              "Name: TotalPrice, dtype: float64"
            ],
            "text/html": [
              "<div>\n",
              "<style scoped>\n",
              "    .dataframe tbody tr th:only-of-type {\n",
              "        vertical-align: middle;\n",
              "    }\n",
              "\n",
              "    .dataframe tbody tr th {\n",
              "        vertical-align: top;\n",
              "    }\n",
              "\n",
              "    .dataframe thead th {\n",
              "        text-align: right;\n",
              "    }\n",
              "</style>\n",
              "<table border=\"1\" class=\"dataframe\">\n",
              "  <thead>\n",
              "    <tr style=\"text-align: right;\">\n",
              "      <th></th>\n",
              "      <th>TotalPrice</th>\n",
              "    </tr>\n",
              "  </thead>\n",
              "  <tbody>\n",
              "    <tr>\n",
              "      <th>846418</th>\n",
              "      <td>11.70</td>\n",
              "    </tr>\n",
              "    <tr>\n",
              "      <th>104240</th>\n",
              "      <td>3.36</td>\n",
              "    </tr>\n",
              "    <tr>\n",
              "      <th>332026</th>\n",
              "      <td>3.36</td>\n",
              "    </tr>\n",
              "    <tr>\n",
              "      <th>633424</th>\n",
              "      <td>15.30</td>\n",
              "    </tr>\n",
              "    <tr>\n",
              "      <th>462973</th>\n",
              "      <td>0.85</td>\n",
              "    </tr>\n",
              "  </tbody>\n",
              "</table>\n",
              "</div><br><label><b>dtype:</b> float64</label>"
            ]
          },
          "metadata": {},
          "execution_count": 146
        }
      ]
    },
    {
      "cell_type": "code",
      "source": [
        "retail_UK['TotalPrice'].sample(30, random_state=42).mean() # 이것도 체크!"
      ],
      "metadata": {
        "colab": {
          "base_uri": "https://localhost:8080/"
        },
        "id": "N3j-zvX5ELLI",
        "outputId": "3c807d99-5963-45d9-c7a8-58588f793795"
      },
      "execution_count": 147,
      "outputs": [
        {
          "output_type": "execute_result",
          "data": {
            "text/plain": [
              "np.float64(11.881333333333334)"
            ]
          },
          "metadata": {},
          "execution_count": 147
        }
      ]
    },
    {
      "cell_type": "code",
      "source": [
        "# 그냥 결측치 제거 안하고 진행!\n",
        "# 그 전에 'Country', 'Price'만 필요하니 데이터 가공하자!\n",
        "# 전체 평균이 16.6943 임을 감안!\n",
        "\n",
        "sample_sizes = [30, 100, 300] # 표본의 크기..\n",
        "result = {\"Size\" : [],\n",
        "          \"Sample_Mean\": []\n",
        "          } # size랑, sample mean을 넣어보자!\n",
        "\n",
        "for s in sample_sizes:\n",
        "  sample_dt = retail_UK.sample(s, random_state = 12) # seed고정 (12로!)\n",
        "  x_bar = sample_dt['TotalPrice'].mean()\n",
        "  result[\"Size\"].append(s)\n",
        "  result[\"Sample_Mean\"].append(x_bar)\n",
        "  print(f'sample_size:{s}, \"샘플평균\": {x_bar}')\n"
      ],
      "metadata": {
        "colab": {
          "base_uri": "https://localhost:8080/"
        },
        "id": "7VBu4_-J0iOg",
        "outputId": "e02b5116-cfea-4c9f-f621-9a36ceb6ef14"
      },
      "execution_count": 148,
      "outputs": [
        {
          "output_type": "stream",
          "name": "stdout",
          "text": [
            "sample_size:30, \"샘플평균\": 11.094666666666663\n",
            "sample_size:100, \"샘플평균\": 16.125999999999998\n",
            "sample_size:300, \"샘플평균\": 20.987833333333334\n"
          ]
        }
      ]
    },
    {
      "cell_type": "markdown",
      "source": [
        "#### 설명추가\n",
        "- 원래 샘플 size가 커질수록 표본평균의 '평균'이 모평균에 가까워진다는 것이 Weak Law of Large Number(약한 대수의 법칙) 임\n",
        "- 현재 샘플 수 30, 100, 300만으로는 모평균 값 16.69에 가까이 가는 것 같아도 정확히 파악이 어려움\n",
        "- 표본 '크기'가 커졌지만, 단발성으로 추출시 편향되게 추출될 수도 있기에 일정한\n",
        "반복수를 설정해야 한다고 생각함"
      ],
      "metadata": {
        "id": "EOmuyKFjHpdn"
      }
    },
    {
      "cell_type": "markdown",
      "source": [
        "#### 반복수 설정 및 분포 확인\n",
        "- 반복수를 k=100,200,1000 등 임의의 값을 정해두고 동등한 과정을 거치면 될 것 같음\n",
        "- k=1000으로 하니 너무 오래걸려 k=200으로 조정"
      ],
      "metadata": {
        "id": "bnXXlRy_I7nN"
      }
    },
    {
      "cell_type": "code",
      "source": [
        "import numpy as np\n",
        "import matplotlib.pyplot as plt\n",
        "import time\n",
        "\n",
        "start = time.time()\n",
        "\n",
        "sample_sizes = [30, 100, 300]\n",
        "k = 200 # 반복수 200으로 설정\n",
        "overall_mean = retail_UK['TotalPrice'].mean()\n",
        "\n",
        "plt.figure(figsize=(10, 6))\n",
        "\n",
        "for s in sample_sizes:\n",
        "  means = []\n",
        "  for _ in range(k):\n",
        "    sample_dt = retail_UK.sample(s, random_state=None)['TotalPrice']\n",
        "    means.append(sample_dt.mean())\n",
        "\n",
        "  plt.hist(means, bins=30, alpha=0.5, label=f'n={s}', density = True)\n",
        "  print(f\"n={s} 평균들의 평균: {np.mean(means):.2f}, std: {np.std(means):.2f}\")\n",
        "\n",
        "plt.axvline(overall_mean, color='red', linestyle='--', label='True_mean')\n",
        "plt.legend()\n",
        "plt.title('Distribution_sample_mean (by_sample_size)')\n",
        "plt.xlabel('sample_mean')\n",
        "plt.ylabel('frequency')\n",
        "plt.grid(True)\n",
        "plt.show()\n",
        "\n",
        "end = time.time()\n",
        "\n",
        "print(f'반복수 : {k}, 구동시간 : {end-start}초')"
      ],
      "metadata": {
        "colab": {
          "base_uri": "https://localhost:8080/",
          "height": 637
        },
        "id": "TtJGgPpvEpjO",
        "outputId": "0dcb3664-5485-4482-eb0d-4e6c246702d4"
      },
      "execution_count": 156,
      "outputs": [
        {
          "output_type": "stream",
          "name": "stdout",
          "text": [
            "n=30 평균들의 평균: 16.75, std: 9.68\n",
            "n=100 평균들의 평균: 20.78, std: 55.14\n",
            "n=300 평균들의 평균: 15.49, std: 18.50\n"
          ]
        },
        {
          "output_type": "display_data",
          "data": {
            "text/plain": [
              "<Figure size 1000x600 with 1 Axes>"
            ],
            "image/png": "[encoded data removed]"
          },
          "metadata": {}
        },
        {
          "output_type": "stream",
          "name": "stdout",
          "text": [
            "반복수 : 200, 구동시간 : 22.73334002494812초\n"
          ]
        }
      ]
    },
    {
      "cell_type": "markdown",
      "source": [
        "#### 결론\n",
        "- 샘플 크기가 30에 가까워 질 수록 표본평균의 평균이 모평균에 가까워짐을\n",
        "  확인할 수 있음\n",
        "- 이건 중심극한정리(Central Limit Theorem)보다는 약한 대수의 법칙(Weak Law of Large Number)라고 보는게 더 맞을 듯\n",
        "- 중심 극한 정리가 성립하려면 샘플간에 독립된 경향이 보여야 하는데, 주문량이 많은 고객이, 구매 단가가 높은 물품을 더 구매하거나 하는 경향성등으로 독립성 가정(iid, identitally, independently distributued 가정이 만족 안 될 수 있음)\n",
        "- WLLN이 성립하기 위한 전제 조건은, 2차 모멘트(분산)가 유한하다는 조건인데, 현재 데이터는 구매 취소 등으로 값이 음수 등으로 극단치가 나타나는 관계로, WLLN도 경향성을 관찰할 수 있으나, 실험적으로 만든 데이터 대비 WLLN이 성립하는걸 명확하게 보기는 어려움\n"
      ],
      "metadata": {
        "id": "UM3k3IG0O-Pn"
      }
    },
    {
      "cell_type": "code",
      "source": [
        "import numpy as np\n",
        "import matplotlib.pyplot as plt\n",
        "import time\n",
        "\n",
        "start = time.time()\n",
        "\n",
        "sample_sizes = [5, 10, 15, 30, 100, 300] # 전체 평균 16.69!\n",
        "k = 200 # 반복수 200으로 설정\n",
        "overall_mean = retail_UK['TotalPrice'].mean()\n",
        "\n",
        "plt.figure(figsize=(10, 6))\n",
        "\n",
        "for s in sample_sizes:\n",
        "  means = []\n",
        "  for _ in range(k):\n",
        "    sample_dt = retail_UK.sample(s, random_state=None)['TotalPrice']\n",
        "    means.append(sample_dt.mean())\n",
        "\n",
        "  plt.hist(means, bins=30, alpha=0.5, label=f'n={s}', density = True)\n",
        "  print(f\"n={s} 평균들의 평균: {np.mean(means):.2f}, std: {np.std(means):.2f}\")\n",
        "\n",
        "plt.axvline(overall_mean, color='red', linestyle='--', label='True_mean')\n",
        "plt.legend()\n",
        "plt.title('Distribution_sample_mean (by_sample_size)')\n",
        "plt.xlabel('sample_mean')\n",
        "plt.ylabel('frequency')\n",
        "plt.grid(True)\n",
        "plt.show()\n",
        "\n",
        "end = time.time()\n",
        "\n",
        "print(f'반복수 : {k}, 구동시간 : {end-start}초')"
      ],
      "metadata": {
        "colab": {
          "base_uri": "https://localhost:8080/",
          "height": 691
        },
        "id": "Age46NDjOSQg",
        "outputId": "88349e8c-5895-44f2-c147-7247fb8fc5d1"
      },
      "execution_count": 157,
      "outputs": [
        {
          "output_type": "stream",
          "name": "stdout",
          "text": [
            "n=5 평균들의 평균: 22.21, std: 73.26\n",
            "n=10 평균들의 평균: 15.43, std: 53.58\n",
            "n=15 평균들의 평균: 14.65, std: 86.17\n",
            "n=30 평균들의 평균: 17.65, std: 25.45\n",
            "n=100 평균들의 평균: 17.78, std: 10.76\n",
            "n=300 평균들의 평균: 16.65, std: 5.95\n"
          ]
        },
        {
          "output_type": "display_data",
          "data": {
            "text/plain": [
              "<Figure size 1000x600 with 1 Axes>"
            ],
            "image/png": "[encoded data removed]"
          },
          "metadata": {}
        },
        {
          "output_type": "stream",
          "name": "stdout",
          "text": [
            "반복수 : 200, 구동시간 : 43.36731839179993초\n"
          ]
        }
      ]
    },
    {
      "cell_type": "markdown",
      "source": [
        "### 문제 7) 신뢰구간\n",
        "\n",
        "- 영국 데이터에서 TotalPrice를 사용하여 95% 신뢰 구간을 계산하세요. 또한 표본의 크기가 30,100, 300으로 변하면서 신뢰구간이 변하는 형태를 확인해 보세요.\n",
        "- Hint) `stats` 모듈에서 신뢰구간을 바로 구하는 함수를 확인해보세요."
      ],
      "metadata": {
        "id": "UhuYtShSSQyb"
      }
    },
    {
      "cell_type": "code",
      "source": [
        "#retail_UK.shape\n",
        "import scipy.stats as stats"
      ],
      "metadata": {
        "id": "eRYZ6op_SZbG"
      },
      "execution_count": 159,
      "outputs": []
    },
    {
      "cell_type": "code",
      "source": [
        "# 신뢰 구간 계산 함수\n",
        "def confidence_interval(data, confidence=0.95):\n",
        "    mean = data.mean()\n",
        "    std_err = stats.sem(data)\n",
        "    interval = stats.t.interval(confidence, len(data)-1, loc=mean, scale=std_err)\n",
        "    return mean, interval"
      ],
      "metadata": {
        "id": "mHu-GJtOKWt2"
      },
      "execution_count": 160,
      "outputs": []
    },
    {
      "cell_type": "code",
      "source": [
        "mean, interval = confidence_interval(retail_UK['TotalPrice'])\n",
        "print(f\"평균: {mean:.2f}, 95% 신뢰구간: ({interval[0]:.2f}, {interval[1]:.2f})\")"
      ],
      "metadata": {
        "colab": {
          "base_uri": "https://localhost:8080/"
        },
        "id": "_kTHR852SrGL",
        "outputId": "25412380-e97b-4eae-c820-aaf08e86f557"
      },
      "execution_count": 162,
      "outputs": [
        {
          "output_type": "stream",
          "name": "stdout",
          "text": [
            "평균: 16.69, 95% 신뢰구간: (16.09, 17.29)\n"
          ]
        }
      ]
    },
    {
      "cell_type": "markdown",
      "source": [
        "#### 의문사항\n",
        "- 영국 데이터 전체를 사용해서 신뢰 구간을 계산한건데, 이 경우 영국 전체 데이터는 모집단이 아니라,    \n",
        "이 데이터셋 전체가 샘플이라는 전제가 필요할 것 같음\n",
        "- 역시 지금 문제도 샘플 숫자에 따라 신뢰구간이 영국 전체 데이터의 신뢰구간에 수렴함을 보이려면   \n",
        "역시 반복수 k를 설정해서 진행해야 할 것으로 추정됨"
      ],
      "metadata": {
        "id": "OOmDzbOSTOXn"
      }
    },
    {
      "cell_type": "code",
      "source": [
        "sample_sizes = [30, 100, 300]\n",
        "\n",
        "for size in sample_sizes:\n",
        "    sample = retail_UK['TotalPrice'].sample(size, random_state=42)\n",
        "    mean, interval = confidence_interval(sample)\n",
        "    print(f\"Sample size: {size}, Mean: {mean:.2f}, 95% CI: {interval}\")"
      ],
      "metadata": {
        "colab": {
          "base_uri": "https://localhost:8080/"
        },
        "id": "ZkZlnOrTTs00",
        "outputId": "c1874cb0-8b73-4841-b060-27b9c2b13d0c"
      },
      "execution_count": 163,
      "outputs": [
        {
          "output_type": "stream",
          "name": "stdout",
          "text": [
            "Sample size: 30, Mean: 11.88, 95% CI: (np.float64(6.37841466090658), np.float64(17.38425200576009))\n",
            "Sample size: 100, Mean: 16.09, 95% CI: (np.float64(11.142955150004974), np.float64(21.02784484999502))\n",
            "Sample size: 300, Mean: 13.34, 95% CI: (np.float64(11.264027626023802), np.float64(15.424439040642865))\n"
          ]
        }
      ]
    },
    {
      "cell_type": "markdown",
      "source": [
        "### 문제 8 가설검정 t-test\n",
        "\n",
        "- 영국과 독일의 고객의 평균 구매금액(Total Price)가 동일한지 검정해보세요. 귀무가설과 대립가설을 세우고 통계검정을 통해 결과를 해석하세요\n",
        "- 영국과 독일의 분포는 등분산성은 따른다고 가정"
      ],
      "metadata": {
        "id": "HBNZ67hmSZnj"
      }
    },
    {
      "cell_type": "code",
      "source": [
        "# 귀무가설 : 영국(TotalPrice)평균 = 독일(TotalPrice)평균\n",
        "# 대립가설 : 영국(TotalPrice)평균, 독일(TotalPrice)평균은 다르다\n",
        "# 독립2표본 t검정\n",
        "# 등분산성 가정\n",
        "\n",
        "from scipy.stats import ttest_ind\n"
      ],
      "metadata": {
        "id": "RnORDJD7ShSN"
      },
      "execution_count": 165,
      "outputs": []
    },
    {
      "cell_type": "code",
      "source": [
        "# country : 'United Kingdom','Germany'\n",
        "# ttest_ind에 넣으려면 'array'형태여야 함\n",
        "# 양측검정!\n",
        "\n",
        "retail_UK.shape, retail_GR.shape # 앞에서 만들어 둔 데이터들"
      ],
      "metadata": {
        "colab": {
          "base_uri": "https://localhost:8080/"
        },
        "id": "_FYo5bH2VRBe",
        "outputId": "097c6e70-2c08-48ef-e9f2-b053194aeb03"
      },
      "execution_count": 167,
      "outputs": [
        {
          "output_type": "execute_result",
          "data": {
            "text/plain": [
              "((981330, 9), (17624, 9))"
            ]
          },
          "metadata": {},
          "execution_count": 167
        }
      ]
    },
    {
      "cell_type": "code",
      "source": [
        "dd = retail_UK['TotalPrice'].head()"
      ],
      "metadata": {
        "id": "PNP19F6WXEqz"
      },
      "execution_count": 180,
      "outputs": []
    },
    {
      "cell_type": "code",
      "source": [
        "dd.to_numpy() # array로 변형된 것 확인"
      ],
      "metadata": {
        "colab": {
          "base_uri": "https://localhost:8080/"
        },
        "id": "6Odw_qYXX0-9",
        "outputId": "c2e4242f-211a-46b9-da3b-a94522ae2a2c"
      },
      "execution_count": 181,
      "outputs": [
        {
          "output_type": "execute_result",
          "data": {
            "text/plain": [
              "array([ 83.4,  81. ,  81. , 100.8,  30. ])"
            ]
          },
          "metadata": {},
          "execution_count": 181
        }
      ]
    },
    {
      "cell_type": "code",
      "source": [
        "UK_totalprice = retail_UK['TotalPrice'].to_numpy()\n",
        "GR_totalprice = retail_GR['TotalPrice'].to_numpy()"
      ],
      "metadata": {
        "id": "i_qQaP92YOJR"
      },
      "execution_count": 186,
      "outputs": []
    },
    {
      "cell_type": "code",
      "source": [
        "ttest_result = ttest_ind(UK_totalprice,GR_totalprice,alternative=\"two-sided\") # alternative, \"two-sided\", \"less\", \"greater\"\n",
        "\n",
        "t_stat, p_value = ttest_result.statistic, ttest_result.pvalue\n",
        "\n",
        "# 가설 검정 결과 해석\n",
        "if p_value < 0.05:\n",
        "    print(\"영국과 독일 고객의 평균 구매 금액에 유의한 차이가 있습니다.\")\n",
        "else:\n",
        "    print(\"영국과 독일 고객의 평균 구매 금액에 유의한 차이가 없습니다.\")"
      ],
      "metadata": {
        "colab": {
          "base_uri": "https://localhost:8080/"
        },
        "id": "sPp5mTFqYie0",
        "outputId": "03984011-b93e-4c29-f19f-9ce7fbf2c9e4"
      },
      "execution_count": 189,
      "outputs": [
        {
          "output_type": "stream",
          "name": "stdout",
          "text": [
            "영국과 독일 고객의 평균 구매 금액에 유의한 차이가 있습니다.\n"
          ]
        }
      ]
    },
    {
      "cell_type": "markdown",
      "source": [
        "### A/B 테스트"
      ],
      "metadata": {
        "id": "ciCtTBFxSgj3"
      }
    },
    {
      "cell_type": "markdown",
      "source": [
        "문제 9~ 10) A/B test스타트업A에서 새로운 여행 패키지 상품 판매를 진행하고자 합니다. 패키지 판매 기획자는 새로운 패키지의 상품 판매 효율을 높이고 싶어하며, 이를 위해 기존에 상품이 판매되던 웹 페이지 (페이지 A) 가 아닌 새로운 웹 페이지 (페이지 B)를 통해 판매하고자 합니다. 패키지 판매 기획자는 신규 웹페이지 (페이지 B) 가 기존 (페이지 A) 대비 효과가 좋은 지 확인하기 위해 A/B 테스트를 진행하였습니다.\n",
        "\n",
        "- 페이지 A: 기존에 운영하던 패키지 판매 웹 페이지\n",
        "- 페이지 B: 새롭게 생성한 패키지 판매 웹 페이지\n",
        "\n",
        "두 페이지는 스타트업A 패키지 판매 사이트에 접속하는 유저에게 랜덤으로 노출되었고, 테스트 결과는 다음과 같습니다.\n",
        "\n",
        "| 페이지   | 노출 수 | 구매 수 |\n",
        "|----------|---------|---------|\n",
        "| 페이지 A | 1000    | 80      |\n",
        "| 페이지 B | 200     | 22      |"
      ],
      "metadata": {
        "id": "lH0u7iY4Snu5"
      }
    },
    {
      "cell_type": "markdown",
      "source": [
        "## **문제9)**\n",
        "\n",
        "- 결과를 바탕으로 패키지 기획자는 페이지 B의 효과에 대해 어떤 결정을 해야 할지 서술해 주세요.\n",
        "- Hint) https://abtestguide.com/calc/  를 사용하여 해석해보세요\n",
        "- 풀이과정\n",
        "  - 강의교안 statsmodel.stats.proportion 에서 proportions_ztest를 import한다!\n",
        "  - 상기 hint 사이트에 값을 넣어서 해석해본다"
      ],
      "metadata": {
        "id": "z0swwLEfSxu5"
      }
    },
    {
      "cell_type": "code",
      "source": [
        "# 페이지A n1= 1000, x1 = 80, p1 = 0.08\n",
        "# 페이지B n2= 200, x2 = 22, p2 = 0.11\n",
        "# 페이지B가 페이지A 대비 더 좋은지 A/B test를 하는 것이니, 단측 검정!\n",
        "\n",
        "# 교안의 A/B test 코드 활용\n",
        "\n",
        "from statsmodels.stats.proportion import proportions_ztest\n",
        "\n",
        "purchase = [80, 22] # 페이지A, 페이지B 순서\n",
        "exposure = [1000, 200] # 페이지A, 페이지B 순서\n",
        "alpha = 0.05\n",
        "\n",
        "z_stat, p_value = proportions_ztest(purchase, exposure, alternative='smaller')\n",
        "\n",
        "if p_value < alpha:\n",
        "  print(f'A/B테스트 z통계량 : {z_stat}, A/B테스트 p_value : {p_value : .3f}, 페이지전환 효과 통계적 유의함!')\n",
        "else:\n",
        "  print(f'A/B테스트 z통계량 : {z_stat}, A/B테스트 p_value : {p_value : .3f}, 페이지전환 효과 통계적으로 유의하지 않음')"
      ],
      "metadata": {
        "colab": {
          "base_uri": "https://localhost:8080/"
        },
        "id": "pB6A_yIMTjD0",
        "outputId": "50e7a28b-3ca3-4637-d2e7-ffa99663d4a8"
      },
      "execution_count": 198,
      "outputs": [
        {
          "output_type": "stream",
          "name": "stdout",
          "text": [
            "A/B테스트 z통계량 : -1.3887549490757716, A/B테스트 p_value :  0.082, 페이지전환 효과 통계적으로 유의하지 않음\n"
          ]
        }
      ]
    },
    {
      "cell_type": "code",
      "source": [
        "# 이미지 colab-markdown 올리는 것 등은\n",
        "# chatGPT도움을 받음\n",
        "# github 레포에 업로드하고... google-colab에 올리는 방식 사용!"
      ],
      "metadata": {
        "id": "DAcehrlenAS0"
      },
      "execution_count": null,
      "outputs": []
    },
    {
      "cell_type": "markdown",
      "source": [
        "#### Hint에서의 Tool사용해보기\n",
        "- https://abtestguide.com/calc/ 활용결과\n",
        "- Github에 Tool 사용결과 이미지 레포에 저장 후, 마크다운에 반영\n",
        "  - \"github.com\"이 아니라 \"raw.githubusercontent.com\" 사용\n",
        "  - 그리고 중간에 blob 지워야 함!\n",
        "\n",
        "<img src= \"https://raw.githubusercontent.com/yj-start-2025/DS4_by_modulabs/main/Module_04_Statistics/01_ABtest_01.png\" width=\"300\">\n",
        "\n",
        "- 결과해석1\n",
        "  - Test 결과는 유의하지 않음\n",
        "  - Conversion-rate의 차이는 37.5%지만, 통계적으로 유의하지 않음\n",
        "  - SRM Alert는 A, B 두 집단 간의 sample 크기 차이가 클 때 뜨는 warning!\n",
        "\n",
        "<img src = \"https://raw.githubusercontent.com/yj-start-2025/DS4_by_modulabs/main/Module_04_Statistics/02_ABtest_02.png\" width=\"500\">\n"
      ],
      "metadata": {
        "id": "p8_aX3VciHNn"
      }
    },
    {
      "cell_type": "markdown",
      "source": [
        "- 결과해석2(통계량)\n",
        "  - Relative-uplift : A/B 방식 간의 비율 차이\n",
        "$\\frac{P_A - P_B}{P_A}$ = 37.5% 나옴!\n",
        "  - P-value가 0.1031, 통계적으로 유의하지 않음!\n",
        "  - Power가 76.37% 결국 검정력도 강하지 않다는 의미!\n",
        "\n",
        "<img src=\"https://raw.githubusercontent.com/yj-start-2025/DS4_by_modulabs/main/Module_04_Statistics/03_ABtest_03.png\" width = \"600\">"
      ],
      "metadata": {
        "id": "Bv9Ga_yhr-F3"
      }
    },
    {
      "cell_type": "markdown",
      "source": [
        "#### 결론\n",
        "- statsmodel.stats.proportion 에서 proportions_ztest를 import 하는 경우,   \n",
        "web상의 A/B test 계산기 사용의 경우 모두 통계적으로 유의하지 않다는 결론이 도출됨"
      ],
      "metadata": {
        "id": "TSOqGH5pvLMq"
      }
    },
    {
      "cell_type": "markdown",
      "source": [
        "## **문제 10)**\n",
        "\n",
        "- A/B 테스트의 결과가 통계적으로 유의하나 효과의 차이 자체는 매우 작은 경우, 어떤 의사결정을 할 수 있을지 사례를 통해 설명해 주세요.\n",
        "- Hint) A/B 관련 자료를 찾아보세요(추천 문헌 [요즘IT](https://yozm.wishket.com/))"
      ],
      "metadata": {
        "id": "PGnpoZSqTnhm"
      }
    },
    {
      "cell_type": "markdown",
      "source": [
        "#### 요즘IT 사이트 검색 결과\n",
        "- https://yozm.wishket.com/ 관련된 내용을 검색해 봄\n",
        "  - 검색어는 'AB test 효과'로 검색\n",
        "- 효과의 차이가 작은데(converstion rate의 비율 차), 통계적으로 유의한 이유\n",
        "  - 통계적 가설 검정은 결국 통계적 분포 가정을 하는데, t나 Z나 분포 가정을 할 경우에 표본의 크기가 커지게 되면 표준오차의 크기가  \n",
        "  작아지면서 검정통계량이 커지게 되어 귀무가설을 더 기각하기 쉬워짐   \n",
        "  - 다시 말해, 두 집단간의 비율 차가 크지 않음에도 p-value는 매우 작은 값일 수 있다는 의미\n"
      ],
      "metadata": {
        "id": "BDTms52FvkAT"
      }
    },
    {
      "cell_type": "markdown",
      "source": [
        "#### 가능한 대안은?\n",
        "- https://yozm.wishket.com/magazine/detail/1034/에 들어가 보면 '매거진 입맛' 저자는   \n",
        "베이즈 확률에 기반한 방법론을 소개하고 있음\n",
        "- P-value만 따지지 않고, Cohen’s h, relative uplift, 또는 MDE(min detectable effect)를 기준으로\n",
        "실제 차이가 의미가 있는지 고려하는 방법도 있음\n"
      ],
      "metadata": {
        "id": "gpHD8_8RxQRL"
      }
    },
    {
      "cell_type": "markdown",
      "source": [
        "## MainQuest04 회고"
      ],
      "metadata": {
        "id": "9vsswqGUTpQP"
      }
    },
    {
      "cell_type": "markdown",
      "source": [
        "## **회고 남기기**\n",
        "01 Keep(잘된 점)\n",
        "-  다른 그루 분들보다는 꽤 느렸지만, 오늘은 제 시간안에 MainQuest 문제를 거의 해결할 수 있었다.\n",
        "- 데이터를 다루고, 함수를 정의하거나, for문 등으로 간단한 시뮬레이션 하는 것에 익숙해짐\n",
        "- 문제에서 주어진 상황, 가정에 대해 깊이 있는 생각을 하면서, 다른 대안도 모색하는 시간도 가질 수 있었음.(반복수를 반영하여, 표본평균의 평균이 모평균에 수렴하는 Weak Law of Large Numbers를 간단한 시뮬레이션으로 확인해 본 점)\n",
        "- Colab 환경, 마크다운 문법, github 등에 대한 숙련도가 향상된 점\n",
        "\n",
        "02 Problem(개선 점)\n",
        "- 통계학적인 가정이나, 주어진 함수나 모듈에 대해 따져보는 것은 항상 quest나 일과 이후에 하는게 합리적인 것 같음(우선순위 선정의 문제)\n",
        "- matplotlib.pyplot, seaborn.sns 같은 시각화 tool에 대한 연습이 아직 부족함\n",
        "\n",
        "03 Try(앞으로 노력할 점)\n",
        "- 시간적으로 촉박하더라도 학습한 내용은 주기적으로 velog, github을 통해 정리하기\n",
        "- python 문법 복습, 기초적인 코딩테스트 문제 풀이를 통해 python자체에 대한 숙련도 향상이 더 필요\n",
        "- 자주 쓰이는 모듈, 라이브러리에 대해 정리해서 문서화 할 필요 있을 듯\n",
        "  - 향후 빅데이터분석기사, ADP 응시 목적\n",
        "- Markdown, Tex과 같이 문서화에 관련된 도구에도 숙련도 향상이 지속될 필요 있음\n",
        "\n",
        "04 기타\n",
        "- statsmodel.stats.proportion 에서 proportions_ztest 사용한 p-value(0.08)와, web상의 p-value(0.103)가 다른데 이 부분에 대해 좀 더 고민해 봐야겠다.\n",
        "  - 이항분포 정규근사 과정 때문에 오차가 생기는데, 이걸 continuity correction으로 보정해야 하는데 해당 모듈에는 그런 기능은 없음\n",
        "  - 직저 함수 정의하거나 수동으로 계산하는 방식을 고려해야 할 듯\n",
        "\n"
      ],
      "metadata": {
        "id": "gzDghBBpBqdZ"
      }
    }
  ]
}