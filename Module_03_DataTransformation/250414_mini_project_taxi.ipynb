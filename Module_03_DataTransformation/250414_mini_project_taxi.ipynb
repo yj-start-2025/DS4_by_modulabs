{
 "cells": [
  {
   "cell_type": "code",
   "execution_count": 1,
   "id": "389debdc",
   "metadata": {},
   "outputs": [],
   "source": [
    "import pandas as pd\n",
    "import numpy as np\n",
    "import matplotlib.pyplot as plt\n",
    "import seaborn as sns"
   ]
  },
  {
   "cell_type": "code",
   "execution_count": 3,
   "id": "3f9d206c",
   "metadata": {},
   "outputs": [],
   "source": [
    "# 데이터 로드하기\n",
    "data = pd.read_csv('data/trip.csv')"
   ]
  },
  {
   "cell_type": "code",
   "execution_count": 8,
   "id": "ce6a763d",
   "metadata": {},
   "outputs": [
    {
     "name": "stdout",
     "output_type": "stream",
     "text": [
      "<class 'pandas.core.frame.DataFrame'>\n",
      "RangeIndex: 22701 entries, 0 to 22700\n",
      "Data columns (total 9 columns):\n",
      " #   Column                 Non-Null Count  Dtype  \n",
      "---  ------                 --------------  -----  \n",
      " 0   passenger_name         22701 non-null  object \n",
      " 1   tpep_pickup_datetime   22701 non-null  object \n",
      " 2   tpep_dropoff_datetime  22701 non-null  object \n",
      " 3   payment_method         22701 non-null  object \n",
      " 4   passenger_count        22701 non-null  int64  \n",
      " 5   trip_distance          22701 non-null  float64\n",
      " 6   fare_amount            22698 non-null  float64\n",
      " 7   tip_amount             22701 non-null  float64\n",
      " 8   tolls_amount           22701 non-null  float64\n",
      "dtypes: float64(4), int64(1), object(4)\n",
      "memory usage: 1.6+ MB\n"
     ]
    }
   ],
   "source": [
    "# Q. info() 메서드를 사용하여 데이터 컬럼명과 자료형을 확인합니다.\n",
    "\n",
    "# [[YOUR CODE]]\n",
    "\n",
    "data.info()"
   ]
  },
  {
   "cell_type": "code",
   "execution_count": 9,
   "id": "c6e78fa5",
   "metadata": {},
   "outputs": [
    {
     "data": {
      "text/html": [
       "<div>\n",
       "<style scoped>\n",
       "    .dataframe tbody tr th:only-of-type {\n",
       "        vertical-align: middle;\n",
       "    }\n",
       "\n",
       "    .dataframe tbody tr th {\n",
       "        vertical-align: top;\n",
       "    }\n",
       "\n",
       "    .dataframe thead th {\n",
       "        text-align: right;\n",
       "    }\n",
       "</style>\n",
       "<table border=\"1\" class=\"dataframe\">\n",
       "  <thead>\n",
       "    <tr style=\"text-align: right;\">\n",
       "      <th></th>\n",
       "      <th>passenger_count</th>\n",
       "      <th>trip_distance</th>\n",
       "      <th>fare_amount</th>\n",
       "      <th>tip_amount</th>\n",
       "      <th>tolls_amount</th>\n",
       "    </tr>\n",
       "  </thead>\n",
       "  <tbody>\n",
       "    <tr>\n",
       "      <th>count</th>\n",
       "      <td>22701.000000</td>\n",
       "      <td>22701.000000</td>\n",
       "      <td>22698.000000</td>\n",
       "      <td>22701.000000</td>\n",
       "      <td>22701.000000</td>\n",
       "    </tr>\n",
       "    <tr>\n",
       "      <th>mean</th>\n",
       "      <td>1.643584</td>\n",
       "      <td>2.913400</td>\n",
       "      <td>13.024009</td>\n",
       "      <td>1.835745</td>\n",
       "      <td>0.312514</td>\n",
       "    </tr>\n",
       "    <tr>\n",
       "      <th>std</th>\n",
       "      <td>1.304942</td>\n",
       "      <td>3.653023</td>\n",
       "      <td>13.240074</td>\n",
       "      <td>2.800537</td>\n",
       "      <td>1.399153</td>\n",
       "    </tr>\n",
       "    <tr>\n",
       "      <th>min</th>\n",
       "      <td>0.000000</td>\n",
       "      <td>0.000000</td>\n",
       "      <td>-120.000000</td>\n",
       "      <td>0.000000</td>\n",
       "      <td>0.000000</td>\n",
       "    </tr>\n",
       "    <tr>\n",
       "      <th>25%</th>\n",
       "      <td>1.000000</td>\n",
       "      <td>0.990000</td>\n",
       "      <td>6.500000</td>\n",
       "      <td>0.000000</td>\n",
       "      <td>0.000000</td>\n",
       "    </tr>\n",
       "    <tr>\n",
       "      <th>50%</th>\n",
       "      <td>1.000000</td>\n",
       "      <td>1.610000</td>\n",
       "      <td>9.500000</td>\n",
       "      <td>1.350000</td>\n",
       "      <td>0.000000</td>\n",
       "    </tr>\n",
       "    <tr>\n",
       "      <th>75%</th>\n",
       "      <td>2.000000</td>\n",
       "      <td>3.060000</td>\n",
       "      <td>14.500000</td>\n",
       "      <td>2.450000</td>\n",
       "      <td>0.000000</td>\n",
       "    </tr>\n",
       "    <tr>\n",
       "      <th>max</th>\n",
       "      <td>36.000000</td>\n",
       "      <td>33.960000</td>\n",
       "      <td>999.990000</td>\n",
       "      <td>200.000000</td>\n",
       "      <td>19.100000</td>\n",
       "    </tr>\n",
       "  </tbody>\n",
       "</table>\n",
       "</div>"
      ],
      "text/plain": [
       "       passenger_count  trip_distance   fare_amount    tip_amount  \\\n",
       "count     22701.000000   22701.000000  22698.000000  22701.000000   \n",
       "mean          1.643584       2.913400     13.024009      1.835745   \n",
       "std           1.304942       3.653023     13.240074      2.800537   \n",
       "min           0.000000       0.000000   -120.000000      0.000000   \n",
       "25%           1.000000       0.990000      6.500000      0.000000   \n",
       "50%           1.000000       1.610000      9.500000      1.350000   \n",
       "75%           2.000000       3.060000     14.500000      2.450000   \n",
       "max          36.000000      33.960000    999.990000    200.000000   \n",
       "\n",
       "       tolls_amount  \n",
       "count  22701.000000  \n",
       "mean       0.312514  \n",
       "std        1.399153  \n",
       "min        0.000000  \n",
       "25%        0.000000  \n",
       "50%        0.000000  \n",
       "75%        0.000000  \n",
       "max       19.100000  "
      ]
     },
     "execution_count": 9,
     "metadata": {},
     "output_type": "execute_result"
    }
   ],
   "source": [
    "# Q. describe() 메서드를 사용하여 데이터 컬럼별 통계량을 확인합니다.\n",
    "\n",
    "# [[YOUR CODE]]\n",
    "\n",
    "data.describe()"
   ]
  },
  {
   "cell_type": "code",
   "execution_count": 10,
   "id": "338782ae",
   "metadata": {},
   "outputs": [
    {
     "data": {
      "text/html": [
       "<div>\n",
       "<style scoped>\n",
       "    .dataframe tbody tr th:only-of-type {\n",
       "        vertical-align: middle;\n",
       "    }\n",
       "\n",
       "    .dataframe tbody tr th {\n",
       "        vertical-align: top;\n",
       "    }\n",
       "\n",
       "    .dataframe thead th {\n",
       "        text-align: right;\n",
       "    }\n",
       "</style>\n",
       "<table border=\"1\" class=\"dataframe\">\n",
       "  <thead>\n",
       "    <tr style=\"text-align: right;\">\n",
       "      <th></th>\n",
       "      <th>passenger_name</th>\n",
       "      <th>tpep_pickup_datetime</th>\n",
       "      <th>tpep_dropoff_datetime</th>\n",
       "      <th>payment_method</th>\n",
       "      <th>passenger_count</th>\n",
       "      <th>trip_distance</th>\n",
       "      <th>fare_amount</th>\n",
       "      <th>tip_amount</th>\n",
       "      <th>tolls_amount</th>\n",
       "    </tr>\n",
       "  </thead>\n",
       "  <tbody>\n",
       "    <tr>\n",
       "      <th>17</th>\n",
       "      <td>Sarah Gross</td>\n",
       "      <td>08/15/2017 7:48:08 PM</td>\n",
       "      <td>08/15/2017 8:00:37 PM</td>\n",
       "      <td>Cash</td>\n",
       "      <td>1</td>\n",
       "      <td>3.6</td>\n",
       "      <td>12.5</td>\n",
       "      <td>2.85</td>\n",
       "      <td>0.0</td>\n",
       "    </tr>\n",
       "    <tr>\n",
       "      <th>204</th>\n",
       "      <td>Lisa Bullock</td>\n",
       "      <td>02/13/2017 4:25:41 PM</td>\n",
       "      <td>02/13/2017 4:55:35 PM</td>\n",
       "      <td>Cash</td>\n",
       "      <td>1</td>\n",
       "      <td>4.2</td>\n",
       "      <td>21.0</td>\n",
       "      <td>0.00</td>\n",
       "      <td>0.0</td>\n",
       "    </tr>\n",
       "  </tbody>\n",
       "</table>\n",
       "</div>"
      ],
      "text/plain": [
       "    passenger_name   tpep_pickup_datetime  tpep_dropoff_datetime  \\\n",
       "17     Sarah Gross  08/15/2017 7:48:08 PM  08/15/2017 8:00:37 PM   \n",
       "204   Lisa Bullock  02/13/2017 4:25:41 PM  02/13/2017 4:55:35 PM   \n",
       "\n",
       "    payment_method  passenger_count  trip_distance  fare_amount  tip_amount  \\\n",
       "17            Cash                1            3.6         12.5        2.85   \n",
       "204           Cash                1            4.2         21.0        0.00   \n",
       "\n",
       "     tolls_amount  \n",
       "17            0.0  \n",
       "204           0.0  "
      ]
     },
     "execution_count": 10,
     "metadata": {},
     "output_type": "execute_result"
    }
   ],
   "source": [
    "# Q. 중복 데이터를 확인합니다.\n",
    "\n",
    "# [[YOUR CODE]]\n",
    "data[data.duplicated()]"
   ]
  },
  {
   "cell_type": "code",
   "execution_count": 12,
   "id": "cdca5f56",
   "metadata": {},
   "outputs": [
    {
     "data": {
      "text/html": [
       "<div>\n",
       "<style scoped>\n",
       "    .dataframe tbody tr th:only-of-type {\n",
       "        vertical-align: middle;\n",
       "    }\n",
       "\n",
       "    .dataframe tbody tr th {\n",
       "        vertical-align: top;\n",
       "    }\n",
       "\n",
       "    .dataframe thead th {\n",
       "        text-align: right;\n",
       "    }\n",
       "</style>\n",
       "<table border=\"1\" class=\"dataframe\">\n",
       "  <thead>\n",
       "    <tr style=\"text-align: right;\">\n",
       "      <th></th>\n",
       "      <th>passenger_name</th>\n",
       "      <th>tpep_pickup_datetime</th>\n",
       "      <th>tpep_dropoff_datetime</th>\n",
       "      <th>payment_method</th>\n",
       "      <th>passenger_count</th>\n",
       "      <th>trip_distance</th>\n",
       "      <th>fare_amount</th>\n",
       "      <th>tip_amount</th>\n",
       "      <th>tolls_amount</th>\n",
       "    </tr>\n",
       "  </thead>\n",
       "  <tbody>\n",
       "    <tr>\n",
       "      <th>203</th>\n",
       "      <td>Lisa Bullock</td>\n",
       "      <td>02/13/2017 4:25:41 PM</td>\n",
       "      <td>02/13/2017 4:55:35 PM</td>\n",
       "      <td>Cash</td>\n",
       "      <td>1</td>\n",
       "      <td>4.2</td>\n",
       "      <td>21.0</td>\n",
       "      <td>0.0</td>\n",
       "      <td>0.0</td>\n",
       "    </tr>\n",
       "    <tr>\n",
       "      <th>204</th>\n",
       "      <td>Lisa Bullock</td>\n",
       "      <td>02/13/2017 4:25:41 PM</td>\n",
       "      <td>02/13/2017 4:55:35 PM</td>\n",
       "      <td>Cash</td>\n",
       "      <td>1</td>\n",
       "      <td>4.2</td>\n",
       "      <td>21.0</td>\n",
       "      <td>0.0</td>\n",
       "      <td>0.0</td>\n",
       "    </tr>\n",
       "  </tbody>\n",
       "</table>\n",
       "</div>"
      ],
      "text/plain": [
       "    passenger_name   tpep_pickup_datetime  tpep_dropoff_datetime  \\\n",
       "203   Lisa Bullock  02/13/2017 4:25:41 PM  02/13/2017 4:55:35 PM   \n",
       "204   Lisa Bullock  02/13/2017 4:25:41 PM  02/13/2017 4:55:35 PM   \n",
       "\n",
       "    payment_method  passenger_count  trip_distance  fare_amount  tip_amount  \\\n",
       "203           Cash                1            4.2         21.0         0.0   \n",
       "204           Cash                1            4.2         21.0         0.0   \n",
       "\n",
       "     tolls_amount  \n",
       "203           0.0  \n",
       "204           0.0  "
      ]
     },
     "execution_count": 12,
     "metadata": {},
     "output_type": "execute_result"
    }
   ],
   "source": [
    "# Sarah Gross / Lisa Bullock\n",
    "# data[data['passenger_name'] == 'Sarah Gross']\n",
    "data[data['passenger_name'] == 'Lisa Bullock']\n"
   ]
  },
  {
   "cell_type": "code",
   "execution_count": 13,
   "id": "d865ae25",
   "metadata": {},
   "outputs": [
    {
     "data": {
      "text/plain": [
       "passenger_name           0\n",
       "tpep_pickup_datetime     0\n",
       "tpep_dropoff_datetime    0\n",
       "payment_method           0\n",
       "passenger_count          0\n",
       "trip_distance            0\n",
       "fare_amount              3\n",
       "tip_amount               0\n",
       "tolls_amount             0\n",
       "dtype: int64"
      ]
     },
     "execution_count": 13,
     "metadata": {},
     "output_type": "execute_result"
    }
   ],
   "source": [
    "## stage3 결측치? \n",
    "data.isna().sum()"
   ]
  },
  {
   "cell_type": "code",
   "execution_count": 14,
   "id": "9d870b56",
   "metadata": {},
   "outputs": [
    {
     "data": {
      "text/plain": [
       "passenger_name           0.000000\n",
       "tpep_pickup_datetime     0.000000\n",
       "tpep_dropoff_datetime    0.000000\n",
       "payment_method           0.000000\n",
       "passenger_count          0.000000\n",
       "trip_distance            0.000000\n",
       "fare_amount              0.000132\n",
       "tip_amount               0.000000\n",
       "tolls_amount             0.000000\n",
       "dtype: float64"
      ]
     },
     "execution_count": 14,
     "metadata": {},
     "output_type": "execute_result"
    }
   ],
   "source": [
    "data.isna().mean() # fare_amount! (0.0132%)"
   ]
  },
  {
   "cell_type": "code",
   "execution_count": 20,
   "id": "e765e952",
   "metadata": {},
   "outputs": [],
   "source": [
    "# 결측치제거? \n",
    "# data.shape # 22701행\n",
    "# data.dropna().shape # 22698 행\n",
    "data = data.dropna()"
   ]
  },
  {
   "cell_type": "code",
   "execution_count": 21,
   "id": "39b02790",
   "metadata": {},
   "outputs": [
    {
     "data": {
      "text/plain": [
       "12804     0\n",
       "19458     0\n",
       "5565      0\n",
       "5670      0\n",
       "13718     0\n",
       "         ..\n",
       "21791     6\n",
       "15629     6\n",
       "4854      6\n",
       "0         6\n",
       "64       36\n",
       "Name: passenger_count, Length: 22698, dtype: int64"
      ]
     },
     "execution_count": 21,
     "metadata": {},
     "output_type": "execute_result"
    }
   ],
   "source": [
    "## stage04 이상치 제거\n",
    "data['passenger_count'].sort_values()"
   ]
  },
  {
   "cell_type": "code",
   "execution_count": 24,
   "id": "4d42681d",
   "metadata": {},
   "outputs": [
    {
     "data": {
      "text/plain": [
       "<AxesSubplot:ylabel='trip_distance'>"
      ]
     },
     "execution_count": 24,
     "metadata": {},
     "output_type": "execute_result"
    },
    {
     "data": {
      "image/png": "[encoded data removed]",
      "text/plain": [
       "<Figure size 432x288 with 1 Axes>"
      ]
     },
     "metadata": {
      "needs_background": "light"
     },
     "output_type": "display_data"
    }
   ],
   "source": [
    "## 이상치 제거 'trip_distance'\n",
    "\n",
    "# data['trip_distance'].sort_values()\n",
    "# 일단 trip_distance로 정렬?\n",
    "# data['trip_distance']=data['trip_distance'].sort_values()\n",
    "\n",
    "data = data.sort_values(by='trip_distance') # 이렇게 정렬?\n",
    "\n",
    "# 그 다음에 index와 trip_distance로 sns.scatterplot?\n",
    "sns.scatterplot(x = data.index, y=data['trip_distance'])"
   ]
  },
  {
   "cell_type": "code",
   "execution_count": 27,
   "id": "c73197d1",
   "metadata": {},
   "outputs": [
    {
     "data": {
      "text/plain": [
       "<AxesSubplot:xlabel='trip_distance', ylabel='Count'>"
      ]
     },
     "execution_count": 27,
     "metadata": {},
     "output_type": "execute_result"
    },
    {
     "data": {
      "image/png": "[encoded data removed]",
      "text/plain": [
       "<Figure size 432x288 with 1 Axes>"
      ]
     },
     "metadata": {
      "needs_background": "light"
     },
     "output_type": "display_data"
    }
   ],
   "source": [
    "sns.histplot(data=data, x='trip_distance', bins=10) # 20 이상부터는 outlier?"
   ]
  },
  {
   "cell_type": "code",
   "execution_count": 28,
   "id": "c59cefd6",
   "metadata": {},
   "outputs": [
    {
     "data": {
      "text/html": [
       "<div>\n",
       "<style scoped>\n",
       "    .dataframe tbody tr th:only-of-type {\n",
       "        vertical-align: middle;\n",
       "    }\n",
       "\n",
       "    .dataframe tbody tr th {\n",
       "        vertical-align: top;\n",
       "    }\n",
       "\n",
       "    .dataframe thead th {\n",
       "        text-align: right;\n",
       "    }\n",
       "</style>\n",
       "<table border=\"1\" class=\"dataframe\">\n",
       "  <thead>\n",
       "    <tr style=\"text-align: right;\">\n",
       "      <th></th>\n",
       "      <th>passenger_name</th>\n",
       "      <th>tpep_pickup_datetime</th>\n",
       "      <th>tpep_dropoff_datetime</th>\n",
       "      <th>payment_method</th>\n",
       "      <th>passenger_count</th>\n",
       "      <th>trip_distance</th>\n",
       "      <th>fare_amount</th>\n",
       "      <th>tip_amount</th>\n",
       "      <th>tolls_amount</th>\n",
       "    </tr>\n",
       "  </thead>\n",
       "  <tbody>\n",
       "    <tr>\n",
       "      <th>4863</th>\n",
       "      <td>Brian Meadows</td>\n",
       "      <td>05/25/2017 10:18:05 PM</td>\n",
       "      <td>05/25/2017 10:52:09 PM</td>\n",
       "      <td>Cash</td>\n",
       "      <td>6</td>\n",
       "      <td>20.03</td>\n",
       "      <td>52.00</td>\n",
       "      <td>0.00</td>\n",
       "      <td>5.76</td>\n",
       "    </tr>\n",
       "    <tr>\n",
       "      <th>8472</th>\n",
       "      <td>Joseph Price</td>\n",
       "      <td>09/25/2017 9:52:24 PM</td>\n",
       "      <td>09/25/2017 10:32:00 PM</td>\n",
       "      <td>Cash</td>\n",
       "      <td>1</td>\n",
       "      <td>20.08</td>\n",
       "      <td>52.00</td>\n",
       "      <td>0.00</td>\n",
       "      <td>5.76</td>\n",
       "    </tr>\n",
       "    <tr>\n",
       "      <th>19666</th>\n",
       "      <td>Stacey Taylor</td>\n",
       "      <td>09/24/2017 11:22:07 AM</td>\n",
       "      <td>09/24/2017 12:02:21 PM</td>\n",
       "      <td>Cash</td>\n",
       "      <td>2</td>\n",
       "      <td>20.11</td>\n",
       "      <td>52.00</td>\n",
       "      <td>11.71</td>\n",
       "      <td>5.76</td>\n",
       "    </tr>\n",
       "    <tr>\n",
       "      <th>19874</th>\n",
       "      <td>Jermaine Rivera</td>\n",
       "      <td>03/25/2017 9:33:54 AM</td>\n",
       "      <td>03/25/2017 10:08:49 AM</td>\n",
       "      <td>Cash</td>\n",
       "      <td>1</td>\n",
       "      <td>20.20</td>\n",
       "      <td>52.00</td>\n",
       "      <td>11.70</td>\n",
       "      <td>5.76</td>\n",
       "    </tr>\n",
       "    <tr>\n",
       "      <th>1417</th>\n",
       "      <td>Brandi Beck</td>\n",
       "      <td>05/23/2017 11:10:50 AM</td>\n",
       "      <td>05/23/2017 12:11:06 PM</td>\n",
       "      <td>Credit Card</td>\n",
       "      <td>2</td>\n",
       "      <td>20.20</td>\n",
       "      <td>52.00</td>\n",
       "      <td>11.70</td>\n",
       "      <td>5.76</td>\n",
       "    </tr>\n",
       "    <tr>\n",
       "      <th>...</th>\n",
       "      <td>...</td>\n",
       "      <td>...</td>\n",
       "      <td>...</td>\n",
       "      <td>...</td>\n",
       "      <td>...</td>\n",
       "      <td>...</td>\n",
       "      <td>...</td>\n",
       "      <td>...</td>\n",
       "      <td>...</td>\n",
       "    </tr>\n",
       "    <tr>\n",
       "      <th>30</th>\n",
       "      <td>David Burton</td>\n",
       "      <td>11/06/2017 8:30:50 PM</td>\n",
       "      <td>11/07/2017 12:00:00 AM</td>\n",
       "      <td>Credit Card</td>\n",
       "      <td>1</td>\n",
       "      <td>30.83</td>\n",
       "      <td>80.00</td>\n",
       "      <td>18.56</td>\n",
       "      <td>11.52</td>\n",
       "    </tr>\n",
       "    <tr>\n",
       "      <th>10293</th>\n",
       "      <td>Emily Stevens</td>\n",
       "      <td>09/11/2017 11:41:04 AM</td>\n",
       "      <td>09/11/2017 12:18:58 PM</td>\n",
       "      <td>Cash</td>\n",
       "      <td>1</td>\n",
       "      <td>31.95</td>\n",
       "      <td>131.00</td>\n",
       "      <td>0.00</td>\n",
       "      <td>0.00</td>\n",
       "    </tr>\n",
       "    <tr>\n",
       "      <th>6066</th>\n",
       "      <td>Tina Knight</td>\n",
       "      <td>06/13/2017 12:30:22 PM</td>\n",
       "      <td>06/13/2017 1:37:51 PM</td>\n",
       "      <td>Debit Card</td>\n",
       "      <td>1</td>\n",
       "      <td>32.72</td>\n",
       "      <td>107.00</td>\n",
       "      <td>55.50</td>\n",
       "      <td>16.26</td>\n",
       "    </tr>\n",
       "    <tr>\n",
       "      <th>13863</th>\n",
       "      <td>William Yates</td>\n",
       "      <td>05/19/2017 8:20:21 AM</td>\n",
       "      <td>05/19/2017 9:20:30 AM</td>\n",
       "      <td>Credit Card</td>\n",
       "      <td>1</td>\n",
       "      <td>33.92</td>\n",
       "      <td>200.01</td>\n",
       "      <td>51.64</td>\n",
       "      <td>5.76</td>\n",
       "    </tr>\n",
       "    <tr>\n",
       "      <th>9282</th>\n",
       "      <td>Samantha Frederick</td>\n",
       "      <td>06/18/2017 11:33:25 PM</td>\n",
       "      <td>06/19/2017 12:12:38 AM</td>\n",
       "      <td>Cash</td>\n",
       "      <td>2</td>\n",
       "      <td>33.96</td>\n",
       "      <td>150.00</td>\n",
       "      <td>0.00</td>\n",
       "      <td>0.00</td>\n",
       "    </tr>\n",
       "  </tbody>\n",
       "</table>\n",
       "<p>136 rows × 9 columns</p>\n",
       "</div>"
      ],
      "text/plain": [
       "           passenger_name    tpep_pickup_datetime   tpep_dropoff_datetime  \\\n",
       "4863        Brian Meadows  05/25/2017 10:18:05 PM  05/25/2017 10:52:09 PM   \n",
       "8472         Joseph Price   09/25/2017 9:52:24 PM  09/25/2017 10:32:00 PM   \n",
       "19666       Stacey Taylor  09/24/2017 11:22:07 AM  09/24/2017 12:02:21 PM   \n",
       "19874     Jermaine Rivera   03/25/2017 9:33:54 AM  03/25/2017 10:08:49 AM   \n",
       "1417          Brandi Beck  05/23/2017 11:10:50 AM  05/23/2017 12:11:06 PM   \n",
       "...                   ...                     ...                     ...   \n",
       "30           David Burton   11/06/2017 8:30:50 PM  11/07/2017 12:00:00 AM   \n",
       "10293       Emily Stevens  09/11/2017 11:41:04 AM  09/11/2017 12:18:58 PM   \n",
       "6066          Tina Knight  06/13/2017 12:30:22 PM   06/13/2017 1:37:51 PM   \n",
       "13863       William Yates   05/19/2017 8:20:21 AM   05/19/2017 9:20:30 AM   \n",
       "9282   Samantha Frederick  06/18/2017 11:33:25 PM  06/19/2017 12:12:38 AM   \n",
       "\n",
       "      payment_method  passenger_count  trip_distance  fare_amount  tip_amount  \\\n",
       "4863            Cash                6          20.03        52.00        0.00   \n",
       "8472            Cash                1          20.08        52.00        0.00   \n",
       "19666           Cash                2          20.11        52.00       11.71   \n",
       "19874           Cash                1          20.20        52.00       11.70   \n",
       "1417     Credit Card                2          20.20        52.00       11.70   \n",
       "...              ...              ...            ...          ...         ...   \n",
       "30       Credit Card                1          30.83        80.00       18.56   \n",
       "10293           Cash                1          31.95       131.00        0.00   \n",
       "6066      Debit Card                1          32.72       107.00       55.50   \n",
       "13863    Credit Card                1          33.92       200.01       51.64   \n",
       "9282            Cash                2          33.96       150.00        0.00   \n",
       "\n",
       "       tolls_amount  \n",
       "4863           5.76  \n",
       "8472           5.76  \n",
       "19666          5.76  \n",
       "19874          5.76  \n",
       "1417           5.76  \n",
       "...             ...  \n",
       "30            11.52  \n",
       "10293          0.00  \n",
       "6066          16.26  \n",
       "13863          5.76  \n",
       "9282           0.00  \n",
       "\n",
       "[136 rows x 9 columns]"
      ]
     },
     "execution_count": 28,
     "metadata": {},
     "output_type": "execute_result"
    }
   ],
   "source": [
    "data[data['trip_distance']>20]"
   ]
  },
  {
   "cell_type": "code",
   "execution_count": 29,
   "id": "7e218bc4",
   "metadata": {},
   "outputs": [],
   "source": [
    "# trip_distance 20초과는 이상치로 간주하여 제거(9개)\n",
    "data = data[data['trip_distance']<=20]"
   ]
  },
  {
   "cell_type": "code",
   "execution_count": 32,
   "id": "1d1ae9ef",
   "metadata": {},
   "outputs": [
    {
     "data": {
      "text/plain": [
       "19"
      ]
     },
     "execution_count": 32,
     "metadata": {},
     "output_type": "execute_result"
    }
   ],
   "source": [
    "# fare_amount 이상치 제거\n",
    "# fare_amount 0이하?\n",
    "\n",
    "sum(data['fare_amount']<=0) # 이상치 개수 19개"
   ]
  },
  {
   "cell_type": "code",
   "execution_count": 33,
   "id": "df8c012b",
   "metadata": {},
   "outputs": [],
   "source": [
    "# fare_amount는 0초과해야함\n",
    "\n",
    "data = data[data['fare_amount']>0]"
   ]
  },
  {
   "cell_type": "code",
   "execution_count": 35,
   "id": "3e0dd545",
   "metadata": {},
   "outputs": [
    {
     "data": {
      "text/plain": [
       "<AxesSubplot:ylabel='fare_amount'>"
      ]
     },
     "execution_count": 35,
     "metadata": {},
     "output_type": "execute_result"
    },
    {
     "data": {
      "image/png": "[encoded data removed]",
      "text/plain": [
       "<Figure size 432x288 with 1 Axes>"
      ]
     },
     "metadata": {
      "needs_background": "light"
     },
     "output_type": "display_data"
    }
   ],
   "source": [
    "# Q. fare_amount의 scatter plot을 그립니다.\n",
    "\n",
    "# [[YOUR CODE]]\n",
    "sns.scatterplot(x = data.index, y=data['fare_amount'])"
   ]
  },
  {
   "cell_type": "code",
   "execution_count": 36,
   "id": "3269c382",
   "metadata": {},
   "outputs": [
    {
     "data": {
      "text/plain": [
       "<AxesSubplot:ylabel='tip_amount'>"
      ]
     },
     "execution_count": 36,
     "metadata": {},
     "output_type": "execute_result"
    },
    {
     "data": {
      "image/png": "[encoded data removed]",
      "text/plain": [
       "<Figure size 432x288 with 1 Axes>"
      ]
     },
     "metadata": {
      "needs_background": "light"
     },
     "output_type": "display_data"
    }
   ],
   "source": [
    "# Q. tip_amount의 이상치를 확인합니다.\n",
    "\n",
    "# [[YOUR CODE]]\n",
    "sns.scatterplot(data=data, x=data.index, y='tip_amount') # 30넘는 3개?"
   ]
  },
  {
   "cell_type": "code",
   "execution_count": 37,
   "id": "4653b714",
   "metadata": {},
   "outputs": [],
   "source": [
    "# Q. tip_amount의 이상치를 제거합니다.\n",
    "\n",
    "# [[YOUR CODE]]\n",
    "data = data[data['tip_amount']<30]"
   ]
  },
  {
   "cell_type": "code",
   "execution_count": 38,
   "id": "321a5664",
   "metadata": {},
   "outputs": [
    {
     "data": {
      "text/plain": [
       "Cash           11117\n",
       "Debit Card      5738\n",
       "Credit Card     5685\n",
       "Name: payment_method, dtype: int64"
      ]
     },
     "execution_count": 38,
     "metadata": {},
     "output_type": "execute_result"
    }
   ],
   "source": [
    "## 02-05 범주형 데이터 전처리\n",
    "## 결제 방법: Debit Card와 Credit Card를 Card로 통합합니다.\n",
    "\n",
    "data.payment_method.value_counts()"
   ]
  },
  {
   "cell_type": "code",
   "execution_count": 40,
   "id": "def40ea4",
   "metadata": {},
   "outputs": [],
   "source": [
    "# replace 함수 활용\n",
    "data['payment_method'] = data['payment_method'].replace({'Debit Card':'Card', 'Credit Card':'Card'})"
   ]
  },
  {
   "cell_type": "code",
   "execution_count": 41,
   "id": "74ade3ee",
   "metadata": {},
   "outputs": [
    {
     "data": {
      "text/plain": [
       "Card    11423\n",
       "Cash    11117\n",
       "Name: payment_method, dtype: int64"
      ]
     },
     "execution_count": 41,
     "metadata": {},
     "output_type": "execute_result"
    }
   ],
   "source": [
    "# 제대로 되었는지 확인?\n",
    "data['payment_method'].value_counts()"
   ]
  },
  {
   "cell_type": "code",
   "execution_count": 50,
   "id": "305df26d",
   "metadata": {},
   "outputs": [
    {
     "data": {
      "text/plain": [
       "293        Deborah\n",
       "21979      Kathryn\n",
       "13795        Linda\n",
       "10925        Chase\n",
       "9665          John\n",
       "           ...    \n",
       "15891        Carol\n",
       "20958       Hannah\n",
       "1379      Jonathan\n",
       "17048    Alexander\n",
       "14467       Brooke\n",
       "Name: passenger_name, Length: 22540, dtype: object"
      ]
     },
     "execution_count": 50,
     "metadata": {},
     "output_type": "execute_result"
    }
   ],
   "source": [
    "# data['passenger_name'].str.split().str[0]"
   ]
  },
  {
   "cell_type": "code",
   "execution_count": 51,
   "id": "18dde067",
   "metadata": {},
   "outputs": [
    {
     "data": {
      "text/plain": [
       "293        Deborah Sanford\n",
       "21979    Kathryn Maldonado\n",
       "13795         Linda Taylor\n",
       "10925          Chase Clark\n",
       "9665         John Fletcher\n",
       "Name: passenger_name, dtype: object"
      ]
     },
     "execution_count": 51,
     "metadata": {},
     "output_type": "execute_result"
    }
   ],
   "source": [
    "data['passenger_name'].head()"
   ]
  },
  {
   "cell_type": "code",
   "execution_count": 57,
   "id": "c481e347",
   "metadata": {},
   "outputs": [
    {
     "data": {
      "text/plain": [
       "293        Deborah\n",
       "21979      Kathryn\n",
       "13795        Linda\n",
       "10925        Chase\n",
       "9665          John\n",
       "           ...    \n",
       "15891        Carol\n",
       "20958       Hannah\n",
       "1379      Jonathan\n",
       "17048    Alexander\n",
       "14467       Brooke\n",
       "Name: passenger_name, Length: 22540, dtype: object"
      ]
     },
     "execution_count": 57,
     "metadata": {},
     "output_type": "execute_result"
    }
   ],
   "source": [
    "data['passenger_name'].str.split().str[0]"
   ]
  },
  {
   "cell_type": "code",
   "execution_count": 55,
   "id": "0c9c8133",
   "metadata": {},
   "outputs": [
    {
     "data": {
      "text/html": [
       "<div>\n",
       "<style scoped>\n",
       "    .dataframe tbody tr th:only-of-type {\n",
       "        vertical-align: middle;\n",
       "    }\n",
       "\n",
       "    .dataframe tbody tr th {\n",
       "        vertical-align: top;\n",
       "    }\n",
       "\n",
       "    .dataframe thead th {\n",
       "        text-align: right;\n",
       "    }\n",
       "</style>\n",
       "<table border=\"1\" class=\"dataframe\">\n",
       "  <thead>\n",
       "    <tr style=\"text-align: right;\">\n",
       "      <th></th>\n",
       "      <th>passenger_name</th>\n",
       "      <th>tpep_pickup_datetime</th>\n",
       "      <th>tpep_dropoff_datetime</th>\n",
       "      <th>payment_method</th>\n",
       "      <th>passenger_count</th>\n",
       "      <th>trip_distance</th>\n",
       "      <th>fare_amount</th>\n",
       "      <th>tip_amount</th>\n",
       "      <th>tolls_amount</th>\n",
       "      <th>passenger_first_name</th>\n",
       "    </tr>\n",
       "  </thead>\n",
       "  <tbody>\n",
       "    <tr>\n",
       "      <th>293</th>\n",
       "      <td>Deborah Sanford</td>\n",
       "      <td>10/04/2017 7:46:24 PM</td>\n",
       "      <td>10/04/2017 7:46:50 PM</td>\n",
       "      <td>Cash</td>\n",
       "      <td>1</td>\n",
       "      <td>0.0</td>\n",
       "      <td>2.5</td>\n",
       "      <td>0.00</td>\n",
       "      <td>0.00</td>\n",
       "      <td>Deborah</td>\n",
       "    </tr>\n",
       "    <tr>\n",
       "      <th>21979</th>\n",
       "      <td>Kathryn Maldonado</td>\n",
       "      <td>08/08/2017 7:28:47 AM</td>\n",
       "      <td>08/08/2017 7:28:47 AM</td>\n",
       "      <td>Cash</td>\n",
       "      <td>2</td>\n",
       "      <td>0.0</td>\n",
       "      <td>10.5</td>\n",
       "      <td>0.00</td>\n",
       "      <td>0.00</td>\n",
       "      <td>Kathryn</td>\n",
       "    </tr>\n",
       "    <tr>\n",
       "      <th>13795</th>\n",
       "      <td>Linda Taylor</td>\n",
       "      <td>03/30/2017 11:23:50 AM</td>\n",
       "      <td>03/30/2017 11:23:57 AM</td>\n",
       "      <td>Card</td>\n",
       "      <td>1</td>\n",
       "      <td>0.0</td>\n",
       "      <td>52.0</td>\n",
       "      <td>10.55</td>\n",
       "      <td>0.00</td>\n",
       "      <td>Linda</td>\n",
       "    </tr>\n",
       "    <tr>\n",
       "      <th>10925</th>\n",
       "      <td>Chase Clark</td>\n",
       "      <td>11/23/2017 1:45:55 PM</td>\n",
       "      <td>11/23/2017 1:47:18 PM</td>\n",
       "      <td>Card</td>\n",
       "      <td>1</td>\n",
       "      <td>0.0</td>\n",
       "      <td>3.0</td>\n",
       "      <td>0.00</td>\n",
       "      <td>0.00</td>\n",
       "      <td>Chase</td>\n",
       "    </tr>\n",
       "    <tr>\n",
       "      <th>9665</th>\n",
       "      <td>John Fletcher</td>\n",
       "      <td>12/25/2017 10:01:06 PM</td>\n",
       "      <td>12/25/2017 10:01:32 PM</td>\n",
       "      <td>Card</td>\n",
       "      <td>2</td>\n",
       "      <td>0.0</td>\n",
       "      <td>52.0</td>\n",
       "      <td>16.56</td>\n",
       "      <td>13.45</td>\n",
       "      <td>John</td>\n",
       "    </tr>\n",
       "  </tbody>\n",
       "</table>\n",
       "</div>"
      ],
      "text/plain": [
       "          passenger_name    tpep_pickup_datetime   tpep_dropoff_datetime  \\\n",
       "293      Deborah Sanford   10/04/2017 7:46:24 PM   10/04/2017 7:46:50 PM   \n",
       "21979  Kathryn Maldonado   08/08/2017 7:28:47 AM   08/08/2017 7:28:47 AM   \n",
       "13795       Linda Taylor  03/30/2017 11:23:50 AM  03/30/2017 11:23:57 AM   \n",
       "10925        Chase Clark   11/23/2017 1:45:55 PM   11/23/2017 1:47:18 PM   \n",
       "9665       John Fletcher  12/25/2017 10:01:06 PM  12/25/2017 10:01:32 PM   \n",
       "\n",
       "      payment_method  passenger_count  trip_distance  fare_amount  tip_amount  \\\n",
       "293             Cash                1            0.0          2.5        0.00   \n",
       "21979           Cash                2            0.0         10.5        0.00   \n",
       "13795           Card                1            0.0         52.0       10.55   \n",
       "10925           Card                1            0.0          3.0        0.00   \n",
       "9665            Card                2            0.0         52.0       16.56   \n",
       "\n",
       "       tolls_amount passenger_first_name  \n",
       "293            0.00              Deborah  \n",
       "21979          0.00              Kathryn  \n",
       "13795          0.00                Linda  \n",
       "10925          0.00                Chase  \n",
       "9665          13.45                 John  "
      ]
     },
     "execution_count": 55,
     "metadata": {},
     "output_type": "execute_result"
    }
   ],
   "source": [
    "data['passenger_first_name'] = data['passenger_name'].str.split().str[0]\n",
    "data.head()"
   ]
  },
  {
   "cell_type": "code",
   "execution_count": 61,
   "id": "bac2d4e5",
   "metadata": {},
   "outputs": [
    {
     "name": "stdout",
     "output_type": "stream",
     "text": [
      "<class 'pandas.core.frame.DataFrame'>\n",
      "Int64Index: 22540 entries, 293 to 14467\n",
      "Data columns (total 10 columns):\n",
      " #   Column                 Non-Null Count  Dtype  \n",
      "---  ------                 --------------  -----  \n",
      " 0   passenger_name         22540 non-null  object \n",
      " 1   tpep_pickup_datetime   22540 non-null  object \n",
      " 2   tpep_dropoff_datetime  22540 non-null  object \n",
      " 3   payment_method         22540 non-null  object \n",
      " 4   passenger_count        22540 non-null  int64  \n",
      " 5   trip_distance          22540 non-null  float64\n",
      " 6   fare_amount            22540 non-null  float64\n",
      " 7   tip_amount             22540 non-null  float64\n",
      " 8   tolls_amount           22540 non-null  float64\n",
      " 9   passenger_first_name   22540 non-null  object \n",
      "dtypes: float64(4), int64(1), object(5)\n",
      "memory usage: 2.4+ MB\n"
     ]
    }
   ],
   "source": [
    "## 시간형 자료?\n",
    "data.info() #  tpep_pickup_datetime, tpep_dropoff_datetime object  "
   ]
  },
  {
   "cell_type": "code",
   "execution_count": 62,
   "id": "145f9eb4",
   "metadata": {},
   "outputs": [],
   "source": [
    "from datetime import datetime\n",
    "data['tpep_pickup_datetime'] = pd.to_datetime(data['tpep_pickup_datetime']) # datetime 변환"
   ]
  },
  {
   "cell_type": "code",
   "execution_count": 63,
   "id": "6a468c89",
   "metadata": {},
   "outputs": [],
   "source": [
    "data['tpep_dropoff_datetime'] = pd.to_datetime(data['tpep_dropoff_datetime']) # datetime 변환"
   ]
  },
  {
   "cell_type": "code",
   "execution_count": 64,
   "id": "36c5cc92",
   "metadata": {},
   "outputs": [],
   "source": [
    "# Q. 하차 시각과 승차 시각의 차이를 travel_time 컬럼으로 저장합니다.\n",
    "# [[YOUR CODE]]\n",
    "\n",
    "data['travel_time'] = data['tpep_dropoff_datetime']-data['tpep_pickup_datetime']"
   ]
  },
  {
   "cell_type": "code",
   "execution_count": 66,
   "id": "325cd59e",
   "metadata": {},
   "outputs": [
    {
     "data": {
      "text/plain": [
       "10925   0 days 00:01:23\n",
       "293     0 days 00:00:26\n",
       "9665    0 days 00:00:26\n",
       "13795   0 days 00:00:07\n",
       "21979   0 days 00:00:00\n",
       "Name: travel_time, dtype: timedelta64[ns]"
      ]
     },
     "execution_count": 66,
     "metadata": {},
     "output_type": "execute_result"
    }
   ],
   "source": [
    "data['travel_time'].head().sort_values(ascending=False)"
   ]
  },
  {
   "cell_type": "code",
   "execution_count": 67,
   "id": "04a12087",
   "metadata": {},
   "outputs": [
    {
     "data": {
      "text/html": [
       "<div>\n",
       "<style scoped>\n",
       "    .dataframe tbody tr th:only-of-type {\n",
       "        vertical-align: middle;\n",
       "    }\n",
       "\n",
       "    .dataframe tbody tr th {\n",
       "        vertical-align: top;\n",
       "    }\n",
       "\n",
       "    .dataframe thead th {\n",
       "        text-align: right;\n",
       "    }\n",
       "</style>\n",
       "<table border=\"1\" class=\"dataframe\">\n",
       "  <thead>\n",
       "    <tr style=\"text-align: right;\">\n",
       "      <th></th>\n",
       "      <th>passenger_name</th>\n",
       "      <th>tpep_pickup_datetime</th>\n",
       "      <th>tpep_dropoff_datetime</th>\n",
       "      <th>payment_method</th>\n",
       "      <th>passenger_count</th>\n",
       "      <th>trip_distance</th>\n",
       "      <th>fare_amount</th>\n",
       "      <th>tip_amount</th>\n",
       "      <th>tolls_amount</th>\n",
       "      <th>passenger_first_name</th>\n",
       "      <th>travel_time</th>\n",
       "    </tr>\n",
       "  </thead>\n",
       "  <tbody>\n",
       "    <tr>\n",
       "      <th>9665</th>\n",
       "      <td>John Fletcher</td>\n",
       "      <td>2017-12-25 22:01:06</td>\n",
       "      <td>2017-12-25 22:01:32</td>\n",
       "      <td>Card</td>\n",
       "      <td>2</td>\n",
       "      <td>0.00</td>\n",
       "      <td>52.0</td>\n",
       "      <td>16.56</td>\n",
       "      <td>13.45</td>\n",
       "      <td>John</td>\n",
       "      <td>0 days 00:00:26</td>\n",
       "    </tr>\n",
       "    <tr>\n",
       "      <th>1451</th>\n",
       "      <td>Amy Williams</td>\n",
       "      <td>2017-10-28 19:41:58</td>\n",
       "      <td>2017-10-28 19:42:11</td>\n",
       "      <td>Cash</td>\n",
       "      <td>1</td>\n",
       "      <td>0.00</td>\n",
       "      <td>52.0</td>\n",
       "      <td>4.44</td>\n",
       "      <td>5.76</td>\n",
       "      <td>Amy</td>\n",
       "      <td>0 days 00:00:13</td>\n",
       "    </tr>\n",
       "    <tr>\n",
       "      <th>4912</th>\n",
       "      <td>Michael Holmes</td>\n",
       "      <td>2017-12-05 13:04:45</td>\n",
       "      <td>2017-12-05 13:05:00</td>\n",
       "      <td>Cash</td>\n",
       "      <td>1</td>\n",
       "      <td>0.00</td>\n",
       "      <td>52.0</td>\n",
       "      <td>11.70</td>\n",
       "      <td>5.76</td>\n",
       "      <td>Michael</td>\n",
       "      <td>0 days 00:00:15</td>\n",
       "    </tr>\n",
       "    <tr>\n",
       "      <th>1519</th>\n",
       "      <td>Lindsey Coleman</td>\n",
       "      <td>2017-06-24 06:55:30</td>\n",
       "      <td>2017-06-24 06:55:52</td>\n",
       "      <td>Cash</td>\n",
       "      <td>1</td>\n",
       "      <td>0.00</td>\n",
       "      <td>59.0</td>\n",
       "      <td>5.00</td>\n",
       "      <td>5.76</td>\n",
       "      <td>Lindsey</td>\n",
       "      <td>0 days 00:00:22</td>\n",
       "    </tr>\n",
       "    <tr>\n",
       "      <th>11009</th>\n",
       "      <td>Jordan Peterson</td>\n",
       "      <td>2017-12-29 16:15:19</td>\n",
       "      <td>2017-12-29 16:15:33</td>\n",
       "      <td>Card</td>\n",
       "      <td>1</td>\n",
       "      <td>0.00</td>\n",
       "      <td>52.0</td>\n",
       "      <td>0.00</td>\n",
       "      <td>5.76</td>\n",
       "      <td>Jordan</td>\n",
       "      <td>0 days 00:00:14</td>\n",
       "    </tr>\n",
       "    <tr>\n",
       "      <th>...</th>\n",
       "      <td>...</td>\n",
       "      <td>...</td>\n",
       "      <td>...</td>\n",
       "      <td>...</td>\n",
       "      <td>...</td>\n",
       "      <td>...</td>\n",
       "      <td>...</td>\n",
       "      <td>...</td>\n",
       "      <td>...</td>\n",
       "      <td>...</td>\n",
       "      <td>...</td>\n",
       "    </tr>\n",
       "    <tr>\n",
       "      <th>12585</th>\n",
       "      <td>Christopher Lewis</td>\n",
       "      <td>2017-08-20 20:13:43</td>\n",
       "      <td>2017-08-20 20:57:40</td>\n",
       "      <td>Cash</td>\n",
       "      <td>1</td>\n",
       "      <td>19.90</td>\n",
       "      <td>52.0</td>\n",
       "      <td>11.70</td>\n",
       "      <td>5.76</td>\n",
       "      <td>Christopher</td>\n",
       "      <td>0 days 00:43:57</td>\n",
       "    </tr>\n",
       "    <tr>\n",
       "      <th>15891</th>\n",
       "      <td>Carol Sampson</td>\n",
       "      <td>2017-04-22 11:04:29</td>\n",
       "      <td>2017-04-22 11:53:00</td>\n",
       "      <td>Cash</td>\n",
       "      <td>1</td>\n",
       "      <td>19.91</td>\n",
       "      <td>52.0</td>\n",
       "      <td>0.00</td>\n",
       "      <td>5.76</td>\n",
       "      <td>Carol</td>\n",
       "      <td>0 days 00:48:31</td>\n",
       "    </tr>\n",
       "    <tr>\n",
       "      <th>1379</th>\n",
       "      <td>Jonathan Nicholson</td>\n",
       "      <td>2017-02-27 13:27:16</td>\n",
       "      <td>2017-02-27 14:14:26</td>\n",
       "      <td>Cash</td>\n",
       "      <td>2</td>\n",
       "      <td>19.99</td>\n",
       "      <td>52.0</td>\n",
       "      <td>14.58</td>\n",
       "      <td>5.54</td>\n",
       "      <td>Jonathan</td>\n",
       "      <td>0 days 00:47:10</td>\n",
       "    </tr>\n",
       "    <tr>\n",
       "      <th>17048</th>\n",
       "      <td>Alexander Carr</td>\n",
       "      <td>2017-06-03 06:47:42</td>\n",
       "      <td>2017-06-03 07:17:08</td>\n",
       "      <td>Card</td>\n",
       "      <td>1</td>\n",
       "      <td>20.00</td>\n",
       "      <td>70.5</td>\n",
       "      <td>17.45</td>\n",
       "      <td>16.50</td>\n",
       "      <td>Alexander</td>\n",
       "      <td>0 days 00:29:26</td>\n",
       "    </tr>\n",
       "    <tr>\n",
       "      <th>14467</th>\n",
       "      <td>Brooke Williams</td>\n",
       "      <td>2017-05-26 11:15:45</td>\n",
       "      <td>2017-05-26 12:04:06</td>\n",
       "      <td>Cash</td>\n",
       "      <td>4</td>\n",
       "      <td>20.00</td>\n",
       "      <td>52.0</td>\n",
       "      <td>12.44</td>\n",
       "      <td>5.76</td>\n",
       "      <td>Brooke</td>\n",
       "      <td>0 days 00:48:21</td>\n",
       "    </tr>\n",
       "  </tbody>\n",
       "</table>\n",
       "<p>1073 rows × 11 columns</p>\n",
       "</div>"
      ],
      "text/plain": [
       "           passenger_name tpep_pickup_datetime tpep_dropoff_datetime  \\\n",
       "9665        John Fletcher  2017-12-25 22:01:06   2017-12-25 22:01:32   \n",
       "1451         Amy Williams  2017-10-28 19:41:58   2017-10-28 19:42:11   \n",
       "4912       Michael Holmes  2017-12-05 13:04:45   2017-12-05 13:05:00   \n",
       "1519      Lindsey Coleman  2017-06-24 06:55:30   2017-06-24 06:55:52   \n",
       "11009     Jordan Peterson  2017-12-29 16:15:19   2017-12-29 16:15:33   \n",
       "...                   ...                  ...                   ...   \n",
       "12585   Christopher Lewis  2017-08-20 20:13:43   2017-08-20 20:57:40   \n",
       "15891       Carol Sampson  2017-04-22 11:04:29   2017-04-22 11:53:00   \n",
       "1379   Jonathan Nicholson  2017-02-27 13:27:16   2017-02-27 14:14:26   \n",
       "17048      Alexander Carr  2017-06-03 06:47:42   2017-06-03 07:17:08   \n",
       "14467     Brooke Williams  2017-05-26 11:15:45   2017-05-26 12:04:06   \n",
       "\n",
       "      payment_method  passenger_count  trip_distance  fare_amount  tip_amount  \\\n",
       "9665            Card                2           0.00         52.0       16.56   \n",
       "1451            Cash                1           0.00         52.0        4.44   \n",
       "4912            Cash                1           0.00         52.0       11.70   \n",
       "1519            Cash                1           0.00         59.0        5.00   \n",
       "11009           Card                1           0.00         52.0        0.00   \n",
       "...              ...              ...            ...          ...         ...   \n",
       "12585           Cash                1          19.90         52.0       11.70   \n",
       "15891           Cash                1          19.91         52.0        0.00   \n",
       "1379            Cash                2          19.99         52.0       14.58   \n",
       "17048           Card                1          20.00         70.5       17.45   \n",
       "14467           Cash                4          20.00         52.0       12.44   \n",
       "\n",
       "       tolls_amount passenger_first_name     travel_time  \n",
       "9665          13.45                 John 0 days 00:00:26  \n",
       "1451           5.76                  Amy 0 days 00:00:13  \n",
       "4912           5.76              Michael 0 days 00:00:15  \n",
       "1519           5.76              Lindsey 0 days 00:00:22  \n",
       "11009          5.76               Jordan 0 days 00:00:14  \n",
       "...             ...                  ...             ...  \n",
       "12585          5.76          Christopher 0 days 00:43:57  \n",
       "15891          5.76                Carol 0 days 00:48:31  \n",
       "1379           5.54             Jonathan 0 days 00:47:10  \n",
       "17048         16.50            Alexander 0 days 00:29:26  \n",
       "14467          5.76               Brooke 0 days 00:48:21  \n",
       "\n",
       "[1073 rows x 11 columns]"
      ]
     },
     "execution_count": 67,
     "metadata": {},
     "output_type": "execute_result"
    }
   ],
   "source": [
    "data[data['tolls_amount']>0]"
   ]
  },
  {
   "cell_type": "code",
   "execution_count": 68,
   "id": "f1869593",
   "metadata": {},
   "outputs": [],
   "source": [
    "# Q. 승객이 지불한 총 요금을 total_amount 컬럼으로 저장합니다.\n",
    "\n",
    "# [[YOUR CODE]]\n",
    "# fare_amount, tip_amount, tolls_amount의 합\n",
    "data['total_amount'] = data['fare_amount'] + data['tip_amount'] + data['tolls_amount']"
   ]
  },
  {
   "cell_type": "code",
   "execution_count": 69,
   "id": "e018dfd1",
   "metadata": {},
   "outputs": [
    {
     "data": {
      "text/plain": [
       "<AxesSubplot:xlabel='fare_amount', ylabel='trip_distance'>"
      ]
     },
     "execution_count": 69,
     "metadata": {},
     "output_type": "execute_result"
    },
    {
     "data": {
      "image/png": "[encoded data removed]",
      "text/plain": [
       "<Figure size 432x288 with 1 Axes>"
      ]
     },
     "metadata": {
      "needs_background": "light"
     },
     "output_type": "display_data"
    }
   ],
   "source": [
    "# Q. fare_amount와 trip_distance 사이의 관계를 scatter plot으로 표현합니다.\n",
    "\n",
    "# [[YOUR CODE]]\n",
    "\n",
    "sns.scatterplot(data = data, x= 'fare_amount', y='trip_distance')"
   ]
  },
  {
   "cell_type": "code",
   "execution_count": 71,
   "id": "f7dd8204",
   "metadata": {},
   "outputs": [
    {
     "data": {
      "text/plain": [
       "<AxesSubplot:xlabel='trip_distance', ylabel='travel_time'>"
      ]
     },
     "execution_count": 71,
     "metadata": {},
     "output_type": "execute_result"
    },
    {
     "data": {
      "image/png": "[encoded data removed]",
      "text/plain": [
       "<Figure size 432x288 with 1 Axes>"
      ]
     },
     "metadata": {
      "needs_background": "light"
     },
     "output_type": "display_data"
    }
   ],
   "source": [
    "# Q. trip_distance와 travel_time 사이의 관계를 scatter plot으로 표현합니다.\n",
    "\n",
    "# [[YOUR CODE]]\n",
    "# 초 단위로 변환 필요\n",
    "data['travel_time'] = data['travel_time'].dt.total_seconds()\n",
    "sns.scatterplot(data = data, x = 'trip_distance', y = 'travel_time')"
   ]
  },
  {
   "cell_type": "code",
   "execution_count": 72,
   "id": "5a62a072",
   "metadata": {},
   "outputs": [],
   "source": [
    "# Q. scatter plot으로 관찰된 travel_time의 이상치를 제거합니다.\n",
    "\n",
    "# [[YOUR CODE]]\n",
    "# 20000초, 초과하는 경우 이상을 이상치로 판단\n",
    "\n",
    "data = data[data['travel_time']< 20000]"
   ]
  },
  {
   "cell_type": "code",
   "execution_count": 73,
   "id": "56e726b8",
   "metadata": {},
   "outputs": [
    {
     "data": {
      "text/plain": [
       "<AxesSubplot:xlabel='trip_distance', ylabel='travel_time'>"
      ]
     },
     "execution_count": 73,
     "metadata": {},
     "output_type": "execute_result"
    },
    {
     "data": {
      "image/png": "[encoded data removed]",
      "text/plain": [
       "<Figure size 432x288 with 1 Axes>"
      ]
     },
     "metadata": {
      "needs_background": "light"
     },
     "output_type": "display_data"
    }
   ],
   "source": [
    "sns.scatterplot(data = data, x = 'trip_distance', y = 'travel_time')"
   ]
  },
  {
   "cell_type": "code",
   "execution_count": null,
   "id": "67c54632",
   "metadata": {},
   "outputs": [],
   "source": []
  }
 ],
 "metadata": {
  "kernelspec": {
   "display_name": "Python 3 (ipykernel)",
   "language": "python",
   "name": "python3"
  },
  "language_info": {
   "codemirror_mode": {
    "name": "ipython",
    "version": 3
   },
   "file_extension": ".py",
   "mimetype": "text/x-python",
   "name": "python",
   "nbconvert_exporter": "python",
   "pygments_lexer": "ipython3",
   "version": "3.9.7"
  }
 },
 "nbformat": 4,
 "nbformat_minor": 5
}
